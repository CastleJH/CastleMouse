{
  "nbformat": 4,
  "nbformat_minor": 0,
  "metadata": {
    "kernelspec": {
      "name": "python3",
      "display_name": "Python 3"
    },
    "colab": {
      "name": "exercise_5_2.ipynb",
      "provenance": [],
      "collapsed_sections": []
    },
    "accelerator": "GPU"
  },
  "cells": [
    {
      "cell_type": "code",
      "metadata": {
        "id": "PnULxtv4ejh4",
        "colab_type": "code",
        "colab": {}
      },
      "source": [
        "from fastai.collab import *\n",
        "from fastai.tabular import *"
      ],
      "execution_count": 0,
      "outputs": []
    },
    {
      "cell_type": "code",
      "metadata": {
        "id": "3DUu2k1-6u3r",
        "colab_type": "code",
        "colab": {
          "base_uri": "https://localhost:8080/",
          "height": 54
        },
        "outputId": "40b1ce15-b868-48be-b7dc-dc05696b2461"
      },
      "source": [
        "'''from google.colab import drive\n",
        "drive.mount('/content/gdrive', force_remount=True)\n",
        "root_dir = \"/content/gdrive/My Drive/\"\n",
        "base_dir = root_dir + 'fastai-v3/'''"
      ],
      "execution_count": 2,
      "outputs": [
        {
          "output_type": "execute_result",
          "data": {
            "text/plain": [
              "'from google.colab import drive\\ndrive.mount(\\'/content/gdrive\\', force_remount=True)\\nroot_dir = \"/content/gdrive/My Drive/\"\\nbase_dir = root_dir + \\'fastai-v3/'"
            ]
          },
          "metadata": {
            "tags": []
          },
          "execution_count": 2
        }
      ]
    },
    {
      "cell_type": "markdown",
      "metadata": {
        "id": "Lkh2dnUd-5fA",
        "colab_type": "text"
      },
      "source": [
        "뒤에서 파일 업로드를 빠르게 하기 위해 마운트 했다. 노트북을 다시 실행하는 경우 넘어가기 위해 일부러 묶었다."
      ]
    },
    {
      "cell_type": "markdown",
      "metadata": {
        "id": "A5Vh9-ufejiI",
        "colab_type": "text"
      },
      "source": [
        "## Collaborative filtering example"
      ]
    },
    {
      "cell_type": "markdown",
      "metadata": {
        "id": "9IiCb_wh0o_3",
        "colab_type": "text"
      },
      "source": [
        "collaborative filtering(협업 필터링)은 사용자들로부터 얻은 기호정보에 따라 \"사용자들의 관심사들을 자동적으로 예측\"하게 해주는 방법이다. 내 추천 광고가 자동으로 뜨는 것도 아마 이 collaborative filtering의 예시일것 같다.\n",
        "\n",
        "이번 목표는 내가 좋아하는 주제인 영화에 대한거라 더 흥미로웠다. 뒤에 결과를 분석하는 부분에서도 어떤 의미인지 딱 느껴지니까 재미있었다."
      ]
    },
    {
      "cell_type": "markdown",
      "metadata": {
        "id": "yHPGc1dtejiK",
        "colab_type": "text"
      },
      "source": [
        "`collab` models use data in a `DataFrame` of user, items, and ratings."
      ]
    },
    {
      "cell_type": "code",
      "metadata": {
        "id": "ggSC0FotejiO",
        "colab_type": "code",
        "colab": {}
      },
      "source": [
        "user,item,title = 'userId','movieId','title'"
      ],
      "execution_count": 0,
      "outputs": []
    },
    {
      "cell_type": "markdown",
      "metadata": {
        "id": "AN1yt1-rCM1b",
        "colab_type": "text"
      },
      "source": [
        "아래에서 반복해서 계속 쓰일 것이다."
      ]
    },
    {
      "cell_type": "code",
      "metadata": {
        "colab_type": "code",
        "outputId": "757f6ced-abe1-4f17-c7a2-1a71fba82e0e",
        "id": "ECPiGEUx8ULd",
        "colab": {
          "base_uri": "https://localhost:8080/",
          "height": 34
        }
      },
      "source": [
        "path = untar_data(URLs.ML_SAMPLE)\n",
        "path"
      ],
      "execution_count": 4,
      "outputs": [
        {
          "output_type": "execute_result",
          "data": {
            "text/plain": [
              "PosixPath('/root/.fastai/data/movie_lens_sample')"
            ]
          },
          "metadata": {
            "tags": []
          },
          "execution_count": 4
        }
      ]
    },
    {
      "cell_type": "markdown",
      "metadata": {
        "id": "LOTiPRXG1kiO",
        "colab_type": "text"
      },
      "source": [
        "우선, 지난시간의 imdb처럼 샘플 버전으로 간단한 테스트를 해보겠다. 이번에 우리가 할 것은 어떤 영화를 사용자가 좋아할지 좋아하지 않을 지 예측하는 것이다."
      ]
    },
    {
      "cell_type": "code",
      "metadata": {
        "id": "UaPY4kScejio",
        "colab_type": "code",
        "outputId": "56ca4a93-8b81-47df-eb56-860d4624436f",
        "colab": {
          "base_uri": "https://localhost:8080/",
          "height": 204
        }
      },
      "source": [
        "ratings = pd.read_csv(path/'ratings.csv')\n",
        "ratings.head()"
      ],
      "execution_count": 5,
      "outputs": [
        {
          "output_type": "execute_result",
          "data": {
            "text/html": [
              "<div>\n",
              "<style scoped>\n",
              "    .dataframe tbody tr th:only-of-type {\n",
              "        vertical-align: middle;\n",
              "    }\n",
              "\n",
              "    .dataframe tbody tr th {\n",
              "        vertical-align: top;\n",
              "    }\n",
              "\n",
              "    .dataframe thead th {\n",
              "        text-align: right;\n",
              "    }\n",
              "</style>\n",
              "<table border=\"1\" class=\"dataframe\">\n",
              "  <thead>\n",
              "    <tr style=\"text-align: right;\">\n",
              "      <th></th>\n",
              "      <th>userId</th>\n",
              "      <th>movieId</th>\n",
              "      <th>rating</th>\n",
              "      <th>timestamp</th>\n",
              "    </tr>\n",
              "  </thead>\n",
              "  <tbody>\n",
              "    <tr>\n",
              "      <th>0</th>\n",
              "      <td>73</td>\n",
              "      <td>1097</td>\n",
              "      <td>4.0</td>\n",
              "      <td>1255504951</td>\n",
              "    </tr>\n",
              "    <tr>\n",
              "      <th>1</th>\n",
              "      <td>561</td>\n",
              "      <td>924</td>\n",
              "      <td>3.5</td>\n",
              "      <td>1172695223</td>\n",
              "    </tr>\n",
              "    <tr>\n",
              "      <th>2</th>\n",
              "      <td>157</td>\n",
              "      <td>260</td>\n",
              "      <td>3.5</td>\n",
              "      <td>1291598691</td>\n",
              "    </tr>\n",
              "    <tr>\n",
              "      <th>3</th>\n",
              "      <td>358</td>\n",
              "      <td>1210</td>\n",
              "      <td>5.0</td>\n",
              "      <td>957481884</td>\n",
              "    </tr>\n",
              "    <tr>\n",
              "      <th>4</th>\n",
              "      <td>130</td>\n",
              "      <td>316</td>\n",
              "      <td>2.0</td>\n",
              "      <td>1138999234</td>\n",
              "    </tr>\n",
              "  </tbody>\n",
              "</table>\n",
              "</div>"
            ],
            "text/plain": [
              "   userId  movieId  rating   timestamp\n",
              "0      73     1097     4.0  1255504951\n",
              "1     561      924     3.5  1172695223\n",
              "2     157      260     3.5  1291598691\n",
              "3     358     1210     5.0   957481884\n",
              "4     130      316     2.0  1138999234"
            ]
          },
          "metadata": {
            "tags": []
          },
          "execution_count": 5
        }
      ]
    },
    {
      "cell_type": "markdown",
      "metadata": {
        "id": "uy9EsEtl1zm4",
        "colab_type": "text"
      },
      "source": [
        "csv이므로 마찬가지로 pandas로 읽어보면 다음과 같은 내용을 읽을 수 있다. 유저 id, 영화 id(아마도 특정 영화 제목을 의미할 것), 평점, 그리고 timestamp(?)가 있다. 타임스탬프가 뭔지 찾아보니 특정한 시각을 나타내는 문자열이라고 한다. "
      ]
    },
    {
      "cell_type": "markdown",
      "metadata": {
        "id": "BiWW1izEejiw",
        "colab_type": "text"
      },
      "source": [
        "That's all we need to create and train a model:"
      ]
    },
    {
      "cell_type": "code",
      "metadata": {
        "id": "ptpHJzcNejix",
        "colab_type": "code",
        "colab": {}
      },
      "source": [
        "data = CollabDataBunch.from_df(ratings, seed=42)"
      ],
      "execution_count": 0,
      "outputs": []
    },
    {
      "cell_type": "markdown",
      "metadata": {
        "id": "fDC-xVzh2peu",
        "colab_type": "text"
      },
      "source": [
        "Data Bunch를 만들고,"
      ]
    },
    {
      "cell_type": "code",
      "metadata": {
        "id": "cJ2t828veji2",
        "colab_type": "code",
        "colab": {}
      },
      "source": [
        "y_range = [0,5.5]"
      ],
      "execution_count": 0,
      "outputs": []
    },
    {
      "cell_type": "code",
      "metadata": {
        "id": "3qnH-mlHeji8",
        "colab_type": "code",
        "colab": {}
      },
      "source": [
        "learn = collab_learner(data, n_factors=50, y_range=y_range)"
      ],
      "execution_count": 0,
      "outputs": []
    },
    {
      "cell_type": "markdown",
      "metadata": {
        "id": "toUP-Ido2riA",
        "colab_type": "text"
      },
      "source": [
        "Learner를 만들고, "
      ]
    },
    {
      "cell_type": "code",
      "metadata": {
        "id": "T92cWhGnejjA",
        "colab_type": "code",
        "outputId": "bac9ddf6-082b-42b7-b72b-4ed19c9667c2",
        "colab": {
          "base_uri": "https://localhost:8080/",
          "height": 142
        }
      },
      "source": [
        "learn.fit_one_cycle(3, 5e-3)"
      ],
      "execution_count": 9,
      "outputs": [
        {
          "output_type": "display_data",
          "data": {
            "text/html": [
              "<table border=\"1\" class=\"dataframe\">\n",
              "  <thead>\n",
              "    <tr style=\"text-align: left;\">\n",
              "      <th>epoch</th>\n",
              "      <th>train_loss</th>\n",
              "      <th>valid_loss</th>\n",
              "      <th>time</th>\n",
              "    </tr>\n",
              "  </thead>\n",
              "  <tbody>\n",
              "    <tr>\n",
              "      <td>0</td>\n",
              "      <td>1.600266</td>\n",
              "      <td>0.919592</td>\n",
              "      <td>00:01</td>\n",
              "    </tr>\n",
              "    <tr>\n",
              "      <td>1</td>\n",
              "      <td>0.854944</td>\n",
              "      <td>0.679621</td>\n",
              "      <td>00:01</td>\n",
              "    </tr>\n",
              "    <tr>\n",
              "      <td>2</td>\n",
              "      <td>0.656859</td>\n",
              "      <td>0.674088</td>\n",
              "      <td>00:01</td>\n",
              "    </tr>\n",
              "  </tbody>\n",
              "</table>"
            ],
            "text/plain": [
              "<IPython.core.display.HTML object>"
            ]
          },
          "metadata": {
            "tags": []
          }
        }
      ]
    },
    {
      "cell_type": "markdown",
      "metadata": {
        "id": "grClJgnN2uEO",
        "colab_type": "text"
      },
      "source": [
        "fitting을 해준다. 이런식으로 어떤 id의 유저가 어떤 영화를 좋아할지 아닐지 예측할 수 있다."
      ]
    },
    {
      "cell_type": "markdown",
      "metadata": {
        "id": "KMx7S-YvejjE",
        "colab_type": "text"
      },
      "source": [
        "## Movielens 100k"
      ]
    },
    {
      "cell_type": "markdown",
      "metadata": {
        "id": "idifsjR9ejjE",
        "colab_type": "text"
      },
      "source": [
        "Let's try with the full Movielens 100k data dataset, available from http://files.grouplens.org/datasets/movielens/ml-100k.zip"
      ]
    },
    {
      "cell_type": "code",
      "metadata": {
        "id": "_nc3JuzaejjF",
        "colab_type": "code",
        "outputId": "83f79a1b-f17f-4fe4-bc72-48e6146cdf4e",
        "colab": {
          "base_uri": "https://localhost:8080/",
          "height": 34
        }
      },
      "source": [
        "path=Config.data_path()/'ml-100k'\n",
        "path.mkdir(parents=True, exist_ok=True)\n",
        "path"
      ],
      "execution_count": 10,
      "outputs": [
        {
          "output_type": "execute_result",
          "data": {
            "text/plain": [
              "PosixPath('/root/.fastai/data/ml-100k')"
            ]
          },
          "metadata": {
            "tags": []
          },
          "execution_count": 10
        }
      ]
    },
    {
      "cell_type": "code",
      "metadata": {
        "id": "u8dXpikX-HNm",
        "colab_type": "code",
        "colab": {
          "base_uri": "https://localhost:8080/",
          "height": 54
        },
        "outputId": "bc906ef2-b005-42e2-a550-d9e319e53873"
      },
      "source": [
        "'''!mv '/content/gdrive/My Drive/fastai-v3/u.data' '/root/.fastai/data/ml-100k'\n",
        "!mv '/content/gdrive/My Drive/fastai-v3/u.item' '/root/.fastai/data/ml-100k'''"
      ],
      "execution_count": 11,
      "outputs": [
        {
          "output_type": "execute_result",
          "data": {
            "text/plain": [
              "\"!mv '/content/gdrive/My Drive/fastai-v3/u.data' '/root/.fastai/data/ml-100k'\\n!mv '/content/gdrive/My Drive/fastai-v3/u.item' '/root/.fastai/data/ml-100k\""
            ]
          },
          "metadata": {
            "tags": []
          },
          "execution_count": 11
        }
      ]
    },
    {
      "cell_type": "markdown",
      "metadata": {
        "id": "GV5cRCed_FlJ",
        "colab_type": "text"
      },
      "source": [
        "빠르게 업로드하기 위해 파일을 구글 드라이브에 넣은 후 path로 옮겼다."
      ]
    },
    {
      "cell_type": "code",
      "metadata": {
        "id": "6HghgMVDejjI",
        "colab_type": "code",
        "outputId": "c87a0759-2336-4d40-ffe2-dbaba92a11d2",
        "colab": {
          "base_uri": "https://localhost:8080/",
          "height": 204
        }
      },
      "source": [
        "ratings = pd.read_csv(path/'u.data', delimiter='\\t', header=None,\n",
        "                      names=[user,item,'rating','timestamp'])\n",
        "ratings.head()"
      ],
      "execution_count": 12,
      "outputs": [
        {
          "output_type": "execute_result",
          "data": {
            "text/html": [
              "<div>\n",
              "<style scoped>\n",
              "    .dataframe tbody tr th:only-of-type {\n",
              "        vertical-align: middle;\n",
              "    }\n",
              "\n",
              "    .dataframe tbody tr th {\n",
              "        vertical-align: top;\n",
              "    }\n",
              "\n",
              "    .dataframe thead th {\n",
              "        text-align: right;\n",
              "    }\n",
              "</style>\n",
              "<table border=\"1\" class=\"dataframe\">\n",
              "  <thead>\n",
              "    <tr style=\"text-align: right;\">\n",
              "      <th></th>\n",
              "      <th>userId</th>\n",
              "      <th>movieId</th>\n",
              "      <th>rating</th>\n",
              "      <th>timestamp</th>\n",
              "    </tr>\n",
              "  </thead>\n",
              "  <tbody>\n",
              "    <tr>\n",
              "      <th>0</th>\n",
              "      <td>196</td>\n",
              "      <td>242</td>\n",
              "      <td>3</td>\n",
              "      <td>881250949</td>\n",
              "    </tr>\n",
              "    <tr>\n",
              "      <th>1</th>\n",
              "      <td>186</td>\n",
              "      <td>302</td>\n",
              "      <td>3</td>\n",
              "      <td>891717742</td>\n",
              "    </tr>\n",
              "    <tr>\n",
              "      <th>2</th>\n",
              "      <td>22</td>\n",
              "      <td>377</td>\n",
              "      <td>1</td>\n",
              "      <td>878887116</td>\n",
              "    </tr>\n",
              "    <tr>\n",
              "      <th>3</th>\n",
              "      <td>244</td>\n",
              "      <td>51</td>\n",
              "      <td>2</td>\n",
              "      <td>880606923</td>\n",
              "    </tr>\n",
              "    <tr>\n",
              "      <th>4</th>\n",
              "      <td>166</td>\n",
              "      <td>346</td>\n",
              "      <td>1</td>\n",
              "      <td>886397596</td>\n",
              "    </tr>\n",
              "  </tbody>\n",
              "</table>\n",
              "</div>"
            ],
            "text/plain": [
              "   userId  movieId  rating  timestamp\n",
              "0     196      242       3  881250949\n",
              "1     186      302       3  891717742\n",
              "2      22      377       1  878887116\n",
              "3     244       51       2  880606923\n",
              "4     166      346       1  886397596"
            ]
          },
          "metadata": {
            "tags": []
          },
          "execution_count": 12
        }
      ]
    },
    {
      "cell_type": "markdown",
      "metadata": {
        "id": "BNCJHZdDA1FJ",
        "colab_type": "text"
      },
      "source": [
        "u.data를 읽으니 유저가 특정영화에 대해 어떤 평가를 내렸는지를 모아놓은 데이터임을 알 수 있다.\n",
        "\n",
        "이제 ratings는 평가가 저장된 변수다."
      ]
    },
    {
      "cell_type": "code",
      "metadata": {
        "id": "6_XB8LXxejjN",
        "colab_type": "code",
        "colab": {
          "base_uri": "https://localhost:8080/",
          "height": 394
        },
        "outputId": "67324c51-1fda-4c70-8c4d-049296c54fce"
      },
      "source": [
        "movies = pd.read_csv(path/'u.item',  delimiter='|', encoding='latin-1', header=None,\n",
        "                    names=[item, 'title', 'date', 'N', 'url', *[f'g{i}' for i in range(19)]])\n",
        "movies.head()"
      ],
      "execution_count": 13,
      "outputs": [
        {
          "output_type": "execute_result",
          "data": {
            "text/html": [
              "<div>\n",
              "<style scoped>\n",
              "    .dataframe tbody tr th:only-of-type {\n",
              "        vertical-align: middle;\n",
              "    }\n",
              "\n",
              "    .dataframe tbody tr th {\n",
              "        vertical-align: top;\n",
              "    }\n",
              "\n",
              "    .dataframe thead th {\n",
              "        text-align: right;\n",
              "    }\n",
              "</style>\n",
              "<table border=\"1\" class=\"dataframe\">\n",
              "  <thead>\n",
              "    <tr style=\"text-align: right;\">\n",
              "      <th></th>\n",
              "      <th>movieId</th>\n",
              "      <th>title</th>\n",
              "      <th>date</th>\n",
              "      <th>N</th>\n",
              "      <th>url</th>\n",
              "      <th>g0</th>\n",
              "      <th>g1</th>\n",
              "      <th>g2</th>\n",
              "      <th>g3</th>\n",
              "      <th>g4</th>\n",
              "      <th>g5</th>\n",
              "      <th>g6</th>\n",
              "      <th>g7</th>\n",
              "      <th>g8</th>\n",
              "      <th>g9</th>\n",
              "      <th>g10</th>\n",
              "      <th>g11</th>\n",
              "      <th>g12</th>\n",
              "      <th>g13</th>\n",
              "      <th>g14</th>\n",
              "      <th>g15</th>\n",
              "      <th>g16</th>\n",
              "      <th>g17</th>\n",
              "      <th>g18</th>\n",
              "    </tr>\n",
              "  </thead>\n",
              "  <tbody>\n",
              "    <tr>\n",
              "      <th>0</th>\n",
              "      <td>1</td>\n",
              "      <td>Toy Story (1995)</td>\n",
              "      <td>01-Jan-1995</td>\n",
              "      <td>NaN</td>\n",
              "      <td>http://us.imdb.com/M/title-exact?Toy%20Story%2...</td>\n",
              "      <td>0</td>\n",
              "      <td>0</td>\n",
              "      <td>0</td>\n",
              "      <td>1</td>\n",
              "      <td>1</td>\n",
              "      <td>1</td>\n",
              "      <td>0</td>\n",
              "      <td>0</td>\n",
              "      <td>0</td>\n",
              "      <td>0</td>\n",
              "      <td>0</td>\n",
              "      <td>0</td>\n",
              "      <td>0</td>\n",
              "      <td>0</td>\n",
              "      <td>0</td>\n",
              "      <td>0</td>\n",
              "      <td>0</td>\n",
              "      <td>0</td>\n",
              "      <td>0</td>\n",
              "    </tr>\n",
              "    <tr>\n",
              "      <th>1</th>\n",
              "      <td>2</td>\n",
              "      <td>GoldenEye (1995)</td>\n",
              "      <td>01-Jan-1995</td>\n",
              "      <td>NaN</td>\n",
              "      <td>http://us.imdb.com/M/title-exact?GoldenEye%20(...</td>\n",
              "      <td>0</td>\n",
              "      <td>1</td>\n",
              "      <td>1</td>\n",
              "      <td>0</td>\n",
              "      <td>0</td>\n",
              "      <td>0</td>\n",
              "      <td>0</td>\n",
              "      <td>0</td>\n",
              "      <td>0</td>\n",
              "      <td>0</td>\n",
              "      <td>0</td>\n",
              "      <td>0</td>\n",
              "      <td>0</td>\n",
              "      <td>0</td>\n",
              "      <td>0</td>\n",
              "      <td>0</td>\n",
              "      <td>1</td>\n",
              "      <td>0</td>\n",
              "      <td>0</td>\n",
              "    </tr>\n",
              "    <tr>\n",
              "      <th>2</th>\n",
              "      <td>3</td>\n",
              "      <td>Four Rooms (1995)</td>\n",
              "      <td>01-Jan-1995</td>\n",
              "      <td>NaN</td>\n",
              "      <td>http://us.imdb.com/M/title-exact?Four%20Rooms%...</td>\n",
              "      <td>0</td>\n",
              "      <td>0</td>\n",
              "      <td>0</td>\n",
              "      <td>0</td>\n",
              "      <td>0</td>\n",
              "      <td>0</td>\n",
              "      <td>0</td>\n",
              "      <td>0</td>\n",
              "      <td>0</td>\n",
              "      <td>0</td>\n",
              "      <td>0</td>\n",
              "      <td>0</td>\n",
              "      <td>0</td>\n",
              "      <td>0</td>\n",
              "      <td>0</td>\n",
              "      <td>0</td>\n",
              "      <td>1</td>\n",
              "      <td>0</td>\n",
              "      <td>0</td>\n",
              "    </tr>\n",
              "    <tr>\n",
              "      <th>3</th>\n",
              "      <td>4</td>\n",
              "      <td>Get Shorty (1995)</td>\n",
              "      <td>01-Jan-1995</td>\n",
              "      <td>NaN</td>\n",
              "      <td>http://us.imdb.com/M/title-exact?Get%20Shorty%...</td>\n",
              "      <td>0</td>\n",
              "      <td>1</td>\n",
              "      <td>0</td>\n",
              "      <td>0</td>\n",
              "      <td>0</td>\n",
              "      <td>1</td>\n",
              "      <td>0</td>\n",
              "      <td>0</td>\n",
              "      <td>1</td>\n",
              "      <td>0</td>\n",
              "      <td>0</td>\n",
              "      <td>0</td>\n",
              "      <td>0</td>\n",
              "      <td>0</td>\n",
              "      <td>0</td>\n",
              "      <td>0</td>\n",
              "      <td>0</td>\n",
              "      <td>0</td>\n",
              "      <td>0</td>\n",
              "    </tr>\n",
              "    <tr>\n",
              "      <th>4</th>\n",
              "      <td>5</td>\n",
              "      <td>Copycat (1995)</td>\n",
              "      <td>01-Jan-1995</td>\n",
              "      <td>NaN</td>\n",
              "      <td>http://us.imdb.com/M/title-exact?Copycat%20(1995)</td>\n",
              "      <td>0</td>\n",
              "      <td>0</td>\n",
              "      <td>0</td>\n",
              "      <td>0</td>\n",
              "      <td>0</td>\n",
              "      <td>0</td>\n",
              "      <td>1</td>\n",
              "      <td>0</td>\n",
              "      <td>1</td>\n",
              "      <td>0</td>\n",
              "      <td>0</td>\n",
              "      <td>0</td>\n",
              "      <td>0</td>\n",
              "      <td>0</td>\n",
              "      <td>0</td>\n",
              "      <td>0</td>\n",
              "      <td>1</td>\n",
              "      <td>0</td>\n",
              "      <td>0</td>\n",
              "    </tr>\n",
              "  </tbody>\n",
              "</table>\n",
              "</div>"
            ],
            "text/plain": [
              "   movieId              title         date   N  ... g15  g16  g17  g18\n",
              "0        1   Toy Story (1995)  01-Jan-1995 NaN  ...   0    0    0    0\n",
              "1        2   GoldenEye (1995)  01-Jan-1995 NaN  ...   0    1    0    0\n",
              "2        3  Four Rooms (1995)  01-Jan-1995 NaN  ...   0    1    0    0\n",
              "3        4  Get Shorty (1995)  01-Jan-1995 NaN  ...   0    0    0    0\n",
              "4        5     Copycat (1995)  01-Jan-1995 NaN  ...   0    1    0    0\n",
              "\n",
              "[5 rows x 24 columns]"
            ]
          },
          "metadata": {
            "tags": []
          },
          "execution_count": 13
        }
      ]
    },
    {
      "cell_type": "markdown",
      "metadata": {
        "id": "KQRl2oPDBM0W",
        "colab_type": "text"
      },
      "source": [
        "u.item에는 각 movie id에 대한 자세한 정보가 담겨있다.\n",
        "\n",
        "이제 movies는 각 movieid와 영화정보가 담긴 변수다."
      ]
    },
    {
      "cell_type": "code",
      "metadata": {
        "id": "v0G4rhV8ejjQ",
        "colab_type": "code",
        "colab": {
          "base_uri": "https://localhost:8080/",
          "height": 34
        },
        "outputId": "38887185-00ca-4c91-8892-a4670ff76a0e"
      },
      "source": [
        "len(ratings)"
      ],
      "execution_count": 14,
      "outputs": [
        {
          "output_type": "execute_result",
          "data": {
            "text/plain": [
              "100000"
            ]
          },
          "metadata": {
            "tags": []
          },
          "execution_count": 14
        }
      ]
    },
    {
      "cell_type": "code",
      "metadata": {
        "id": "WbhrLA_EejjT",
        "colab_type": "code",
        "colab": {
          "base_uri": "https://localhost:8080/",
          "height": 204
        },
        "outputId": "ba3de526-5fdd-4226-e4ff-33ce2da15eea"
      },
      "source": [
        "rating_movie = ratings.merge(movies[[item, title]])\n",
        "rating_movie.head()"
      ],
      "execution_count": 15,
      "outputs": [
        {
          "output_type": "execute_result",
          "data": {
            "text/html": [
              "<div>\n",
              "<style scoped>\n",
              "    .dataframe tbody tr th:only-of-type {\n",
              "        vertical-align: middle;\n",
              "    }\n",
              "\n",
              "    .dataframe tbody tr th {\n",
              "        vertical-align: top;\n",
              "    }\n",
              "\n",
              "    .dataframe thead th {\n",
              "        text-align: right;\n",
              "    }\n",
              "</style>\n",
              "<table border=\"1\" class=\"dataframe\">\n",
              "  <thead>\n",
              "    <tr style=\"text-align: right;\">\n",
              "      <th></th>\n",
              "      <th>userId</th>\n",
              "      <th>movieId</th>\n",
              "      <th>rating</th>\n",
              "      <th>timestamp</th>\n",
              "      <th>title</th>\n",
              "    </tr>\n",
              "  </thead>\n",
              "  <tbody>\n",
              "    <tr>\n",
              "      <th>0</th>\n",
              "      <td>196</td>\n",
              "      <td>242</td>\n",
              "      <td>3</td>\n",
              "      <td>881250949</td>\n",
              "      <td>Kolya (1996)</td>\n",
              "    </tr>\n",
              "    <tr>\n",
              "      <th>1</th>\n",
              "      <td>63</td>\n",
              "      <td>242</td>\n",
              "      <td>3</td>\n",
              "      <td>875747190</td>\n",
              "      <td>Kolya (1996)</td>\n",
              "    </tr>\n",
              "    <tr>\n",
              "      <th>2</th>\n",
              "      <td>226</td>\n",
              "      <td>242</td>\n",
              "      <td>5</td>\n",
              "      <td>883888671</td>\n",
              "      <td>Kolya (1996)</td>\n",
              "    </tr>\n",
              "    <tr>\n",
              "      <th>3</th>\n",
              "      <td>154</td>\n",
              "      <td>242</td>\n",
              "      <td>3</td>\n",
              "      <td>879138235</td>\n",
              "      <td>Kolya (1996)</td>\n",
              "    </tr>\n",
              "    <tr>\n",
              "      <th>4</th>\n",
              "      <td>306</td>\n",
              "      <td>242</td>\n",
              "      <td>5</td>\n",
              "      <td>876503793</td>\n",
              "      <td>Kolya (1996)</td>\n",
              "    </tr>\n",
              "  </tbody>\n",
              "</table>\n",
              "</div>"
            ],
            "text/plain": [
              "   userId  movieId  rating  timestamp         title\n",
              "0     196      242       3  881250949  Kolya (1996)\n",
              "1      63      242       3  875747190  Kolya (1996)\n",
              "2     226      242       5  883888671  Kolya (1996)\n",
              "3     154      242       3  879138235  Kolya (1996)\n",
              "4     306      242       5  876503793  Kolya (1996)"
            ]
          },
          "metadata": {
            "tags": []
          },
          "execution_count": 15
        }
      ]
    },
    {
      "cell_type": "markdown",
      "metadata": {
        "id": "VNdP2i0YB36R",
        "colab_type": "text"
      },
      "source": [
        "movieId와 title을 합치며 매칭시켜주었고, 이것은 rating_movie 변수에 저정되었다. .head()로 앞부분을 보여주었다. "
      ]
    },
    {
      "cell_type": "code",
      "metadata": {
        "id": "XplJXzmyejjW",
        "colab_type": "code",
        "colab": {}
      },
      "source": [
        "data = CollabDataBunch.from_df(rating_movie, seed=42, valid_pct=0.1, item_name=title)"
      ],
      "execution_count": 0,
      "outputs": []
    },
    {
      "cell_type": "code",
      "metadata": {
        "id": "g9JFC-60ejjY",
        "colab_type": "code",
        "colab": {
          "base_uri": "https://localhost:8080/",
          "height": 204
        },
        "outputId": "152a7136-1a83-4747-c754-4e984306315c"
      },
      "source": [
        "data.show_batch()"
      ],
      "execution_count": 17,
      "outputs": [
        {
          "output_type": "display_data",
          "data": {
            "text/html": [
              "<table border=\"1\" class=\"dataframe\">\n",
              "  <thead>\n",
              "    <tr style=\"text-align: right;\">\n",
              "      <th>userId</th>\n",
              "      <th>title</th>\n",
              "      <th>target</th>\n",
              "    </tr>\n",
              "  </thead>\n",
              "  <tbody>\n",
              "    <tr>\n",
              "      <td>94</td>\n",
              "      <td>Fargo (1996)</td>\n",
              "      <td>5.0</td>\n",
              "    </tr>\n",
              "    <tr>\n",
              "      <td>724</td>\n",
              "      <td>Man Who Knew Too Little, The (1997)</td>\n",
              "      <td>3.0</td>\n",
              "    </tr>\n",
              "    <tr>\n",
              "      <td>896</td>\n",
              "      <td>Bad Company (1995)</td>\n",
              "      <td>2.0</td>\n",
              "    </tr>\n",
              "    <tr>\n",
              "      <td>576</td>\n",
              "      <td>One Fine Day (1996)</td>\n",
              "      <td>3.0</td>\n",
              "    </tr>\n",
              "    <tr>\n",
              "      <td>450</td>\n",
              "      <td>Portrait of a Lady, The (1996)</td>\n",
              "      <td>3.0</td>\n",
              "    </tr>\n",
              "  </tbody>\n",
              "</table>"
            ],
            "text/plain": [
              "<IPython.core.display.HTML object>"
            ]
          },
          "metadata": {
            "tags": []
          }
        }
      ]
    },
    {
      "cell_type": "markdown",
      "metadata": {
        "id": "qXjz-KbQCe6a",
        "colab_type": "text"
      },
      "source": [
        "DataBunch를 만들었다. 이제 data가 다음과 같이 이루어져있음을 show_batch로 간단히 살펴보았다."
      ]
    },
    {
      "cell_type": "code",
      "metadata": {
        "id": "pVE0y3-uejjb",
        "colab_type": "code",
        "colab": {}
      },
      "source": [
        "y_range = [0,5.5]"
      ],
      "execution_count": 0,
      "outputs": []
    },
    {
      "cell_type": "code",
      "metadata": {
        "id": "FC8zdYjeejje",
        "colab_type": "code",
        "colab": {}
      },
      "source": [
        "learn = collab_learner(data, n_factors=40, y_range=y_range, wd=1e-1)"
      ],
      "execution_count": 0,
      "outputs": []
    },
    {
      "cell_type": "code",
      "metadata": {
        "id": "kawZepQxejjh",
        "colab_type": "code",
        "colab": {
          "base_uri": "https://localhost:8080/",
          "height": 374
        },
        "outputId": "2840b983-94d8-4afc-d54e-0814d49e8f26"
      },
      "source": [
        "learn.lr_find()\n",
        "learn.recorder.plot(skip_end=15)"
      ],
      "execution_count": 20,
      "outputs": [
        {
          "output_type": "display_data",
          "data": {
            "text/html": [
              "\n",
              "    <div>\n",
              "        <style>\n",
              "            /* Turns off some styling */\n",
              "            progress {\n",
              "                /* gets rid of default border in Firefox and Opera. */\n",
              "                border: none;\n",
              "                /* Needs to be in here for Safari polyfill so background images work as expected. */\n",
              "                background-size: auto;\n",
              "            }\n",
              "            .progress-bar-interrupted, .progress-bar-interrupted::-webkit-progress-bar {\n",
              "                background: #F44336;\n",
              "            }\n",
              "        </style>\n",
              "      <progress value='0' class='' max='1', style='width:300px; height:20px; vertical-align: middle;'></progress>\n",
              "      0.00% [0/1 00:00<00:00]\n",
              "    </div>\n",
              "    \n",
              "<table border=\"1\" class=\"dataframe\">\n",
              "  <thead>\n",
              "    <tr style=\"text-align: left;\">\n",
              "      <th>epoch</th>\n",
              "      <th>train_loss</th>\n",
              "      <th>valid_loss</th>\n",
              "      <th>time</th>\n",
              "    </tr>\n",
              "  </thead>\n",
              "  <tbody>\n",
              "  </tbody>\n",
              "</table><p>\n",
              "\n",
              "    <div>\n",
              "        <style>\n",
              "            /* Turns off some styling */\n",
              "            progress {\n",
              "                /* gets rid of default border in Firefox and Opera. */\n",
              "                border: none;\n",
              "                /* Needs to be in here for Safari polyfill so background images work as expected. */\n",
              "                background-size: auto;\n",
              "            }\n",
              "            .progress-bar-interrupted, .progress-bar-interrupted::-webkit-progress-bar {\n",
              "                background: #F44336;\n",
              "            }\n",
              "        </style>\n",
              "      <progress value='85' class='' max='1406', style='width:300px; height:20px; vertical-align: middle;'></progress>\n",
              "      6.05% [85/1406 00:00<00:13 1.8753]\n",
              "    </div>\n",
              "    "
            ],
            "text/plain": [
              "<IPython.core.display.HTML object>"
            ]
          },
          "metadata": {
            "tags": []
          }
        },
        {
          "output_type": "stream",
          "text": [
            "LR Finder is complete, type {learner_name}.recorder.plot() to see the graph.\n"
          ],
          "name": "stdout"
        },
        {
          "output_type": "display_data",
          "data": {
            "image/png": "[encoded data removed]",
            "text/plain": [
              "<Figure size 432x288 with 1 Axes>"
            ]
          },
          "metadata": {
            "tags": []
          }
        }
      ]
    },
    {
      "cell_type": "code",
      "metadata": {
        "id": "TUgckgbWejjj",
        "colab_type": "code",
        "colab": {
          "base_uri": "https://localhost:8080/",
          "height": 204
        },
        "outputId": "9424235e-1c4d-405b-9540-dbd018816300"
      },
      "source": [
        "learn.fit_one_cycle(5, 5e-3)"
      ],
      "execution_count": 21,
      "outputs": [
        {
          "output_type": "display_data",
          "data": {
            "text/html": [
              "<table border=\"1\" class=\"dataframe\">\n",
              "  <thead>\n",
              "    <tr style=\"text-align: left;\">\n",
              "      <th>epoch</th>\n",
              "      <th>train_loss</th>\n",
              "      <th>valid_loss</th>\n",
              "      <th>time</th>\n",
              "    </tr>\n",
              "  </thead>\n",
              "  <tbody>\n",
              "    <tr>\n",
              "      <td>0</td>\n",
              "      <td>0.934176</td>\n",
              "      <td>0.953658</td>\n",
              "      <td>00:14</td>\n",
              "    </tr>\n",
              "    <tr>\n",
              "      <td>1</td>\n",
              "      <td>0.863561</td>\n",
              "      <td>0.875714</td>\n",
              "      <td>00:13</td>\n",
              "    </tr>\n",
              "    <tr>\n",
              "      <td>2</td>\n",
              "      <td>0.763170</td>\n",
              "      <td>0.830448</td>\n",
              "      <td>00:14</td>\n",
              "    </tr>\n",
              "    <tr>\n",
              "      <td>3</td>\n",
              "      <td>0.656785</td>\n",
              "      <td>0.816025</td>\n",
              "      <td>00:13</td>\n",
              "    </tr>\n",
              "    <tr>\n",
              "      <td>4</td>\n",
              "      <td>0.580880</td>\n",
              "      <td>0.814558</td>\n",
              "      <td>00:13</td>\n",
              "    </tr>\n",
              "  </tbody>\n",
              "</table>"
            ],
            "text/plain": [
              "<IPython.core.display.HTML object>"
            ]
          },
          "metadata": {
            "tags": []
          }
        }
      ]
    },
    {
      "cell_type": "markdown",
      "metadata": {
        "id": "wjxj5wxRCvKY",
        "colab_type": "text"
      },
      "source": [
        "fitting을 해주었다."
      ]
    },
    {
      "cell_type": "code",
      "metadata": {
        "id": "CtPL2mQ_ejjm",
        "colab_type": "code",
        "colab": {}
      },
      "source": [
        "learn.save('dotprod')"
      ],
      "execution_count": 0,
      "outputs": []
    },
    {
      "cell_type": "markdown",
      "metadata": {
        "id": "qC8J7jeKejjp",
        "colab_type": "text"
      },
      "source": [
        "Here's [some benchmarks](https://www.librec.net/release/v1.3/example.html) on the same dataset for the popular Librec system for collaborative filtering. They show best results based on RMSE of 0.91, which corresponds to an MSE of `0.91**2 = 0.83`."
      ]
    },
    {
      "cell_type": "markdown",
      "metadata": {
        "id": "LwWQCV0sejjp",
        "colab_type": "text"
      },
      "source": [
        "## Interpretation"
      ]
    },
    {
      "cell_type": "markdown",
      "metadata": {
        "id": "P83CQkrKejjp",
        "colab_type": "text"
      },
      "source": [
        "### Setup"
      ]
    },
    {
      "cell_type": "code",
      "metadata": {
        "id": "c5E6GCFOejjq",
        "colab_type": "code",
        "colab": {}
      },
      "source": [
        "learn.load('dotprod');"
      ],
      "execution_count": 0,
      "outputs": []
    },
    {
      "cell_type": "code",
      "metadata": {
        "id": "NQhv66-Xejjt",
        "colab_type": "code",
        "colab": {
          "base_uri": "https://localhost:8080/",
          "height": 119
        },
        "outputId": "d5afbb99-ba6b-4c4f-a434-40fe203360e0"
      },
      "source": [
        "learn.model"
      ],
      "execution_count": 24,
      "outputs": [
        {
          "output_type": "execute_result",
          "data": {
            "text/plain": [
              "EmbeddingDotBias(\n",
              "  (u_weight): Embedding(944, 40)\n",
              "  (i_weight): Embedding(1654, 40)\n",
              "  (u_bias): Embedding(944, 1)\n",
              "  (i_bias): Embedding(1654, 1)\n",
              ")"
            ]
          },
          "metadata": {
            "tags": []
          },
          "execution_count": 24
        }
      ]
    },
    {
      "cell_type": "code",
      "metadata": {
        "id": "HqY6DxFTejjv",
        "colab_type": "code",
        "colab": {
          "base_uri": "https://localhost:8080/",
          "height": 88
        },
        "outputId": "79e05888-05ac-4c29-8942-384c7b765034"
      },
      "source": [
        "g = rating_movie.groupby(title)['rating'].count()\n",
        "top_movies = g.sort_values(ascending=False).index.values[:1000]\n",
        "top_movies[:10]"
      ],
      "execution_count": 25,
      "outputs": [
        {
          "output_type": "execute_result",
          "data": {
            "text/plain": [
              "array(['Star Wars (1977)', 'Contact (1997)', 'Fargo (1996)', 'Return of the Jedi (1983)', 'Liar Liar (1997)',\n",
              "       'English Patient, The (1996)', 'Scream (1996)', 'Toy Story (1995)', 'Air Force One (1997)',\n",
              "       'Independence Day (ID4) (1996)'], dtype=object)"
            ]
          },
          "metadata": {
            "tags": []
          },
          "execution_count": 25
        }
      ]
    },
    {
      "cell_type": "markdown",
      "metadata": {
        "id": "nu9HrEr_EKQ3",
        "colab_type": "text"
      },
      "source": [
        "rating을 기준으로 정렬하여 가장 평가가 많이 된 상위 10개 영화를 보여주었다. 역시 인기 있는 영화들로, 스타워즈 영화가 순위권에 두개나 있다."
      ]
    },
    {
      "cell_type": "markdown",
      "metadata": {
        "id": "ekRR25UBejjy",
        "colab_type": "text"
      },
      "source": [
        "### Movie bias"
      ]
    },
    {
      "cell_type": "code",
      "metadata": {
        "id": "TMr6P0lsejjy",
        "colab_type": "code",
        "colab": {
          "base_uri": "https://localhost:8080/",
          "height": 34
        },
        "outputId": "fdb745fc-4d5a-4ca7-e614-02b7ea80e19f"
      },
      "source": [
        "movie_bias = learn.bias(top_movies, is_item=True)\n",
        "movie_bias.shape"
      ],
      "execution_count": 26,
      "outputs": [
        {
          "output_type": "execute_result",
          "data": {
            "text/plain": [
              "torch.Size([1000])"
            ]
          },
          "metadata": {
            "tags": []
          },
          "execution_count": 26
        }
      ]
    },
    {
      "cell_type": "code",
      "metadata": {
        "id": "BLO7MYxzejj1",
        "colab_type": "code",
        "colab": {}
      },
      "source": [
        "mean_ratings = rating_movie.groupby(title)['rating'].mean()\n",
        "movie_ratings = [(b, i, mean_ratings.loc[i]) for i,b in zip(top_movies,movie_bias)]"
      ],
      "execution_count": 0,
      "outputs": []
    },
    {
      "cell_type": "markdown",
      "metadata": {
        "id": "-3DkA5ldF-dK",
        "colab_type": "text"
      },
      "source": [
        "평균 평점으로도 묶을 수 있는데, movie_ratings에 저장했다."
      ]
    },
    {
      "cell_type": "code",
      "metadata": {
        "id": "78vRZQkGejj3",
        "colab_type": "code",
        "colab": {}
      },
      "source": [
        "item0 = lambda o:o[0]"
      ],
      "execution_count": 0,
      "outputs": []
    },
    {
      "cell_type": "code",
      "metadata": {
        "id": "R6sqcskLejj5",
        "colab_type": "code",
        "colab": {
          "base_uri": "https://localhost:8080/",
          "height": 340
        },
        "outputId": "eb1ace0c-ac30-4e30-d318-757d2589e002"
      },
      "source": [
        "sorted(movie_ratings, key=item0)[:15]"
      ],
      "execution_count": 29,
      "outputs": [
        {
          "output_type": "execute_result",
          "data": {
            "text/plain": [
              "[(tensor(-0.3719),\n",
              "  'Children of the Corn: The Gathering (1996)',\n",
              "  1.3157894736842106),\n",
              " (tensor(-0.3116),\n",
              "  'Lawnmower Man 2: Beyond Cyberspace (1996)',\n",
              "  1.7142857142857142),\n",
              " (tensor(-0.2808), 'Mortal Kombat: Annihilation (1997)', 1.9534883720930232),\n",
              " (tensor(-0.2633), 'Striptease (1996)', 2.2388059701492535),\n",
              " (tensor(-0.2475), 'Barb Wire (1996)', 1.9333333333333333),\n",
              " (tensor(-0.2436), 'Crow: City of Angels, The (1996)', 1.9487179487179487),\n",
              " (tensor(-0.2421), 'Cable Guy, The (1996)', 2.339622641509434),\n",
              " (tensor(-0.2298), 'Island of Dr. Moreau, The (1996)', 2.1578947368421053),\n",
              " (tensor(-0.2216), 'Free Willy 3: The Rescue (1997)', 1.7407407407407407),\n",
              " (tensor(-0.2195), 'Beautician and the Beast, The (1997)', 2.313953488372093),\n",
              " (tensor(-0.2080), \"McHale's Navy (1997)\", 2.1884057971014492),\n",
              " (tensor(-0.2076), 'Bio-Dome (1996)', 1.903225806451613),\n",
              " (tensor(-0.2067), \"Joe's Apartment (1996)\", 2.2444444444444445),\n",
              " (tensor(-0.1960), 'Grease 2 (1982)', 2.0),\n",
              " (tensor(-0.1921), 'Leave It to Beaver (1997)', 1.8409090909090908)]"
            ]
          },
          "metadata": {
            "tags": []
          },
          "execution_count": 29
        }
      ]
    },
    {
      "cell_type": "markdown",
      "metadata": {
        "id": "3-03PaC8GUtC",
        "colab_type": "text"
      },
      "source": [
        "오름차순으로 sort한 결과, 이것들은 평점이 낮은 영화들이다.\n",
        "Children of the Corn이 무슨 영화인가 찾아봤다. IMDb 기준 5.7에 로튼토마토 신선도 35퍼센트인 것을 보아 별로 좋지 않은 영화인 것 같으니 잘 실행된 것 같다.\n",
        "\n"
      ]
    },
    {
      "cell_type": "code",
      "metadata": {
        "id": "A8IU55ZSejj8",
        "colab_type": "code",
        "colab": {
          "base_uri": "https://localhost:8080/",
          "height": 272
        },
        "outputId": "ba1af066-85e8-4af8-d70d-8d702a769778"
      },
      "source": [
        "sorted(movie_ratings, key=lambda o: o[0], reverse=True)[:15]"
      ],
      "execution_count": 30,
      "outputs": [
        {
          "output_type": "execute_result",
          "data": {
            "text/plain": [
              "[(tensor(0.6147), \"Schindler's List (1993)\", 4.466442953020135),\n",
              " (tensor(0.5454), 'Shawshank Redemption, The (1994)', 4.445229681978798),\n",
              " (tensor(0.5415), 'Titanic (1997)', 4.2457142857142856),\n",
              " (tensor(0.5384), 'Silence of the Lambs, The (1991)', 4.28974358974359),\n",
              " (tensor(0.5178), 'L.A. Confidential (1997)', 4.161616161616162),\n",
              " (tensor(0.5093), 'Rear Window (1954)', 4.3875598086124405),\n",
              " (tensor(0.5073), 'Star Wars (1977)', 4.3584905660377355),\n",
              " (tensor(0.5015), 'Good Will Hunting (1997)', 4.262626262626263),\n",
              " (tensor(0.4901), 'Casablanca (1942)', 4.45679012345679),\n",
              " (tensor(0.4732), 'Apt Pupil (1998)', 4.1),\n",
              " (tensor(0.4700), 'Vertigo (1958)', 4.251396648044692),\n",
              " (tensor(0.4694), 'As Good As It Gets (1997)', 4.196428571428571),\n",
              " (tensor(0.4680), 'Godfather, The (1972)', 4.283292978208232),\n",
              " (tensor(0.4628), 'To Kill a Mockingbird (1962)', 4.292237442922374),\n",
              " (tensor(0.4521), 'Close Shave, A (1995)', 4.491071428571429)]"
            ]
          },
          "metadata": {
            "tags": []
          },
          "execution_count": 30
        }
      ]
    },
    {
      "cell_type": "markdown",
      "metadata": {
        "id": "5_KNrdWaGacY",
        "colab_type": "text"
      },
      "source": [
        "이번에는 반대로 내림차순으로 sort한 평점이 높은 영화들이다. 쉰들러 리스트, 쇼생크 탈출 등 호평받은 유명한 영화들이 뜨는 것을 보니 잘 실행된 것 같다."
      ]
    },
    {
      "cell_type": "markdown",
      "metadata": {
        "id": "X10Uwl0pejj_",
        "colab_type": "text"
      },
      "source": [
        "### Movie weights"
      ]
    },
    {
      "cell_type": "code",
      "metadata": {
        "id": "05d2MDQEejkA",
        "colab_type": "code",
        "colab": {
          "base_uri": "https://localhost:8080/",
          "height": 34
        },
        "outputId": "c63e532b-48e9-4ea2-f9ee-74f4bfab4e80"
      },
      "source": [
        "movie_w = learn.weight(top_movies, is_item=True)\n",
        "movie_w.shape"
      ],
      "execution_count": 31,
      "outputs": [
        {
          "output_type": "execute_result",
          "data": {
            "text/plain": [
              "torch.Size([1000, 40])"
            ]
          },
          "metadata": {
            "tags": []
          },
          "execution_count": 31
        }
      ]
    },
    {
      "cell_type": "code",
      "metadata": {
        "id": "TmQQNU2JejkC",
        "colab_type": "code",
        "colab": {
          "base_uri": "https://localhost:8080/",
          "height": 34
        },
        "outputId": "1eb15046-0324-4770-b7b0-5dfa185625f3"
      },
      "source": [
        "movie_pca = movie_w.pca(3)\n",
        "movie_pca.shape"
      ],
      "execution_count": 32,
      "outputs": [
        {
          "output_type": "execute_result",
          "data": {
            "text/plain": [
              "torch.Size([1000, 3])"
            ]
          },
          "metadata": {
            "tags": []
          },
          "execution_count": 32
        }
      ]
    },
    {
      "cell_type": "code",
      "metadata": {
        "id": "yD_sEP6AejkF",
        "colab_type": "code",
        "colab": {}
      },
      "source": [
        "fac0,fac1,fac2 = movie_pca.t()\n",
        "movie_comp = [(f, i) for f,i in zip(fac0, top_movies)]"
      ],
      "execution_count": 0,
      "outputs": []
    },
    {
      "cell_type": "markdown",
      "metadata": {
        "id": "V5txqWg7IV50",
        "colab_type": "text"
      },
      "source": [
        "fac0,1,2가 무엇인지 우리는 정확히 설명하거나 알 수 없지만, 이것은 취향과 영화 성격같은 것의 느낌으로 이해하면 된다. 아무튼 먼저 fac0의 관점에서 높은 평을 받은 영화들은 아래와 같다."
      ]
    },
    {
      "cell_type": "code",
      "metadata": {
        "id": "LzgXSPb6ejkH",
        "colab_type": "code",
        "colab": {
          "base_uri": "https://localhost:8080/",
          "height": 204
        },
        "outputId": "4994fa6a-1822-4cd5-c5ef-68d31e8bcb6e"
      },
      "source": [
        "sorted(movie_comp, key=itemgetter(0), reverse=True)[:10]"
      ],
      "execution_count": 34,
      "outputs": [
        {
          "output_type": "execute_result",
          "data": {
            "text/plain": [
              "[(tensor(1.1090), 'Wrong Trousers, The (1993)'),\n",
              " (tensor(1.0416), 'Casablanca (1942)'),\n",
              " (tensor(1.0371), 'Chinatown (1974)'),\n",
              " (tensor(1.0104), 'Close Shave, A (1995)'),\n",
              " (tensor(1.0074), 'Lawrence of Arabia (1962)'),\n",
              " (tensor(0.9942), 'When We Were Kings (1996)'),\n",
              " (tensor(0.9873),\n",
              "  'Dr. Strangelove or: How I Learned to Stop Worrying and Love the Bomb (1963)'),\n",
              " (tensor(0.9485), 'Citizen Kane (1941)'),\n",
              " (tensor(0.9417), 'Godfather, The (1972)'),\n",
              " (tensor(0.9197), 'Fargo (1996)')]"
            ]
          },
          "metadata": {
            "tags": []
          },
          "execution_count": 34
        }
      ]
    },
    {
      "cell_type": "markdown",
      "metadata": {
        "id": "bhoZdVsnI3GW",
        "colab_type": "text"
      },
      "source": [
        "이 취향, 특징(?이라고 해야할까)에서 선택된 영화는 약간 고전 명작이나 평론가들이 극찬하는 느낌의 영화같다. 카사블랑카, 차이나타운, 시민 케인, 대부 등 모두 손꼽히는 명작들이 주로 보인다."
      ]
    },
    {
      "cell_type": "code",
      "metadata": {
        "id": "Pb0t3zjaejkK",
        "colab_type": "code",
        "colab": {
          "base_uri": "https://localhost:8080/",
          "height": 187
        },
        "outputId": "330788af-be8f-45ad-d119-455a3fcc5882"
      },
      "source": [
        "sorted(movie_comp, key=itemgetter(0))[:10]"
      ],
      "execution_count": 35,
      "outputs": [
        {
          "output_type": "execute_result",
          "data": {
            "text/plain": [
              "[(tensor(-1.2962), \"McHale's Navy (1997)\"),\n",
              " (tensor(-1.2166), 'Jungle2Jungle (1997)'),\n",
              " (tensor(-1.2122), 'Leave It to Beaver (1997)'),\n",
              " (tensor(-1.1947), 'Free Willy 3: The Rescue (1997)'),\n",
              " (tensor(-1.1563), 'Home Alone 3 (1997)'),\n",
              " (tensor(-1.1268), 'Wishmaster (1997)'),\n",
              " (tensor(-1.0955), 'Bio-Dome (1996)'),\n",
              " (tensor(-1.0863), 'Congo (1995)'),\n",
              " (tensor(-1.0799), 'D3: The Mighty Ducks (1996)'),\n",
              " (tensor(-1.0277), 'Children of the Corn: The Gathering (1996)')]"
            ]
          },
          "metadata": {
            "tags": []
          },
          "execution_count": 35
        }
      ]
    },
    {
      "cell_type": "markdown",
      "metadata": {
        "id": "tgNvyco7JpAk",
        "colab_type": "text"
      },
      "source": [
        "그리고 이런 요소들의 관점에서 가장 낮은 선호도를 보인 영화들이다. 사실 처음 듣는 영화들이 대부분이지만, 나홀로 집에3나 위에서도 봤던 children of the corn이 또 등장한 것을 보아 윗 셀의 영화들과 반대로 작품성이 좋지 않다고 평가된 영화들이 나오는 것을 알 수 있다. "
      ]
    },
    {
      "cell_type": "code",
      "metadata": {
        "id": "mj4KvMOWejkN",
        "colab_type": "code",
        "colab": {}
      },
      "source": [
        "movie_comp = [(f, i) for f,i in zip(fac1, top_movies)]"
      ],
      "execution_count": 0,
      "outputs": []
    },
    {
      "cell_type": "code",
      "metadata": {
        "id": "__sWbqtoejkQ",
        "colab_type": "code",
        "colab": {
          "base_uri": "https://localhost:8080/",
          "height": 187
        },
        "outputId": "56fc5908-8e55-40c7-c468-e4f1e053bf36"
      },
      "source": [
        "sorted(movie_comp, key=itemgetter(0), reverse=True)[:10]"
      ],
      "execution_count": 37,
      "outputs": [
        {
          "output_type": "execute_result",
          "data": {
            "text/plain": [
              "[(tensor(1.1507), 'Braveheart (1995)'),\n",
              " (tensor(1.0734), 'Titanic (1997)'),\n",
              " (tensor(1.0577), 'Raiders of the Lost Ark (1981)'),\n",
              " (tensor(0.9740), \"It's a Wonderful Life (1946)\"),\n",
              " (tensor(0.8797), 'Independence Day (ID4) (1996)'),\n",
              " (tensor(0.8619), \"Mr. Holland's Opus (1995)\"),\n",
              " (tensor(0.8529), 'Forrest Gump (1994)'),\n",
              " (tensor(0.8502), 'American President, The (1995)'),\n",
              " (tensor(0.8492), 'Sleepless in Seattle (1993)'),\n",
              " (tensor(0.8444), 'Pretty Woman (1990)')]"
            ]
          },
          "metadata": {
            "tags": []
          },
          "execution_count": 37
        }
      ]
    },
    {
      "cell_type": "markdown",
      "metadata": {
        "id": "HyjXRNwvKYHa",
        "colab_type": "text"
      },
      "source": [
        "이번에는 fac1의 관점에서 높은 평을 받은 영화들이다. 브레이브 하트, 타이타닉, 포레스트 검프 등의 영화가 있는 것으로 보아 아무래도 대중적이고 모두 즐겁게 볼 수 있는 영화 취향일 것이다."
      ]
    },
    {
      "cell_type": "code",
      "metadata": {
        "id": "vt6YU4WEejkT",
        "colab_type": "code",
        "colab": {
          "base_uri": "https://localhost:8080/",
          "height": 187
        },
        "outputId": "b44a4d3d-304d-4e89-aa1c-005338f7269c"
      },
      "source": [
        "sorted(movie_comp, key=itemgetter(0))[:10]"
      ],
      "execution_count": 38,
      "outputs": [
        {
          "output_type": "execute_result",
          "data": {
            "text/plain": [
              "[(tensor(-0.9031), 'Keys to Tulsa (1997)'),\n",
              " (tensor(-0.8937), 'Ready to Wear (Pret-A-Porter) (1994)'),\n",
              " (tensor(-0.7959), 'Brazil (1985)'),\n",
              " (tensor(-0.7877), 'Jude (1996)'),\n",
              " (tensor(-0.7828), 'Beavis and Butt-head Do America (1996)'),\n",
              " (tensor(-0.7794), 'Trainspotting (1996)'),\n",
              " (tensor(-0.7781), 'Dead Man (1995)'),\n",
              " (tensor(-0.7680), 'Lost Highway (1997)'),\n",
              " (tensor(-0.7536), 'Clockwork Orange, A (1971)'),\n",
              " (tensor(-0.7517), 'Cable Guy, The (1996)')]"
            ]
          },
          "metadata": {
            "tags": []
          },
          "execution_count": 38
        }
      ]
    },
    {
      "cell_type": "markdown",
      "metadata": {
        "id": "cV0gLwDKLihs",
        "colab_type": "text"
      },
      "source": [
        "그리고 이 취향과 가장 먼 영화들이다. 시계태엽 오렌지가 있는 것을 보아 예상대로 호불호가 많이 갈리는 영화들의 목록인 것 같다. 실제로 영화 제목들을 검색해보니 거의 청불에 고어, 강력범죄 관련 영화이다."
      ]
    },
    {
      "cell_type": "code",
      "metadata": {
        "id": "uOLDHfmkNU5k",
        "colab_type": "code",
        "colab": {}
      },
      "source": [
        "movie_comp = [(f, i) for f,i in zip(fac2, top_movies)]"
      ],
      "execution_count": 0,
      "outputs": []
    },
    {
      "cell_type": "code",
      "metadata": {
        "id": "xeOe3VQdNb7Y",
        "colab_type": "code",
        "colab": {
          "base_uri": "https://localhost:8080/",
          "height": 187
        },
        "outputId": "36a3901d-a4b4-4293-bb42-ebae5a3619ce"
      },
      "source": [
        "sorted(movie_comp, key=itemgetter(0), reverse=True)[:10]"
      ],
      "execution_count": 41,
      "outputs": [
        {
          "output_type": "execute_result",
          "data": {
            "text/plain": [
              "[(tensor(1.0260), 'Beavis and Butt-head Do America (1996)'),\n",
              " (tensor(0.9299), 'Terminator, The (1984)'),\n",
              " (tensor(0.8608), 'Reservoir Dogs (1992)'),\n",
              " (tensor(0.8212), 'Scream (1996)'),\n",
              " (tensor(0.7719), 'Clerks (1994)'),\n",
              " (tensor(0.7703), 'Starship Troopers (1997)'),\n",
              " (tensor(0.7568), 'Alien: Resurrection (1997)'),\n",
              " (tensor(0.7536), 'Seven (Se7en) (1995)'),\n",
              " (tensor(0.7182), 'Trainspotting (1996)'),\n",
              " (tensor(0.7114), 'Crow, The (1994)')]"
            ]
          },
          "metadata": {
            "tags": []
          },
          "execution_count": 41
        }
      ]
    },
    {
      "cell_type": "markdown",
      "metadata": {
        "id": "_bjKHcrTNpfs",
        "colab_type": "text"
      },
      "source": [
        "이건 원본 ipynb에는 없었지만 그냥 궁금해서 해봤다. fac2의 취향은 아무래도 터미네이터, 스크림, 에이리언, 세븐 같은 것을 보아 액션, 스릴러, 범죄 요런 종류의 영화들이다. 한마디로 정의는 안되지만 일단 어떤 느낌의 영화들인지는 대충 감이 온다."
      ]
    },
    {
      "cell_type": "code",
      "metadata": {
        "id": "uMREvpG4NdnW",
        "colab_type": "code",
        "colab": {
          "base_uri": "https://localhost:8080/",
          "height": 187
        },
        "outputId": "b56ee6ee-d9ff-4cfb-f137-94a67d0e07ba"
      },
      "source": [
        "sorted(movie_comp, key=itemgetter(0))[:10]"
      ],
      "execution_count": 42,
      "outputs": [
        {
          "output_type": "execute_result",
          "data": {
            "text/plain": [
              "[(tensor(-0.6626), 'Lone Star (1996)'),\n",
              " (tensor(-0.6329), 'My Fair Lady (1964)'),\n",
              " (tensor(-0.6158), 'Sound of Music, The (1965)'),\n",
              " (tensor(-0.6120), 'Jane Eyre (1996)'),\n",
              " (tensor(-0.6068), 'Steel (1997)'),\n",
              " (tensor(-0.5968), 'Getaway, The (1994)'),\n",
              " (tensor(-0.5947), 'Old Yeller (1957)'),\n",
              " (tensor(-0.5802), 'Bridges of Madison County, The (1995)'),\n",
              " (tensor(-0.5718), 'Specialist, The (1994)'),\n",
              " (tensor(-0.5666), 'Home for the Holidays (1995)')]"
            ]
          },
          "metadata": {
            "tags": []
          },
          "execution_count": 42
        }
      ]
    },
    {
      "cell_type": "markdown",
      "metadata": {
        "id": "e30NpZaeOEGw",
        "colab_type": "text"
      },
      "source": [
        "그리고 이 취향이 좋아하지 않는 영화들이다. 마이 페어 레이디, 사운드 오브 뮤직, 제인에어 등 평화로움이 느껴지는 영화들이 많다."
      ]
    },
    {
      "cell_type": "code",
      "metadata": {
        "id": "C3hy17O-ejkW",
        "colab_type": "code",
        "colab": {
          "base_uri": "https://localhost:8080/",
          "height": 748
        },
        "outputId": "9ea4f5f1-72fc-4c12-e88a-9e7ad5033694"
      },
      "source": [
        "idxs = np.random.choice(len(top_movies), 50, replace=False)\n",
        "idxs = list(range(50))\n",
        "X = fac0[idxs]\n",
        "Y = fac2[idxs]\n",
        "plt.figure(figsize=(15,15))\n",
        "plt.scatter(X, Y)\n",
        "for i, x, y in zip(top_movies[idxs], X, Y):\n",
        "    plt.text(x,y,i, color=np.random.rand(3)*0.7, fontsize=11)\n",
        "plt.show()"
      ],
      "execution_count": 46,
      "outputs": [
        {
          "output_type": "display_data",
          "data": {
            "image/png": "[encoded data removed]",
            "text/plain": [
              "<Figure size 1080x1080 with 1 Axes>"
            ]
          },
          "metadata": {
            "tags": []
          }
        }
      ]
    },
    {
      "cell_type": "markdown",
      "metadata": {
        "id": "9rj-xWdLPH1t",
        "colab_type": "text"
      },
      "source": [
        "이건 가장 많이 평가된 상위 50 영화들을 그래프로 좀더 재밌게 나타내본 것이다. x축은 fac0 성격에서의, y축은 fac2 성격에서의 평가를 나타낸다. 가까운 성격의 영화들일 수록 서로 비슷한 평가를 받았을 터인데, 실제 위 그래프도 어느정도 그래보인다. 물론 영화 취향이란 복잡한 것이니 절대적으로 딱 그룹이 나눠지진 않고, 의외인 것도 있다(양들의 침묵과 71년작 찰리와 초콜릿 공장이 딱 붙어있다든지). 하지만 스크림과 E.T.는 거의 정반대에 있고, 스타트렉과 스타워즈:제다이의 귀환은 서로 붙어있고, 사랑의 블랙홀이랑 포레스트 검프(이 영화들은 주연배우도 비슷하게 생겼다)도 딱 붙어있으며, 전체적으로 봤을 때도 거의 비슷한 스타일끼리 분포 되어 있다고 할 수 있겠다. 시험삼아 100개로 늘려서 실행해보니 단테스 피크랑 볼케이노가 서로 붙어있고 스타워즈4랑 5도 서로 붙어있고 그랬다. "
      ]
    }
  ]
}