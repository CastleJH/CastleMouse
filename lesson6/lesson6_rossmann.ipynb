{
  "nbformat": 4,
  "nbformat_minor": 0,
  "metadata": {
    "kernelspec": {
      "display_name": "Python 3",
      "language": "python",
      "name": "python3"
    },
    "colab": {
      "name": "lesson6-rossmann.ipynb",
      "provenance": [],
      "collapsed_sections": [],
      "include_colab_link": true
    },
    "accelerator": "GPU"
  },
  "cells": [
    {
      "cell_type": "markdown",
      "metadata": {
        "id": "view-in-github",
        "colab_type": "text"
      },
      "source": [
        "<a href=\"https://colab.research.google.com/github/CastleJH/CastleMouse/blob/master/lesson6/lesson6_rossmann.ipynb\" target=\"_parent\"><img src=\"https://colab.research.google.com/assets/colab-badge.svg\" alt=\"Open In Colab\"/></a>"
      ]
    },
    {
      "cell_type": "code",
      "metadata": {
        "id": "ZYLWczI5kRos",
        "colab_type": "code",
        "colab": {}
      },
      "source": [
        "%reload_ext autoreload\n",
        "%autoreload 2"
      ],
      "execution_count": 0,
      "outputs": []
    },
    {
      "cell_type": "code",
      "metadata": {
        "id": "cf9S_e2jkRox",
        "colab_type": "code",
        "colab": {}
      },
      "source": [
        "from fastai.tabular import *"
      ],
      "execution_count": 0,
      "outputs": []
    },
    {
      "cell_type": "code",
      "metadata": {
        "id": "bZEguDNEGBex",
        "colab_type": "code",
        "outputId": "36602142-3f69-4981-c3ac-497f653a0dc2",
        "colab": {
          "base_uri": "https://localhost:8080/",
          "height": 118
        }
      },
      "source": [
        "from google.colab import drive\n",
        "drive.mount('/content/gdrive', force_remount=True)\n",
        "root_dir = \"/content/gdrive/My Drive/\"\n",
        "base_dir = root_dir + 'fastai-v3/'"
      ],
      "execution_count": 3,
      "outputs": [
        {
          "output_type": "stream",
          "text": [
            "Go to this URL in a browser: https://accounts.google.com/o/oauth2/auth?client_id=947318989803-6bn6qk8qdgf4n4g3pfee6491hc0brc4i.apps.googleusercontent.com&redirect_uri=urn%3aietf%3awg%3aoauth%3a2.0%3aoob&response_type=code&scope=email%20https%3a%2f%2fwww.googleapis.com%2fauth%2fdocs.test%20https%3a%2f%2fwww.googleapis.com%2fauth%2fdrive%20https%3a%2f%2fwww.googleapis.com%2fauth%2fdrive.photos.readonly%20https%3a%2f%2fwww.googleapis.com%2fauth%2fpeopleapi.readonly\n",
            "\n",
            "Enter your authorization code:\n",
            "··········\n",
            "Mounted at /content/gdrive\n"
          ],
          "name": "stdout"
        }
      ]
    },
    {
      "cell_type": "markdown",
      "metadata": {
        "id": "vERRgJtaHjIr",
        "colab_type": "text"
      },
      "source": [
        "rossmann_data_clean.ipynb를 통해 만든 train_clean과 test_clean은 다시 만드는 일이 없도록 내 구글드라이브에 저장시켜놨다. 그렇기 때문에 구글드라이브에 연결한다."
      ]
    },
    {
      "cell_type": "code",
      "metadata": {
        "id": "_DIyHrTGGJPV",
        "colab_type": "code",
        "outputId": "9b7f7d4a-f835-4265-b457-f3f4eb249f34",
        "colab": {
          "base_uri": "https://localhost:8080/",
          "height": 33
        }
      },
      "source": [
        "path = Config.data_path()/'rossmann'\n",
        "path.mkdir(parents=True, exist_ok=True)\n",
        "path"
      ],
      "execution_count": 4,
      "outputs": [
        {
          "output_type": "execute_result",
          "data": {
            "text/plain": [
              "PosixPath('/root/.fastai/data/rossmann')"
            ]
          },
          "metadata": {
            "tags": []
          },
          "execution_count": 4
        }
      ]
    },
    {
      "cell_type": "code",
      "metadata": {
        "id": "BgOIA1QhGO11",
        "colab_type": "code",
        "colab": {}
      },
      "source": [
        "! cp '/content/gdrive/My Drive/fastai-v3/train_clean' '/root/.fastai/data/rossmann'\n",
        "! cp '/content/gdrive/My Drive/fastai-v3/test_clean' '/root/.fastai/data/rossmann'"
      ],
      "execution_count": 0,
      "outputs": []
    },
    {
      "cell_type": "markdown",
      "metadata": {
        "id": "v_-vNviIH5nw",
        "colab_type": "text"
      },
      "source": [
        "구글드라이브의 train_clean과 test_clean을 대상 디렉토리로 복사한다."
      ]
    },
    {
      "cell_type": "markdown",
      "metadata": {
        "id": "-wJ4iJ4HkRo1",
        "colab_type": "text"
      },
      "source": [
        "# Rossmann"
      ]
    },
    {
      "cell_type": "markdown",
      "metadata": {
        "id": "1_7HEku0kRo2",
        "colab_type": "text"
      },
      "source": [
        "## Data preparation"
      ]
    },
    {
      "cell_type": "markdown",
      "metadata": {
        "id": "00EqBXYCkRo2",
        "colab_type": "text"
      },
      "source": [
        "To create the feature-engineered train_clean and test_clean from the Kaggle competition data, run `rossman_data_clean.ipynb`. One important step that deals with time series is this:\n",
        "\n",
        "```python\n",
        "add_datepart(train, \"Date\", drop=False)\n",
        "add_datepart(test, \"Date\", drop=False)\n",
        "```"
      ]
    },
    {
      "cell_type": "code",
      "metadata": {
        "id": "b3q50Q9gkRo3",
        "colab_type": "code",
        "colab": {}
      },
      "source": [
        "train_df = pd.read_pickle(path/'train_clean')"
      ],
      "execution_count": 0,
      "outputs": []
    },
    {
      "cell_type": "markdown",
      "metadata": {
        "id": "svYSjVdoJUYy",
        "colab_type": "text"
      },
      "source": [
        "train_clean을 읽어오고,"
      ]
    },
    {
      "cell_type": "code",
      "metadata": {
        "id": "lr9ofSZTkRo6",
        "colab_type": "code",
        "outputId": "ff03216d-68ca-4996-e107-4a0145efa77a",
        "colab": {
          "base_uri": "https://localhost:8080/",
          "height": 391
        }
      },
      "source": [
        "train_df.head().T"
      ],
      "execution_count": 7,
      "outputs": [
        {
          "output_type": "execute_result",
          "data": {
            "text/html": [
              "<div>\n",
              "<style scoped>\n",
              "    .dataframe tbody tr th:only-of-type {\n",
              "        vertical-align: middle;\n",
              "    }\n",
              "\n",
              "    .dataframe tbody tr th {\n",
              "        vertical-align: top;\n",
              "    }\n",
              "\n",
              "    .dataframe thead th {\n",
              "        text-align: right;\n",
              "    }\n",
              "</style>\n",
              "<table border=\"1\" class=\"dataframe\">\n",
              "  <thead>\n",
              "    <tr style=\"text-align: right;\">\n",
              "      <th></th>\n",
              "      <th>0</th>\n",
              "      <th>1</th>\n",
              "      <th>2</th>\n",
              "      <th>3</th>\n",
              "      <th>4</th>\n",
              "    </tr>\n",
              "  </thead>\n",
              "  <tbody>\n",
              "    <tr>\n",
              "      <th>index</th>\n",
              "      <td>0</td>\n",
              "      <td>1</td>\n",
              "      <td>2</td>\n",
              "      <td>3</td>\n",
              "      <td>4</td>\n",
              "    </tr>\n",
              "    <tr>\n",
              "      <th>Store</th>\n",
              "      <td>1</td>\n",
              "      <td>2</td>\n",
              "      <td>3</td>\n",
              "      <td>4</td>\n",
              "      <td>5</td>\n",
              "    </tr>\n",
              "    <tr>\n",
              "      <th>DayOfWeek</th>\n",
              "      <td>5</td>\n",
              "      <td>5</td>\n",
              "      <td>5</td>\n",
              "      <td>5</td>\n",
              "      <td>5</td>\n",
              "    </tr>\n",
              "    <tr>\n",
              "      <th>Date</th>\n",
              "      <td>2015-07-31 00:00:00</td>\n",
              "      <td>2015-07-31 00:00:00</td>\n",
              "      <td>2015-07-31 00:00:00</td>\n",
              "      <td>2015-07-31 00:00:00</td>\n",
              "      <td>2015-07-31 00:00:00</td>\n",
              "    </tr>\n",
              "    <tr>\n",
              "      <th>Sales</th>\n",
              "      <td>5263</td>\n",
              "      <td>6064</td>\n",
              "      <td>8314</td>\n",
              "      <td>13995</td>\n",
              "      <td>4822</td>\n",
              "    </tr>\n",
              "    <tr>\n",
              "      <th>...</th>\n",
              "      <td>...</td>\n",
              "      <td>...</td>\n",
              "      <td>...</td>\n",
              "      <td>...</td>\n",
              "      <td>...</td>\n",
              "    </tr>\n",
              "    <tr>\n",
              "      <th>StateHoliday_bw</th>\n",
              "      <td>0</td>\n",
              "      <td>0</td>\n",
              "      <td>0</td>\n",
              "      <td>0</td>\n",
              "      <td>0</td>\n",
              "    </tr>\n",
              "    <tr>\n",
              "      <th>Promo_bw</th>\n",
              "      <td>5</td>\n",
              "      <td>5</td>\n",
              "      <td>5</td>\n",
              "      <td>5</td>\n",
              "      <td>5</td>\n",
              "    </tr>\n",
              "    <tr>\n",
              "      <th>SchoolHoliday_fw</th>\n",
              "      <td>7</td>\n",
              "      <td>1</td>\n",
              "      <td>5</td>\n",
              "      <td>1</td>\n",
              "      <td>1</td>\n",
              "    </tr>\n",
              "    <tr>\n",
              "      <th>StateHoliday_fw</th>\n",
              "      <td>0</td>\n",
              "      <td>0</td>\n",
              "      <td>0</td>\n",
              "      <td>0</td>\n",
              "      <td>0</td>\n",
              "    </tr>\n",
              "    <tr>\n",
              "      <th>Promo_fw</th>\n",
              "      <td>5</td>\n",
              "      <td>1</td>\n",
              "      <td>5</td>\n",
              "      <td>1</td>\n",
              "      <td>1</td>\n",
              "    </tr>\n",
              "  </tbody>\n",
              "</table>\n",
              "<p>93 rows × 5 columns</p>\n",
              "</div>"
            ],
            "text/plain": [
              "                                    0  ...                    4\n",
              "index                               0  ...                    4\n",
              "Store                               1  ...                    5\n",
              "DayOfWeek                           5  ...                    5\n",
              "Date              2015-07-31 00:00:00  ...  2015-07-31 00:00:00\n",
              "Sales                            5263  ...                 4822\n",
              "...                               ...  ...                  ...\n",
              "StateHoliday_bw                     0  ...                    0\n",
              "Promo_bw                            5  ...                    5\n",
              "SchoolHoliday_fw                    7  ...                    1\n",
              "StateHoliday_fw                     0  ...                    0\n",
              "Promo_fw                            5  ...                    1\n",
              "\n",
              "[93 rows x 5 columns]"
            ]
          },
          "metadata": {
            "tags": []
          },
          "execution_count": 7
        }
      ]
    },
    {
      "cell_type": "markdown",
      "metadata": {
        "id": "w5ScoBmLJc_R",
        "colab_type": "text"
      },
      "source": [
        "앞의 5열을 보여준다. 중간이 생략되긴 했지만, 보여진 부분의 데이터가 강의자의 데이터와 일치하는 것으로 보아 rossmann_data_clean.ipynb에서 train과 test pickle이 잘 만들어진 것 같다."
      ]
    },
    {
      "cell_type": "code",
      "metadata": {
        "id": "TvaTYLgfkRo9",
        "colab_type": "code",
        "outputId": "43b4f97b-7c97-471e-963d-2daba0065cda",
        "colab": {
          "base_uri": "https://localhost:8080/",
          "height": 33
        }
      },
      "source": [
        "n = len(train_df); n"
      ],
      "execution_count": 8,
      "outputs": [
        {
          "output_type": "execute_result",
          "data": {
            "text/plain": [
              "844338"
            ]
          },
          "metadata": {
            "tags": []
          },
          "execution_count": 8
        }
      ]
    },
    {
      "cell_type": "markdown",
      "metadata": {
        "id": "SxNtgijSJ6Fv",
        "colab_type": "text"
      },
      "source": [
        "데이터 수는 이정도이다."
      ]
    },
    {
      "cell_type": "markdown",
      "metadata": {
        "id": "P_ciKV82kRpA",
        "colab_type": "text"
      },
      "source": [
        "### Experimenting with a sample"
      ]
    },
    {
      "cell_type": "markdown",
      "metadata": {
        "id": "mcA5Pv1NKO3d",
        "colab_type": "text"
      },
      "source": [
        "지금 배울것은 preprocesses인데, 익히 써온 transforms와 비슷하다(이것은 이번 강의에서 후에 다룰 data augmentation의 방법이기도 하다). 그러나 다른점이 있다면, transforms는 샘플링 될 때마다 다른 값들로 바뀌지만, preprocesses는 그 어느 train을 시작하기 전이든지 딱 한번만 적용되고, 이를 통해 적용된 상태나 값이 validation이랑 test set에도 공유된다.\n",
        "\n",
        "사실 preprocesses는 모르는 사이에 이미 해봤던 것이다. 이전 lesson에서 펫을 구분할 때 얘들을 모두 숫자로 바꿔서 train했었는데, 바로 이게 preprocessor가 해준 것이다."
      ]
    },
    {
      "cell_type": "code",
      "metadata": {
        "id": "CI_aUxL_kRpA",
        "colab_type": "code",
        "colab": {}
      },
      "source": [
        "idx = np.random.permutation(range(n))[:2000]\n",
        "idx.sort()\n",
        "small_train_df = train_df.iloc[idx[:1000]]\n",
        "small_test_df = train_df.iloc[idx[1000:]]\n",
        "small_cont_vars = ['CompetitionDistance', 'Mean_Humidity']\n",
        "small_cat_vars =  ['Store', 'DayOfWeek', 'PromoInterval']\n",
        "small_train_df = small_train_df[small_cat_vars + small_cont_vars + ['Sales']]\n",
        "small_test_df = small_test_df[small_cat_vars + small_cont_vars + ['Sales']]"
      ],
      "execution_count": 0,
      "outputs": []
    },
    {
      "cell_type": "markdown",
      "metadata": {
        "id": "XpDYwqdIMJ1G",
        "colab_type": "text"
      },
      "source": [
        "본격적으로 전체 데이터를 다루기 전에 전체 데이터에서 샘플로 2000개 데이터를 랜덤하게 뽑아서 실험해볼 것이다. 적절히 섞어서 절반씩 train과 test데이터로 설정했다. 다시 각 데이터에서 연속적인 데이터는 competitionDistance와 Mean_Humidity를 가져오고, 카테고리 데이터는 stor, DayOfWeek, PromoInterval을 가져온 후, Sales를 마지막에 추가해주면서 샘플 데이터 프레임을 마련했다."
      ]
    },
    {
      "cell_type": "code",
      "metadata": {
        "id": "okTeoA2vkRpD",
        "colab_type": "code",
        "outputId": "13ce31eb-32c1-416d-cf38-48df2905dfcc",
        "colab": {
          "base_uri": "https://localhost:8080/",
          "height": 191
        }
      },
      "source": [
        "small_train_df.head()"
      ],
      "execution_count": 10,
      "outputs": [
        {
          "output_type": "execute_result",
          "data": {
            "text/html": [
              "<div>\n",
              "<style scoped>\n",
              "    .dataframe tbody tr th:only-of-type {\n",
              "        vertical-align: middle;\n",
              "    }\n",
              "\n",
              "    .dataframe tbody tr th {\n",
              "        vertical-align: top;\n",
              "    }\n",
              "\n",
              "    .dataframe thead th {\n",
              "        text-align: right;\n",
              "    }\n",
              "</style>\n",
              "<table border=\"1\" class=\"dataframe\">\n",
              "  <thead>\n",
              "    <tr style=\"text-align: right;\">\n",
              "      <th></th>\n",
              "      <th>Store</th>\n",
              "      <th>DayOfWeek</th>\n",
              "      <th>PromoInterval</th>\n",
              "      <th>CompetitionDistance</th>\n",
              "      <th>Mean_Humidity</th>\n",
              "      <th>Sales</th>\n",
              "    </tr>\n",
              "  </thead>\n",
              "  <tbody>\n",
              "    <tr>\n",
              "      <th>891</th>\n",
              "      <td>894</td>\n",
              "      <td>5</td>\n",
              "      <td>NaN</td>\n",
              "      <td>190.0</td>\n",
              "      <td>61</td>\n",
              "      <td>11866</td>\n",
              "    </tr>\n",
              "    <tr>\n",
              "      <th>1364</th>\n",
              "      <td>252</td>\n",
              "      <td>4</td>\n",
              "      <td>Feb,May,Aug,Nov</td>\n",
              "      <td>22330.0</td>\n",
              "      <td>73</td>\n",
              "      <td>12166</td>\n",
              "    </tr>\n",
              "    <tr>\n",
              "      <th>1367</th>\n",
              "      <td>255</td>\n",
              "      <td>4</td>\n",
              "      <td>Feb,May,Aug,Nov</td>\n",
              "      <td>4630.0</td>\n",
              "      <td>73</td>\n",
              "      <td>7510</td>\n",
              "    </tr>\n",
              "    <tr>\n",
              "      <th>2111</th>\n",
              "      <td>1001</td>\n",
              "      <td>4</td>\n",
              "      <td>Jan,Apr,Jul,Oct</td>\n",
              "      <td>19640.0</td>\n",
              "      <td>58</td>\n",
              "      <td>6418</td>\n",
              "    </tr>\n",
              "    <tr>\n",
              "      <th>2830</th>\n",
              "      <td>606</td>\n",
              "      <td>3</td>\n",
              "      <td>NaN</td>\n",
              "      <td>2260.0</td>\n",
              "      <td>54</td>\n",
              "      <td>6338</td>\n",
              "    </tr>\n",
              "  </tbody>\n",
              "</table>\n",
              "</div>"
            ],
            "text/plain": [
              "      Store  DayOfWeek  ... Mean_Humidity  Sales\n",
              "891     894          5  ...            61  11866\n",
              "1364    252          4  ...            73  12166\n",
              "1367    255          4  ...            73   7510\n",
              "2111   1001          4  ...            58   6418\n",
              "2830    606          3  ...            54   6338\n",
              "\n",
              "[5 rows x 6 columns]"
            ]
          },
          "metadata": {
            "tags": []
          },
          "execution_count": 10
        }
      ]
    },
    {
      "cell_type": "markdown",
      "metadata": {
        "id": "xLzQYtG-NDiP",
        "colab_type": "text"
      },
      "source": [
        "내가 랜덤하게 가져오게 된 train 데이터들은 다음과 같다. 앞의 5개를 보니 위에서 고른 6개 기준으로 잘 이루어져있다. 참고로 PromoInterval에서 NaN인 경우는 값이 없다는 뜻이다."
      ]
    },
    {
      "cell_type": "code",
      "metadata": {
        "id": "TE7TFQSgkRpF",
        "colab_type": "code",
        "outputId": "b3471681-e37d-459a-a8df-3e8a7a87680e",
        "colab": {
          "base_uri": "https://localhost:8080/",
          "height": 191
        }
      },
      "source": [
        "small_test_df.head()"
      ],
      "execution_count": 11,
      "outputs": [
        {
          "output_type": "execute_result",
          "data": {
            "text/html": [
              "<div>\n",
              "<style scoped>\n",
              "    .dataframe tbody tr th:only-of-type {\n",
              "        vertical-align: middle;\n",
              "    }\n",
              "\n",
              "    .dataframe tbody tr th {\n",
              "        vertical-align: top;\n",
              "    }\n",
              "\n",
              "    .dataframe thead th {\n",
              "        text-align: right;\n",
              "    }\n",
              "</style>\n",
              "<table border=\"1\" class=\"dataframe\">\n",
              "  <thead>\n",
              "    <tr style=\"text-align: right;\">\n",
              "      <th></th>\n",
              "      <th>Store</th>\n",
              "      <th>DayOfWeek</th>\n",
              "      <th>PromoInterval</th>\n",
              "      <th>CompetitionDistance</th>\n",
              "      <th>Mean_Humidity</th>\n",
              "      <th>Sales</th>\n",
              "    </tr>\n",
              "  </thead>\n",
              "  <tbody>\n",
              "    <tr>\n",
              "      <th>425064</th>\n",
              "      <td>903</td>\n",
              "      <td>5</td>\n",
              "      <td>NaN</td>\n",
              "      <td>7290.0</td>\n",
              "      <td>67</td>\n",
              "      <td>10398</td>\n",
              "    </tr>\n",
              "    <tr>\n",
              "      <th>425097</th>\n",
              "      <td>936</td>\n",
              "      <td>5</td>\n",
              "      <td>NaN</td>\n",
              "      <td>580.0</td>\n",
              "      <td>53</td>\n",
              "      <td>5581</td>\n",
              "    </tr>\n",
              "    <tr>\n",
              "      <th>425639</th>\n",
              "      <td>364</td>\n",
              "      <td>4</td>\n",
              "      <td>Mar,Jun,Sept,Dec</td>\n",
              "      <td>13620.0</td>\n",
              "      <td>46</td>\n",
              "      <td>3920</td>\n",
              "    </tr>\n",
              "    <tr>\n",
              "      <th>426407</th>\n",
              "      <td>21</td>\n",
              "      <td>3</td>\n",
              "      <td>Jan,Apr,Jul,Oct</td>\n",
              "      <td>550.0</td>\n",
              "      <td>68</td>\n",
              "      <td>3019</td>\n",
              "    </tr>\n",
              "    <tr>\n",
              "      <th>426987</th>\n",
              "      <td>604</td>\n",
              "      <td>3</td>\n",
              "      <td>NaN</td>\n",
              "      <td>10950.0</td>\n",
              "      <td>78</td>\n",
              "      <td>5795</td>\n",
              "    </tr>\n",
              "  </tbody>\n",
              "</table>\n",
              "</div>"
            ],
            "text/plain": [
              "        Store  DayOfWeek  ... Mean_Humidity  Sales\n",
              "425064    903          5  ...            67  10398\n",
              "425097    936          5  ...            53   5581\n",
              "425639    364          4  ...            46   3920\n",
              "426407     21          3  ...            68   3019\n",
              "426987    604          3  ...            78   5795\n",
              "\n",
              "[5 rows x 6 columns]"
            ]
          },
          "metadata": {
            "tags": []
          },
          "execution_count": 11
        }
      ]
    },
    {
      "cell_type": "markdown",
      "metadata": {
        "id": "2xrEnmazNaXZ",
        "colab_type": "text"
      },
      "source": [
        "test 데이터들도 train처럼 정상적으로 만들어졌다. "
      ]
    },
    {
      "cell_type": "code",
      "metadata": {
        "id": "VtxwuaGZkRpI",
        "colab_type": "code",
        "colab": {}
      },
      "source": [
        "categorify = Categorify(small_cat_vars, small_cont_vars)\n",
        "categorify(small_train_df)\n",
        "categorify(small_test_df, test=True)"
      ],
      "execution_count": 0,
      "outputs": []
    },
    {
      "cell_type": "markdown",
      "metadata": {
        "id": "sGVgJDfaN8qN",
        "colab_type": "text"
      },
      "source": [
        "이제 preprocessing 작업이다. 지금 볼 preprocessor는 Categorify이다. Categorify가 해주는 것은 Image Classification에서의 .classes와 비슷하다. 존재하는 것이 가능한 값들을 모두 찾아서 리스트를 만든 만든다음에 숫자로 바꿔준다. 테스트 데이터 프레임에는 이전에 만든 카테고리와 같은 카테고리를 만들겠다고 해준다(test=True)."
      ]
    },
    {
      "cell_type": "code",
      "metadata": {
        "id": "ioWRJ39fkRpK",
        "colab_type": "code",
        "outputId": "0d306a31-4cf7-44e9-d79b-91e0cdfbe110",
        "colab": {
          "base_uri": "https://localhost:8080/",
          "height": 191
        }
      },
      "source": [
        "small_test_df.head()"
      ],
      "execution_count": 13,
      "outputs": [
        {
          "output_type": "execute_result",
          "data": {
            "text/html": [
              "<div>\n",
              "<style scoped>\n",
              "    .dataframe tbody tr th:only-of-type {\n",
              "        vertical-align: middle;\n",
              "    }\n",
              "\n",
              "    .dataframe tbody tr th {\n",
              "        vertical-align: top;\n",
              "    }\n",
              "\n",
              "    .dataframe thead th {\n",
              "        text-align: right;\n",
              "    }\n",
              "</style>\n",
              "<table border=\"1\" class=\"dataframe\">\n",
              "  <thead>\n",
              "    <tr style=\"text-align: right;\">\n",
              "      <th></th>\n",
              "      <th>Store</th>\n",
              "      <th>DayOfWeek</th>\n",
              "      <th>PromoInterval</th>\n",
              "      <th>CompetitionDistance</th>\n",
              "      <th>Mean_Humidity</th>\n",
              "      <th>Sales</th>\n",
              "    </tr>\n",
              "  </thead>\n",
              "  <tbody>\n",
              "    <tr>\n",
              "      <th>425064</th>\n",
              "      <td>903</td>\n",
              "      <td>5</td>\n",
              "      <td>NaN</td>\n",
              "      <td>7290.0</td>\n",
              "      <td>67</td>\n",
              "      <td>10398</td>\n",
              "    </tr>\n",
              "    <tr>\n",
              "      <th>425097</th>\n",
              "      <td>NaN</td>\n",
              "      <td>5</td>\n",
              "      <td>NaN</td>\n",
              "      <td>580.0</td>\n",
              "      <td>53</td>\n",
              "      <td>5581</td>\n",
              "    </tr>\n",
              "    <tr>\n",
              "      <th>425639</th>\n",
              "      <td>364</td>\n",
              "      <td>4</td>\n",
              "      <td>Mar,Jun,Sept,Dec</td>\n",
              "      <td>13620.0</td>\n",
              "      <td>46</td>\n",
              "      <td>3920</td>\n",
              "    </tr>\n",
              "    <tr>\n",
              "      <th>426407</th>\n",
              "      <td>21</td>\n",
              "      <td>3</td>\n",
              "      <td>Jan,Apr,Jul,Oct</td>\n",
              "      <td>550.0</td>\n",
              "      <td>68</td>\n",
              "      <td>3019</td>\n",
              "    </tr>\n",
              "    <tr>\n",
              "      <th>426987</th>\n",
              "      <td>NaN</td>\n",
              "      <td>3</td>\n",
              "      <td>NaN</td>\n",
              "      <td>10950.0</td>\n",
              "      <td>78</td>\n",
              "      <td>5795</td>\n",
              "    </tr>\n",
              "  </tbody>\n",
              "</table>\n",
              "</div>"
            ],
            "text/plain": [
              "       Store DayOfWeek  ... Mean_Humidity  Sales\n",
              "425064   903         5  ...            67  10398\n",
              "425097   NaN         5  ...            53   5581\n",
              "425639   364         4  ...            46   3920\n",
              "426407    21         3  ...            68   3019\n",
              "426987   NaN         3  ...            78   5795\n",
              "\n",
              "[5 rows x 6 columns]"
            ]
          },
          "metadata": {
            "tags": []
          },
          "execution_count": 13
        }
      ]
    },
    {
      "cell_type": "markdown",
      "metadata": {
        "id": "a7Jc_N6BPMUh",
        "colab_type": "text"
      },
      "source": [
        "그 후 다시 데이터를 확인해보면, 겉으로 보기에는 이전이랑 똑같이 그저 문자열로 보인다. 하지만 사실 이것은 내부적으로는 숫자를 저장하고 있는 상태이다."
      ]
    },
    {
      "cell_type": "code",
      "metadata": {
        "id": "EJOw1xXUkRpM",
        "colab_type": "code",
        "outputId": "011937a3-0a7a-4d92-c184-494c84b45b9e",
        "colab": {
          "base_uri": "https://localhost:8080/",
          "height": 33
        }
      },
      "source": [
        "small_train_df.PromoInterval.cat.categories"
      ],
      "execution_count": 14,
      "outputs": [
        {
          "output_type": "execute_result",
          "data": {
            "text/plain": [
              "Index(['Feb,May,Aug,Nov', 'Jan,Apr,Jul,Oct', 'Mar,Jun,Sept,Dec'], dtype='object')"
            ]
          },
          "metadata": {
            "tags": []
          },
          "execution_count": 14
        }
      ]
    },
    {
      "cell_type": "markdown",
      "metadata": {
        "id": "_YHB1kXEPfSy",
        "colab_type": "text"
      },
      "source": [
        "이렇게 PromoInterval에 어떤 카테고리들이 존재하는지 볼 수 있다(fastai에서는 classes라고 했는데, Pandas에서는 categories라고 하니 명칭은 별 상관 없다)."
      ]
    },
    {
      "cell_type": "code",
      "metadata": {
        "id": "Lr6h979OkRpP",
        "colab_type": "code",
        "outputId": "cde6de9c-b15b-47d4-c6db-50b6d5bd09ce",
        "colab": {
          "base_uri": "https://localhost:8080/",
          "height": 115
        }
      },
      "source": [
        "small_train_df['PromoInterval'].cat.codes[:5]"
      ],
      "execution_count": 15,
      "outputs": [
        {
          "output_type": "execute_result",
          "data": {
            "text/plain": [
              "891    -1\n",
              "1364    0\n",
              "1367    0\n",
              "2111    1\n",
              "2830   -1\n",
              "dtype: int8"
            ]
          },
          "metadata": {
            "tags": []
          },
          "execution_count": 15
        }
      ]
    },
    {
      "cell_type": "markdown",
      "metadata": {
        "id": "T6hIJZeTP8Pd",
        "colab_type": "text"
      },
      "source": [
        "실제로 cat.codes로 promoInterval의 카테고리값을 읽어보면 다음과 같이 숫자로 구성되어 있는 것을 알 수 있다. 위의 샘플 train set과 비교해보면, 'Jan,Ar,Jul,Oct'가 1(바로 위 코드로 나타나는 리스트에서도 보면 인덱스가 1이다)이고, NaN은 -1로 여겨지는 것을 알 수 있다. "
      ]
    },
    {
      "cell_type": "markdown",
      "metadata": {
        "id": "4lyH9Y1tQcIv",
        "colab_type": "text"
      },
      "source": [
        "embedding matrix에서는 -1을 찾으면 안되니 NaN을 의미하는 것이 -1이라면 문제가 된다. fastai에서는 이 경우 모두 1을 더해주며 문제를 해결했었다."
      ]
    },
    {
      "cell_type": "code",
      "metadata": {
        "id": "RHFp6R82kRpQ",
        "colab_type": "code",
        "colab": {}
      },
      "source": [
        "fill_missing = FillMissing(small_cat_vars, small_cont_vars)\n",
        "fill_missing(small_train_df)\n",
        "fill_missing(small_test_df, test=True)"
      ],
      "execution_count": 0,
      "outputs": []
    },
    {
      "cell_type": "markdown",
      "metadata": {
        "id": "THBRW0xvQ4Wn",
        "colab_type": "text"
      },
      "source": [
        "여기서 새로운 preprocessor를 써볼 것인데 바로 FillMissing이다. 아까와 마찬가지로 데이터 프레임들을 넣어주고, test는 이전 결과와 동일하게 적용시켜준다."
      ]
    },
    {
      "cell_type": "code",
      "metadata": {
        "id": "edtWst7gkRpS",
        "colab_type": "code",
        "outputId": "28770a5c-950d-4675-c9df-f97675f9e817",
        "colab": {
          "base_uri": "https://localhost:8080/",
          "height": 133
        }
      },
      "source": [
        "small_train_df[small_train_df['CompetitionDistance_na'] == True]"
      ],
      "execution_count": 17,
      "outputs": [
        {
          "output_type": "execute_result",
          "data": {
            "text/html": [
              "<div>\n",
              "<style scoped>\n",
              "    .dataframe tbody tr th:only-of-type {\n",
              "        vertical-align: middle;\n",
              "    }\n",
              "\n",
              "    .dataframe tbody tr th {\n",
              "        vertical-align: top;\n",
              "    }\n",
              "\n",
              "    .dataframe thead th {\n",
              "        text-align: right;\n",
              "    }\n",
              "</style>\n",
              "<table border=\"1\" class=\"dataframe\">\n",
              "  <thead>\n",
              "    <tr style=\"text-align: right;\">\n",
              "      <th></th>\n",
              "      <th>Store</th>\n",
              "      <th>DayOfWeek</th>\n",
              "      <th>PromoInterval</th>\n",
              "      <th>CompetitionDistance</th>\n",
              "      <th>Mean_Humidity</th>\n",
              "      <th>Sales</th>\n",
              "      <th>CompetitionDistance_na</th>\n",
              "    </tr>\n",
              "  </thead>\n",
              "  <tbody>\n",
              "    <tr>\n",
              "      <th>36414</th>\n",
              "      <td>622</td>\n",
              "      <td>3</td>\n",
              "      <td>NaN</td>\n",
              "      <td>2180.0</td>\n",
              "      <td>74</td>\n",
              "      <td>4030</td>\n",
              "      <td>True</td>\n",
              "    </tr>\n",
              "    <tr>\n",
              "      <th>102713</th>\n",
              "      <td>291</td>\n",
              "      <td>6</td>\n",
              "      <td>NaN</td>\n",
              "      <td>2180.0</td>\n",
              "      <td>55</td>\n",
              "      <td>3658</td>\n",
              "      <td>True</td>\n",
              "    </tr>\n",
              "    <tr>\n",
              "      <th>246606</th>\n",
              "      <td>622</td>\n",
              "      <td>1</td>\n",
              "      <td>NaN</td>\n",
              "      <td>2180.0</td>\n",
              "      <td>75</td>\n",
              "      <td>3943</td>\n",
              "      <td>True</td>\n",
              "    </tr>\n",
              "  </tbody>\n",
              "</table>\n",
              "</div>"
            ],
            "text/plain": [
              "       Store DayOfWeek  ... Sales  CompetitionDistance_na\n",
              "36414    622         3  ...  4030                    True\n",
              "102713   291         6  ...  3658                    True\n",
              "246606   622         1  ...  3943                    True\n",
              "\n",
              "[3 rows x 7 columns]"
            ]
          },
          "metadata": {
            "tags": []
          },
          "execution_count": 17
        }
      ]
    },
    {
      "cell_type": "markdown",
      "metadata": {
        "id": "yv-moJVjRxEm",
        "colab_type": "text"
      },
      "source": [
        "이렇게하면 columnname_na라는 열이 생성되는데 missing이 일어날 때마다 True로 세팅된다. 그 후 columnname(여기서는 CompetitionDistance이다)을 중앙값으로 바꿔준다.\n",
        "\n",
        "이 작업들이 일어나는 이유는, 일단 값이 없다는 것 자체도 중요한 요소이므로 이것을 boolean값을 가지는 열을 만들어서 저장하게된다. 그래서 모델이 이 값도 예측에 쓰도록 해준다. 그런데 우리는 CompetitonDistance가 연속적인 값을 가지게 해줘야한다. 그래서 중앙값을 갖게 해준다."
      ]
    },
    {
      "cell_type": "markdown",
      "metadata": {
        "id": "ZK-vUTKTkRpU",
        "colab_type": "text"
      },
      "source": [
        "### Preparing full data set"
      ]
    },
    {
      "cell_type": "markdown",
      "metadata": {
        "id": "0zM83edRUSU_",
        "colab_type": "text"
      },
      "source": [
        "이런저런 과정들이 필요하다고는 하지만 위처럼 일일히 해줄 필요는 없다. 다음 코드들은 한번에 하는 모습을 보여준다."
      ]
    },
    {
      "cell_type": "code",
      "metadata": {
        "id": "qhsi3lT6kRpV",
        "colab_type": "code",
        "colab": {}
      },
      "source": [
        "train_df = pd.read_pickle(path/'train_clean')\n",
        "test_df = pd.read_pickle(path/'test_clean')"
      ],
      "execution_count": 0,
      "outputs": []
    },
    {
      "cell_type": "markdown",
      "metadata": {
        "id": "ulKXehmpUba3",
        "colab_type": "text"
      },
      "source": [
        "우선 다시 데이터프레임으로 읽고,"
      ]
    },
    {
      "cell_type": "code",
      "metadata": {
        "id": "KHdhoWz7kRpW",
        "colab_type": "code",
        "outputId": "ce7a9c33-36e4-45c5-e738-f9f12befed87",
        "colab": {
          "base_uri": "https://localhost:8080/",
          "height": 33
        }
      },
      "source": [
        "len(train_df),len(test_df)"
      ],
      "execution_count": 19,
      "outputs": [
        {
          "output_type": "execute_result",
          "data": {
            "text/plain": [
              "(844338, 41088)"
            ]
          },
          "metadata": {
            "tags": []
          },
          "execution_count": 19
        }
      ]
    },
    {
      "cell_type": "markdown",
      "metadata": {
        "id": "n4aA2Uo9Ugqe",
        "colab_type": "text"
      },
      "source": [
        "데이터 개수는 이정도이다."
      ]
    },
    {
      "cell_type": "code",
      "metadata": {
        "id": "YmiBa_bHkRpZ",
        "colab_type": "code",
        "colab": {}
      },
      "source": [
        "procs=[FillMissing, Categorify, Normalize]"
      ],
      "execution_count": 0,
      "outputs": []
    },
    {
      "cell_type": "markdown",
      "metadata": {
        "id": "92ht5ly8UsZJ",
        "colab_type": "text"
      },
      "source": [
        "이런 전처리 과정들이 필요하다고 해준 뒤,"
      ]
    },
    {
      "cell_type": "code",
      "metadata": {
        "id": "eRuXog8OkRpa",
        "colab_type": "code",
        "colab": {}
      },
      "source": [
        "cat_vars = ['Store', 'DayOfWeek', 'Year', 'Month', 'Day', 'StateHoliday', 'CompetitionMonthsOpen',\n",
        "    'Promo2Weeks', 'StoreType', 'Assortment', 'PromoInterval', 'CompetitionOpenSinceYear', 'Promo2SinceYear',\n",
        "    'State', 'Week', 'Events', 'Promo_fw', 'Promo_bw', 'StateHoliday_fw', 'StateHoliday_bw',\n",
        "    'SchoolHoliday_fw', 'SchoolHoliday_bw']\n",
        "\n",
        "cont_vars = ['CompetitionDistance', 'Max_TemperatureC', 'Mean_TemperatureC', 'Min_TemperatureC',\n",
        "   'Max_Humidity', 'Mean_Humidity', 'Min_Humidity', 'Max_Wind_SpeedKm_h', \n",
        "   'Mean_Wind_SpeedKm_h', 'CloudCover', 'trend', 'trend_DE',\n",
        "   'AfterStateHoliday', 'BeforeStateHoliday', 'Promo', 'SchoolHoliday']"
      ],
      "execution_count": 0,
      "outputs": []
    },
    {
      "cell_type": "markdown",
      "metadata": {
        "id": "_eBYElRwUzm2",
        "colab_type": "text"
      },
      "source": [
        "카테고리와 연속값들을 알려주고,"
      ]
    },
    {
      "cell_type": "code",
      "metadata": {
        "id": "Mko9G1ESkRpc",
        "colab_type": "code",
        "colab": {}
      },
      "source": [
        "dep_var = 'Sales'\n",
        "df = train_df[cat_vars + cont_vars + [dep_var,'Date']].copy()"
      ],
      "execution_count": 0,
      "outputs": []
    },
    {
      "cell_type": "code",
      "metadata": {
        "id": "HUvwY8sVkRpd",
        "colab_type": "code",
        "outputId": "a29b2fc6-3f7e-4859-813f-47db3203b576",
        "colab": {
          "base_uri": "https://localhost:8080/",
          "height": 33
        }
      },
      "source": [
        "test_df['Date'].min(), test_df['Date'].max()"
      ],
      "execution_count": 23,
      "outputs": [
        {
          "output_type": "execute_result",
          "data": {
            "text/plain": [
              "(Timestamp('2015-08-01 00:00:00'), Timestamp('2015-09-17 00:00:00'))"
            ]
          },
          "metadata": {
            "tags": []
          },
          "execution_count": 23
        }
      ]
    },
    {
      "cell_type": "code",
      "metadata": {
        "id": "yhTRk_m4kRpf",
        "colab_type": "code",
        "outputId": "e4f839c3-98bd-451a-cd90-708e3411f341",
        "colab": {
          "base_uri": "https://localhost:8080/",
          "height": 33
        }
      },
      "source": [
        "cut = train_df['Date'][(train_df['Date'] == train_df['Date'][len(test_df)])].index.max()\n",
        "cut"
      ],
      "execution_count": 24,
      "outputs": [
        {
          "output_type": "execute_result",
          "data": {
            "text/plain": [
              "41395"
            ]
          },
          "metadata": {
            "tags": []
          },
          "execution_count": 24
        }
      ]
    },
    {
      "cell_type": "code",
      "metadata": {
        "id": "8Ap66CwNkRpg",
        "colab_type": "code",
        "colab": {}
      },
      "source": [
        "valid_idx = range(cut)"
      ],
      "execution_count": 0,
      "outputs": []
    },
    {
      "cell_type": "code",
      "metadata": {
        "id": "vBEL7v31kRpi",
        "colab_type": "code",
        "outputId": "fcbbcb5e-f4a3-4ce4-9780-fe9cda7497f3",
        "colab": {
          "base_uri": "https://localhost:8080/",
          "height": 115
        }
      },
      "source": [
        "df[dep_var].head()"
      ],
      "execution_count": 26,
      "outputs": [
        {
          "output_type": "execute_result",
          "data": {
            "text/plain": [
              "0     5263\n",
              "1     6064\n",
              "2     8314\n",
              "3    13995\n",
              "4     4822\n",
              "Name: Sales, dtype: int64"
            ]
          },
          "metadata": {
            "tags": []
          },
          "execution_count": 26
        }
      ]
    },
    {
      "cell_type": "code",
      "metadata": {
        "id": "nkAAGFHwkRpj",
        "colab_type": "code",
        "colab": {}
      },
      "source": [
        "data = (TabularList.from_df(df, path=path, cat_names=cat_vars, cont_names=cont_vars, procs=procs,)\n",
        "                .split_by_idx(valid_idx)\n",
        "                .label_from_df(cols=dep_var, label_cls=FloatList, log=True)\n",
        "                .add_test(TabularList.from_df(test_df, path=path, cat_names=cat_vars, cont_names=cont_vars))\n",
        "                .databunch())"
      ],
      "execution_count": 0,
      "outputs": []
    },
    {
      "cell_type": "markdown",
      "metadata": {
        "id": "JO1YY_MJVWZd",
        "colab_type": "text"
      },
      "source": [
        "익숙한 data block API를 써서 한번에 전처리 과정들을 적용시켜주며 데이터셋을 만들게된다.\n",
        "\n",
        "주의해야 할 부분이 label_cls=FloatList이다(물론, 이게 의미하는건 우리의 목표인 sales이다). 만약 label의 값의 데이터 형이 float였다면 fastai는 내가 regression을 하리라고 인식하지만, 현재 이 값의 데이터형은 int이고 이 경우 fastai는 내가 classification을 하리라고 인식하게 된다. 그래서 우리는 라벨링 할 때, 우리가 주는 것이 카테고리 리스트가 아니라 float리스트임을 알려주고 이를 통해 fastai가 regression을 하도록 만든다.\n",
        "\n",
        "그리고 log를 취해줌으로써 비중을 낮춰주는데, 이것으로 인해 뒤의 작업이 필요하다."
      ]
    },
    {
      "cell_type": "code",
      "metadata": {
        "id": "Vtx5PcyWkRpl",
        "colab_type": "code",
        "outputId": "64b0a93e-a671-4c4a-b98e-fd90a8c22582",
        "colab": {
          "base_uri": "https://localhost:8080/",
          "height": 192
        }
      },
      "source": [
        "doc(FloatList)"
      ],
      "execution_count": 28,
      "outputs": [
        {
          "output_type": "display_data",
          "data": {
            "text/html": [
              "<h2 id=\"FloatList\" class=\"doc_header\"><code>class</code> <code>FloatList</code><a href=\"https://github.com/fastai/fastai/blob/master/fastai/data_block.py#L434\" class=\"source_link\" style=\"float:right\">[source]</a><a class=\"source_link\" data-toggle=\"collapse\" data-target=\"#FloatList-pytest\" style=\"float:right; padding-right:10px\">[test]</a></h2><blockquote><p><code>FloatList</code>(<strong><code>items</code></strong>:<code>Iterator</code>, <strong><code>log</code></strong>:<code>bool</code>=<strong><em><code>False</code></em></strong>, <strong><code>classes</code></strong>:<code>Collection</code>=<strong><em><code>None</code></em></strong>, <strong>**<code>kwargs</code></strong>) :: <a href=\"https://docs.fast.ai/data_block.html#ItemList\"><code>ItemList</code></a></p>\n",
              "</blockquote>\n",
              "<div class=\"collapse\" id=\"FloatList-pytest\"><div class=\"card card-body pytest_card\"><a type=\"button\" data-toggle=\"collapse\" data-target=\"#FloatList-pytest\" class=\"close\" aria-label=\"Close\"><span aria-hidden=\"true\">&times;</span></a><p>No tests found for <code>FloatList</code>. To contribute a test please refer to <a href=\"/dev/test.html\">this guide</a> and <a href=\"https://forums.fast.ai/t/improving-expanding-functional-tests/32929\">this discussion</a>.</p></div></div><p><a href=\"https://docs.fast.ai/data_block.html#ItemList\"><code>ItemList</code></a> suitable for storing the floats in items for regression. Will add a <code>log</code> if this flag is <code>True</code>.</p>\n",
              "<p><a href=\"https://docs.fast.ai/data_block.html#FloatList\" target=\"_blank\" rel=\"noreferrer noopener\">Show in docs</a></p>\n"
            ],
            "text/plain": [
              "<IPython.core.display.HTML object>"
            ]
          },
          "metadata": {
            "tags": []
          }
        }
      ]
    },
    {
      "cell_type": "markdown",
      "metadata": {
        "id": "RG22UsjmXeIs",
        "colab_type": "text"
      },
      "source": [
        "독스도 종종 쓰도록!"
      ]
    },
    {
      "cell_type": "markdown",
      "metadata": {
        "id": "ezHasdvCkRpn",
        "colab_type": "text"
      },
      "source": [
        "## Model"
      ]
    },
    {
      "cell_type": "code",
      "metadata": {
        "id": "D3e6k5f0kRpn",
        "colab_type": "code",
        "colab": {}
      },
      "source": [
        "max_log_y = np.log(np.max(train_df['Sales'])*1.2)\n",
        "y_range = torch.tensor([0, max_log_y], device=defaults.device)"
      ],
      "execution_count": 0,
      "outputs": []
    },
    {
      "cell_type": "markdown",
      "metadata": {
        "id": "sWYSjVbMYMgn",
        "colab_type": "text"
      },
      "source": [
        "앞에서 로그를 취했으니, y_range도 당연히 동일하게 최대값을 가져와 로그를 취해준다(다만 실제 최대값보다는 살짝 큰 값에다 취해준다. 왜냐하면 데이터 범위가 실제 최대범위보다는 살짝 큰것이 좋으니까). 이렇게 해서 나온 값이 우리의 최대값이 된다. 이제 우리의 y_range는 0부터 실제 max보다 살짝 큰 값에 로그를 취한 것이 된다."
      ]
    },
    {
      "cell_type": "code",
      "metadata": {
        "id": "edY384dZkRpp",
        "colab_type": "code",
        "colab": {}
      },
      "source": [
        "learn = tabular_learner(data, layers=[1000,500], ps=[0.001,0.01], emb_drop=0.04, \n",
        "                        y_range=y_range, metrics=exp_rmspe)"
      ],
      "execution_count": 0,
      "outputs": []
    },
    {
      "cell_type": "markdown",
      "metadata": {
        "id": "dF0Oe9UbZBkO",
        "colab_type": "text"
      },
      "source": [
        "learner를 만들어준다.\n",
        "여기서 dropout이라는 개념을 배우게된다! 간단히 말하면, dropuout은 regularization의 일종이다.\n",
        "\n",
        "우선 layers를 보면 [1000, 500]이다. 즉, activation input은 1000, activation output은 500이므로 weigth matrix에 원소가 500000개나 있을것이라는 의미이니 엄청난 양이다. 다시말해, overfitting이 일어날것이다. 이를 방지하기 위해서 ps=[0.001, 0.01], emb_drop=0.04를 인자로 줌으로써 dropout을 한다.\n",
        "dropout을 하면, train할 때 신경망의 hidden layer에서 랜덤하게 일정확률로 노드가 죽는다. 이렇게 하면 연관된 weight값들이 사라지므로 overfitting을 방지할 수 있다.\n",
        "그 후 모델을 테스트할 때는 dropout을 꺼서 모든 노드를 활성화한다. 대신 가중치에 dropout이 적용된 확률 p가 곱해지게 된다."
      ]
    },
    {
      "cell_type": "code",
      "metadata": {
        "id": "xXd1GWirkRpq",
        "colab_type": "code",
        "outputId": "7d8ba4aa-1387-4a84-802c-d2e8bbdba93a",
        "colab": {
          "base_uri": "https://localhost:8080/",
          "height": 683
        }
      },
      "source": [
        "learn.model"
      ],
      "execution_count": 31,
      "outputs": [
        {
          "output_type": "execute_result",
          "data": {
            "text/plain": [
              "TabularModel(\n",
              "  (embeds): ModuleList(\n",
              "    (0): Embedding(1116, 81)\n",
              "    (1): Embedding(8, 5)\n",
              "    (2): Embedding(4, 3)\n",
              "    (3): Embedding(13, 7)\n",
              "    (4): Embedding(32, 11)\n",
              "    (5): Embedding(3, 3)\n",
              "    (6): Embedding(26, 10)\n",
              "    (7): Embedding(27, 10)\n",
              "    (8): Embedding(5, 4)\n",
              "    (9): Embedding(4, 3)\n",
              "    (10): Embedding(4, 3)\n",
              "    (11): Embedding(24, 9)\n",
              "    (12): Embedding(9, 5)\n",
              "    (13): Embedding(13, 7)\n",
              "    (14): Embedding(53, 15)\n",
              "    (15): Embedding(22, 9)\n",
              "    (16): Embedding(7, 5)\n",
              "    (17): Embedding(7, 5)\n",
              "    (18): Embedding(4, 3)\n",
              "    (19): Embedding(4, 3)\n",
              "    (20): Embedding(9, 5)\n",
              "    (21): Embedding(9, 5)\n",
              "    (22): Embedding(3, 3)\n",
              "    (23): Embedding(3, 3)\n",
              "  )\n",
              "  (emb_drop): Dropout(p=0.04, inplace=False)\n",
              "  (bn_cont): BatchNorm1d(16, eps=1e-05, momentum=0.1, affine=True, track_running_stats=True)\n",
              "  (layers): Sequential(\n",
              "    (0): Linear(in_features=233, out_features=1000, bias=True)\n",
              "    (1): ReLU(inplace=True)\n",
              "    (2): BatchNorm1d(1000, eps=1e-05, momentum=0.1, affine=True, track_running_stats=True)\n",
              "    (3): Dropout(p=0.001, inplace=False)\n",
              "    (4): Linear(in_features=1000, out_features=500, bias=True)\n",
              "    (5): ReLU(inplace=True)\n",
              "    (6): BatchNorm1d(500, eps=1e-05, momentum=0.1, affine=True, track_running_stats=True)\n",
              "    (7): Dropout(p=0.01, inplace=False)\n",
              "    (8): Linear(in_features=500, out_features=1, bias=True)\n",
              "  )\n",
              ")"
            ]
          },
          "metadata": {
            "tags": []
          },
          "execution_count": 31
        }
      ]
    },
    {
      "cell_type": "markdown",
      "metadata": {
        "id": "UvZd6MWlZFx7",
        "colab_type": "text"
      },
      "source": [
        "모델의 형태를 보여주면 다음과 같이 생겼다. 주목할 부분은 BatchNorm인데, Batch norm은 learning rate를 키울수 있게 해준다. 이것은 모델에서 직접적으로 scale을 조정하고 평균을 바꾸는 것이라고 생각하면 된다.\n"
      ]
    },
    {
      "cell_type": "code",
      "metadata": {
        "id": "OAMOoFQKkRpr",
        "colab_type": "code",
        "outputId": "e45797c3-1dba-4fa6-ce72-24ed5d947bef",
        "colab": {
          "base_uri": "https://localhost:8080/",
          "height": 33
        }
      },
      "source": [
        "len(data.train_ds.cont_names)"
      ],
      "execution_count": 32,
      "outputs": [
        {
          "output_type": "execute_result",
          "data": {
            "text/plain": [
              "16"
            ]
          },
          "metadata": {
            "tags": []
          },
          "execution_count": 32
        }
      ]
    },
    {
      "cell_type": "code",
      "metadata": {
        "id": "AUcn25KKkRpu",
        "colab_type": "code",
        "outputId": "f33ef88a-4d66-4be0-a19b-eb1ff9c81e57",
        "colab": {
          "base_uri": "https://localhost:8080/",
          "height": 108
        }
      },
      "source": [
        "learn.lr_find()"
      ],
      "execution_count": 33,
      "outputs": [
        {
          "output_type": "display_data",
          "data": {
            "text/html": [
              "\n",
              "    <div>\n",
              "        <style>\n",
              "            /* Turns off some styling */\n",
              "            progress {\n",
              "                /* gets rid of default border in Firefox and Opera. */\n",
              "                border: none;\n",
              "                /* Needs to be in here for Safari polyfill so background images work as expected. */\n",
              "                background-size: auto;\n",
              "            }\n",
              "            .progress-bar-interrupted, .progress-bar-interrupted::-webkit-progress-bar {\n",
              "                background: #F44336;\n",
              "            }\n",
              "        </style>\n",
              "      <progress value='0' class='' max='1' style='width:300px; height:20px; vertical-align: middle;'></progress>\n",
              "      0.00% [0/1 00:00<00:00]\n",
              "    </div>\n",
              "    \n",
              "<table border=\"1\" class=\"dataframe\">\n",
              "  <thead>\n",
              "    <tr style=\"text-align: left;\">\n",
              "      <th>epoch</th>\n",
              "      <th>train_loss</th>\n",
              "      <th>valid_loss</th>\n",
              "      <th>exp_rmspe</th>\n",
              "      <th>time</th>\n",
              "    </tr>\n",
              "  </thead>\n",
              "  <tbody>\n",
              "  </tbody>\n",
              "</table><p>\n",
              "\n",
              "    <div>\n",
              "        <style>\n",
              "            /* Turns off some styling */\n",
              "            progress {\n",
              "                /* gets rid of default border in Firefox and Opera. */\n",
              "                border: none;\n",
              "                /* Needs to be in here for Safari polyfill so background images work as expected. */\n",
              "                background-size: auto;\n",
              "            }\n",
              "            .progress-bar-interrupted, .progress-bar-interrupted::-webkit-progress-bar {\n",
              "                background: #F44336;\n",
              "            }\n",
              "        </style>\n",
              "      <progress value='93' class='' max='12545' style='width:300px; height:20px; vertical-align: middle;'></progress>\n",
              "      0.74% [93/12545 00:02<05:14 7.9476]\n",
              "    </div>\n",
              "    "
            ],
            "text/plain": [
              "<IPython.core.display.HTML object>"
            ]
          },
          "metadata": {
            "tags": []
          }
        },
        {
          "output_type": "stream",
          "text": [
            "LR Finder is complete, type {learner_name}.recorder.plot() to see the graph.\n"
          ],
          "name": "stdout"
        }
      ]
    },
    {
      "cell_type": "markdown",
      "metadata": {
        "id": "vh-PuFNff4CO",
        "colab_type": "text"
      },
      "source": [
        "그다음부턴 똑같으므로 생략한다. train하고 loss 수준 보여준다."
      ]
    },
    {
      "cell_type": "code",
      "metadata": {
        "id": "pHi3MhBxkRpw",
        "colab_type": "code",
        "outputId": "8e188ffe-d346-4fdd-a948-284cb355fdd7",
        "colab": {
          "base_uri": "https://localhost:8080/",
          "height": 278
        }
      },
      "source": [
        "learn.recorder.plot()"
      ],
      "execution_count": 34,
      "outputs": [
        {
          "output_type": "display_data",
          "data": {
            "image/png": "[encoded data removed]",
            "text/plain": [
              "<Figure size 432x288 with 1 Axes>"
            ]
          },
          "metadata": {
            "tags": [],
            "needs_background": "light"
          }
        }
      ]
    },
    {
      "cell_type": "code",
      "metadata": {
        "id": "IiJIywEFkRpy",
        "colab_type": "code",
        "outputId": "d2023926-9d1f-4d68-f6b2-966bb3f1abcd",
        "colab": {
          "base_uri": "https://localhost:8080/",
          "height": 191
        }
      },
      "source": [
        "learn.fit_one_cycle(5, 1e-3, wd=0.2)"
      ],
      "execution_count": 35,
      "outputs": [
        {
          "output_type": "display_data",
          "data": {
            "text/html": [
              "<table border=\"1\" class=\"dataframe\">\n",
              "  <thead>\n",
              "    <tr style=\"text-align: left;\">\n",
              "      <th>epoch</th>\n",
              "      <th>train_loss</th>\n",
              "      <th>valid_loss</th>\n",
              "      <th>exp_rmspe</th>\n",
              "      <th>time</th>\n",
              "    </tr>\n",
              "  </thead>\n",
              "  <tbody>\n",
              "    <tr>\n",
              "      <td>0</td>\n",
              "      <td>0.023156</td>\n",
              "      <td>0.020889</td>\n",
              "      <td>0.147670</td>\n",
              "      <td>04:00</td>\n",
              "    </tr>\n",
              "    <tr>\n",
              "      <td>1</td>\n",
              "      <td>0.019411</td>\n",
              "      <td>0.016589</td>\n",
              "      <td>0.127511</td>\n",
              "      <td>04:01</td>\n",
              "    </tr>\n",
              "    <tr>\n",
              "      <td>2</td>\n",
              "      <td>0.015294</td>\n",
              "      <td>0.016139</td>\n",
              "      <td>0.126245</td>\n",
              "      <td>04:02</td>\n",
              "    </tr>\n",
              "    <tr>\n",
              "      <td>3</td>\n",
              "      <td>0.012857</td>\n",
              "      <td>0.013219</td>\n",
              "      <td>0.116289</td>\n",
              "      <td>04:02</td>\n",
              "    </tr>\n",
              "    <tr>\n",
              "      <td>4</td>\n",
              "      <td>0.010683</td>\n",
              "      <td>0.011761</td>\n",
              "      <td>0.104094</td>\n",
              "      <td>04:01</td>\n",
              "    </tr>\n",
              "  </tbody>\n",
              "</table>"
            ],
            "text/plain": [
              "<IPython.core.display.HTML object>"
            ]
          },
          "metadata": {
            "tags": []
          }
        }
      ]
    },
    {
      "cell_type": "code",
      "metadata": {
        "id": "qRMvEPxkkRpz",
        "colab_type": "code",
        "colab": {}
      },
      "source": [
        "learn.save('1')"
      ],
      "execution_count": 0,
      "outputs": []
    },
    {
      "cell_type": "code",
      "metadata": {
        "id": "N4BhaEKukRp0",
        "colab_type": "code",
        "outputId": "f31c27f5-fd5a-4503-d3a0-832f36aeef9e",
        "colab": {
          "base_uri": "https://localhost:8080/",
          "height": 278
        }
      },
      "source": [
        "learn.recorder.plot_losses(skip_start=10000)"
      ],
      "execution_count": 37,
      "outputs": [
        {
          "output_type": "display_data",
          "data": {
            "image/png": "[encoded data removed]",
            "text/plain": [
              "<Figure size 432x288 with 1 Axes>"
            ]
          },
          "metadata": {
            "tags": [],
            "needs_background": "light"
          }
        }
      ]
    },
    {
      "cell_type": "markdown",
      "metadata": {
        "id": "472PP0X_f-Lk",
        "colab_type": "text"
      },
      "source": [
        "그래프를 보니 너무 적지도 않고 많지도 않고 적당히 train된 것 같다. "
      ]
    },
    {
      "cell_type": "code",
      "metadata": {
        "id": "-TzTF9ykkRp2",
        "colab_type": "code",
        "colab": {}
      },
      "source": [
        "learn.load('1');"
      ],
      "execution_count": 0,
      "outputs": []
    },
    {
      "cell_type": "code",
      "metadata": {
        "id": "udy_KNtokRp4",
        "colab_type": "code",
        "outputId": "f3c4e321-a1a4-483a-e735-0bf7a1a0b36f",
        "colab": {
          "base_uri": "https://localhost:8080/",
          "height": 191
        }
      },
      "source": [
        "learn.fit_one_cycle(5, 3e-4)"
      ],
      "execution_count": 39,
      "outputs": [
        {
          "output_type": "display_data",
          "data": {
            "text/html": [
              "<table border=\"1\" class=\"dataframe\">\n",
              "  <thead>\n",
              "    <tr style=\"text-align: left;\">\n",
              "      <th>epoch</th>\n",
              "      <th>train_loss</th>\n",
              "      <th>valid_loss</th>\n",
              "      <th>exp_rmspe</th>\n",
              "      <th>time</th>\n",
              "    </tr>\n",
              "  </thead>\n",
              "  <tbody>\n",
              "    <tr>\n",
              "      <td>0</td>\n",
              "      <td>0.012241</td>\n",
              "      <td>0.017887</td>\n",
              "      <td>0.120846</td>\n",
              "      <td>04:00</td>\n",
              "    </tr>\n",
              "    <tr>\n",
              "      <td>1</td>\n",
              "      <td>0.011543</td>\n",
              "      <td>0.013783</td>\n",
              "      <td>0.114503</td>\n",
              "      <td>04:01</td>\n",
              "    </tr>\n",
              "    <tr>\n",
              "      <td>2</td>\n",
              "      <td>0.010299</td>\n",
              "      <td>0.019883</td>\n",
              "      <td>0.126027</td>\n",
              "      <td>04:01</td>\n",
              "    </tr>\n",
              "    <tr>\n",
              "      <td>3</td>\n",
              "      <td>0.010015</td>\n",
              "      <td>0.018132</td>\n",
              "      <td>0.123765</td>\n",
              "      <td>04:01</td>\n",
              "    </tr>\n",
              "    <tr>\n",
              "      <td>4</td>\n",
              "      <td>0.009134</td>\n",
              "      <td>0.014540</td>\n",
              "      <td>0.118886</td>\n",
              "      <td>04:03</td>\n",
              "    </tr>\n",
              "  </tbody>\n",
              "</table>"
            ],
            "text/plain": [
              "<IPython.core.display.HTML object>"
            ]
          },
          "metadata": {
            "tags": []
          }
        }
      ]
    },
    {
      "cell_type": "code",
      "metadata": {
        "id": "BryhgWD6kRp6",
        "colab_type": "code",
        "colab": {
          "base_uri": "https://localhost:8080/",
          "height": 191
        },
        "outputId": "047f34f4-2d85-4cd1-9564-111b2c081705"
      },
      "source": [
        "learn.fit_one_cycle(5, 3e-4)"
      ],
      "execution_count": 40,
      "outputs": [
        {
          "output_type": "display_data",
          "data": {
            "text/html": [
              "<table border=\"1\" class=\"dataframe\">\n",
              "  <thead>\n",
              "    <tr style=\"text-align: left;\">\n",
              "      <th>epoch</th>\n",
              "      <th>train_loss</th>\n",
              "      <th>valid_loss</th>\n",
              "      <th>exp_rmspe</th>\n",
              "      <th>time</th>\n",
              "    </tr>\n",
              "  </thead>\n",
              "  <tbody>\n",
              "    <tr>\n",
              "      <td>0</td>\n",
              "      <td>0.011053</td>\n",
              "      <td>0.018618</td>\n",
              "      <td>0.127076</td>\n",
              "      <td>04:03</td>\n",
              "    </tr>\n",
              "    <tr>\n",
              "      <td>1</td>\n",
              "      <td>0.011302</td>\n",
              "      <td>0.016839</td>\n",
              "      <td>0.118665</td>\n",
              "      <td>04:02</td>\n",
              "    </tr>\n",
              "    <tr>\n",
              "      <td>2</td>\n",
              "      <td>0.010681</td>\n",
              "      <td>0.015452</td>\n",
              "      <td>0.114124</td>\n",
              "      <td>04:02</td>\n",
              "    </tr>\n",
              "    <tr>\n",
              "      <td>3</td>\n",
              "      <td>0.009599</td>\n",
              "      <td>0.015616</td>\n",
              "      <td>0.115409</td>\n",
              "      <td>04:05</td>\n",
              "    </tr>\n",
              "    <tr>\n",
              "      <td>4</td>\n",
              "      <td>0.009670</td>\n",
              "      <td>0.018205</td>\n",
              "      <td>0.117886</td>\n",
              "      <td>04:05</td>\n",
              "    </tr>\n",
              "  </tbody>\n",
              "</table>"
            ],
            "text/plain": [
              "<IPython.core.display.HTML object>"
            ]
          },
          "metadata": {
            "tags": []
          }
        }
      ]
    },
    {
      "cell_type": "markdown",
      "metadata": {
        "id": "lCbG5taRkRp7",
        "colab_type": "text"
      },
      "source": [
        "(10th place in the competition was 0.108)"
      ]
    },
    {
      "cell_type": "code",
      "metadata": {
        "id": "NUUUCsR1kRp7",
        "colab_type": "code",
        "colab": {
          "base_uri": "https://localhost:8080/",
          "height": 17
        },
        "outputId": "f6944f0d-f3a5-4801-de4a-ede3c8ddcb20"
      },
      "source": [
        "test_preds=learn.get_preds(DatasetType.Test)\n",
        "test_df[\"Sales\"]=np.exp(test_preds[0].data).numpy().T[0]\n",
        "test_df[[\"Id\",\"Sales\"]]=test_df[[\"Id\",\"Sales\"]].astype(\"int\")\n",
        "test_df[[\"Id\",\"Sales\"]].to_csv(\"rossmann_submission.csv\",index=False)"
      ],
      "execution_count": 41,
      "outputs": [
        {
          "output_type": "display_data",
          "data": {
            "text/html": [
              ""
            ],
            "text/plain": [
              "<IPython.core.display.HTML object>"
            ]
          },
          "metadata": {
            "tags": []
          }
        }
      ]
    }
  ]
}