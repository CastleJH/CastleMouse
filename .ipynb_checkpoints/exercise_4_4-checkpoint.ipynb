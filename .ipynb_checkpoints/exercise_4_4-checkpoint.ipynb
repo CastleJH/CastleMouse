{
 "cells": [
  {
   "cell_type": "markdown",
   "metadata": {
    "colab_type": "text",
    "id": "UU7ZkZuGM1fE"
   },
   "source": [
    "# IMDB"
   ]
  },
  {
   "cell_type": "markdown",
   "metadata": {},
   "source": [
    "> ## 이번 exercise에서 자연어처리(NLP)에 대한 큰 그림을 그릴 수 있다면 좋겠네요.\n",
    "> ## 보시다시피 fast.ai를 이용하는 저희에게 NLP 역시 vision 영역과 비슷하게 다가옵니다.\n",
    "> ## 다만, image에서는 pixel을 처리하기 위한 아이디어(ex pixel을 숫자로 표현)들이 쓰였다면, text는 어떻게 처리할 수 있을지를 알고 다음 lesson으로 넘어가요!"
   ]
  },
  {
   "cell_type": "code",
   "execution_count": 0,
   "metadata": {
    "colab": {},
    "colab_type": "code",
    "id": "4YEk9S8lM1fF"
   },
   "outputs": [],
   "source": [
    "%reload_ext autoreload\n",
    "%autoreload 2\n",
    "%matplotlib inline"
   ]
  },
  {
   "cell_type": "code",
   "execution_count": 0,
   "metadata": {
    "colab": {},
    "colab_type": "code",
    "id": "IxPx5px-M1fL"
   },
   "outputs": [],
   "source": [
    "from fastai.text import *"
   ]
  },
  {
   "cell_type": "markdown",
   "metadata": {
    "colab_type": "text",
    "id": "qO0wUyU2heCJ"
   },
   "source": [
    "이번엔 이미지가 아닌 텍스트이다."
   ]
  },
  {
   "cell_type": "markdown",
   "metadata": {
    "colab_type": "text",
    "id": "lQlVSsTdM1fO"
   },
   "source": [
    "## Preparing the data"
   ]
  },
  {
   "cell_type": "markdown",
   "metadata": {
    "colab_type": "text",
    "id": "vITZSSQsM1fP"
   },
   "source": [
    "First let's download the dataset we are going to study. The [dataset](http://ai.stanford.edu/~amaas/data/sentiment/) has been curated by Andrew Maas et al. and contains a total of 100,000 reviews on IMDB. 25,000 of them are labelled as positive and negative for training, another 25,000 are labelled for testing (in both cases they are highly polarized). The remaning 50,000 is an additional unlabelled data (but we will find a use for it nonetheless).\n",
    "\n",
    "We'll begin with a sample we've prepared for you, so that things run quickly before going over the full dataset."
   ]
  },
  {
   "cell_type": "code",
   "execution_count": 3,
   "metadata": {
    "colab": {
     "base_uri": "https://localhost:8080/",
     "height": 34
    },
    "colab_type": "code",
    "id": "TC1E9g-OM1fP",
    "outputId": "22056517-8aec-4984-88d2-2dc37fcc2eef"
   },
   "outputs": [
    {
     "data": {
      "text/plain": [
       "[PosixPath('/root/.fastai/data/imdb_sample/texts.csv')]"
      ]
     },
     "execution_count": 3,
     "metadata": {
      "tags": []
     },
     "output_type": "execute_result"
    }
   ],
   "source": [
    "path = untar_data(URLs.IMDB_SAMPLE)\n",
    "path.ls()"
   ]
  },
  {
   "cell_type": "markdown",
   "metadata": {
    "colab_type": "text",
    "id": "5TbasWtFhWM9"
   },
   "source": [
    "IMBD는 영화 리뷰가 많이 있다. IMBD의 데이터셋을 다운받는다. 목표는 과연 해당 글이 긍정적 평가와 부정적 평가중 어떤것인지 맞히는 것이다. 일단은 뭘 할것인지 대략 설명하기 위해 샘플 데이터를 가져왔다."
   ]
  },
  {
   "cell_type": "markdown",
   "metadata": {
    "colab_type": "text",
    "id": "1ugFy1YtM1fS"
   },
   "source": [
    "It only contains one csv file, let's have a look at it."
   ]
  },
  {
   "cell_type": "code",
   "execution_count": 4,
   "metadata": {
    "colab": {
     "base_uri": "https://localhost:8080/",
     "height": 204
    },
    "colab_type": "code",
    "id": "Ot75NigxM1fT",
    "outputId": "8bcc54b2-26ff-44b6-d56e-25d28ab6d47b"
   },
   "outputs": [
    {
     "data": {
      "text/html": [
       "<div>\n",
       "<style scoped>\n",
       "    .dataframe tbody tr th:only-of-type {\n",
       "        vertical-align: middle;\n",
       "    }\n",
       "\n",
       "    .dataframe tbody tr th {\n",
       "        vertical-align: top;\n",
       "    }\n",
       "\n",
       "    .dataframe thead th {\n",
       "        text-align: right;\n",
       "    }\n",
       "</style>\n",
       "<table border=\"1\" class=\"dataframe\">\n",
       "  <thead>\n",
       "    <tr style=\"text-align: right;\">\n",
       "      <th></th>\n",
       "      <th>label</th>\n",
       "      <th>text</th>\n",
       "      <th>is_valid</th>\n",
       "    </tr>\n",
       "  </thead>\n",
       "  <tbody>\n",
       "    <tr>\n",
       "      <th>0</th>\n",
       "      <td>negative</td>\n",
       "      <td>Un-bleeping-believable! Meg Ryan doesn't even ...</td>\n",
       "      <td>False</td>\n",
       "    </tr>\n",
       "    <tr>\n",
       "      <th>1</th>\n",
       "      <td>positive</td>\n",
       "      <td>This is a extremely well-made film. The acting...</td>\n",
       "      <td>False</td>\n",
       "    </tr>\n",
       "    <tr>\n",
       "      <th>2</th>\n",
       "      <td>negative</td>\n",
       "      <td>Every once in a long while a movie will come a...</td>\n",
       "      <td>False</td>\n",
       "    </tr>\n",
       "    <tr>\n",
       "      <th>3</th>\n",
       "      <td>positive</td>\n",
       "      <td>Name just says it all. I watched this movie wi...</td>\n",
       "      <td>False</td>\n",
       "    </tr>\n",
       "    <tr>\n",
       "      <th>4</th>\n",
       "      <td>negative</td>\n",
       "      <td>This movie succeeds at being one of the most u...</td>\n",
       "      <td>False</td>\n",
       "    </tr>\n",
       "  </tbody>\n",
       "</table>\n",
       "</div>"
      ],
      "text/plain": [
       "      label                                               text  is_valid\n",
       "0  negative  Un-bleeping-believable! Meg Ryan doesn't even ...     False\n",
       "1  positive  This is a extremely well-made film. The acting...     False\n",
       "2  negative  Every once in a long while a movie will come a...     False\n",
       "3  positive  Name just says it all. I watched this movie wi...     False\n",
       "4  negative  This movie succeeds at being one of the most u...     False"
      ]
     },
     "execution_count": 4,
     "metadata": {
      "tags": []
     },
     "output_type": "execute_result"
    }
   ],
   "source": [
    "df = pd.read_csv(path/'texts.csv')\n",
    "df.head()"
   ]
  },
  {
   "cell_type": "markdown",
   "metadata": {
    "colab_type": "text",
    "id": "G5wNG2gdiNsE"
   },
   "source": [
    "csv를 열어서 무엇이 적혀있는지 본다."
   ]
  },
  {
   "cell_type": "code",
   "execution_count": 5,
   "metadata": {
    "colab": {
     "base_uri": "https://localhost:8080/",
     "height": 54
    },
    "colab_type": "code",
    "id": "iIBE6JjdM1fV",
    "outputId": "40a022a4-c1dc-425b-e7f2-a4719075d365"
   },
   "outputs": [
    {
     "data": {
      "text/plain": [
       "'This is a extremely well-made film. The acting, script and camera-work are all first-rate. The music is good, too, though it is mostly early in the film, when things are still relatively cheery. There are no really superstars in the cast, though several faces will be familiar. The entire cast does an excellent job with the script.<br /><br />But it is hard to watch, because there is no good end to a situation like the one presented. It is now fashionable to blame the British for setting Hindus and Muslims against each other, and then cruelly separating them into two countries. There is some merit in this view, but it\\'s also true that no one forced Hindus and Muslims in the region to mistreat each other as they did around the time of partition. It seems more likely that the British simply saw the tensions between the religions and were clever enough to exploit them to their own ends.<br /><br />The result is that there is much cruelty and inhumanity in the situation and this is very unpleasant to remember and to see on the screen. But it is never painted as a black-and-white case. There is baseness and nobility on both sides, and also the hope for change in the younger generation.<br /><br />There is redemption of a sort, in the end, when Puro has to make a hard choice between a man who has ruined her life, but also truly loved her, and her family which has disowned her, then later come looking for her. But by that point, she has no option that is without great pain for her.<br /><br />This film carries the message that both Muslims and Hindus have their grave faults, and also that both can be dignified and caring people. The reality of partition makes that realisation all the more wrenching, since there can never be real reconciliation across the India/Pakistan border. In that sense, it is similar to \"Mr & Mrs Iyer\".<br /><br />In the end, we were glad to have seen the film, even though the resolution was heartbreaking. If the UK and US could deal with their own histories of racism with this kind of frankness, they would certainly be better off.'"
      ]
     },
     "execution_count": 5,
     "metadata": {
      "tags": []
     },
     "output_type": "execute_result"
    }
   ],
   "source": [
    "df['text'][1]"
   ]
  },
  {
   "cell_type": "markdown",
   "metadata": {
    "colab_type": "text",
    "id": "d8os6hMYiYCF"
   },
   "source": [
    "예를들면 이런 아이들로 구성되어 있다."
   ]
  },
  {
   "cell_type": "markdown",
   "metadata": {
    "colab_type": "text",
    "id": "xeLRdGrfM1fY"
   },
   "source": [
    "It contains one line per review, with the label ('negative' or 'positive'), the text and a flag to determine if it should be part of the validation set or the training set. If we ignore this flag, we can create a DataBunch containing this data in one line of code:"
   ]
  },
  {
   "cell_type": "code",
   "execution_count": 6,
   "metadata": {
    "colab": {
     "base_uri": "https://localhost:8080/",
     "height": 17
    },
    "colab_type": "code",
    "id": "johAtaPnM1fZ",
    "outputId": "d36cc320-3e42-458b-9402-b499387b8dfa"
   },
   "outputs": [
    {
     "data": {
      "text/html": [],
      "text/plain": [
       "<IPython.core.display.HTML object>"
      ]
     },
     "metadata": {
      "tags": []
     },
     "output_type": "display_data"
    },
    {
     "data": {
      "text/html": [],
      "text/plain": [
       "<IPython.core.display.HTML object>"
      ]
     },
     "metadata": {
      "tags": []
     },
     "output_type": "display_data"
    }
   ],
   "source": [
    "data_lm = TextDataBunch.from_csv(path, 'texts.csv')"
   ]
  },
  {
   "cell_type": "markdown",
   "metadata": {
    "colab_type": "text",
    "id": "yg_zEzMzM1fb"
   },
   "source": [
    "By executing this line a process was launched that took a bit of time. Let's dig a bit into it. Images could be fed (almost) directly into a model because they're just a big array of pixel values that are floats between 0 and 1. A text is composed of words, and we can't apply mathematical functions to them directly. We first have to convert them to numbers. This is done in two differents steps: tokenization and numericalization. A `TextDataBunch` does all of that behind the scenes for you.\n",
    "\n",
    "Before we delve into the explanations, let's take the time to save the things that were calculated."
   ]
  },
  {
   "cell_type": "code",
   "execution_count": 7,
   "metadata": {
    "colab": {
     "base_uri": "https://localhost:8080/",
     "height": 34
    },
    "colab_type": "code",
    "id": "Y3GeiU9zM1fc",
    "outputId": "fe2a2277-1d66-4d24-b4b9-cf3dc9c472c5"
   },
   "outputs": [
    {
     "data": {
      "text/plain": [
       "'data_lm.save()'"
      ]
     },
     "execution_count": 7,
     "metadata": {
      "tags": []
     },
     "output_type": "execute_result"
    }
   ],
   "source": [
    "'''data_lm.save()'''"
   ]
  },
  {
   "cell_type": "markdown",
   "metadata": {
    "colab_type": "text",
    "id": "HkVUNKv2ivrQ"
   },
   "source": [
    "나중에 필요 없으니 묶어놨다."
   ]
  },
  {
   "cell_type": "markdown",
   "metadata": {
    "colab_type": "text",
    "id": "6mULJzW7M1fe"
   },
   "source": [
    "Next time we launch this notebook, we can skip the cell above that took a bit of time (and that will take a lot more when you get to the full dataset) and load those results like this:"
   ]
  },
  {
   "cell_type": "code",
   "execution_count": 8,
   "metadata": {
    "colab": {
     "base_uri": "https://localhost:8080/",
     "height": 34
    },
    "colab_type": "code",
    "id": "VqOhxkhqM1fe",
    "outputId": "52ad9abe-24f1-4f2c-ccb0-7cacc0d8ce57"
   },
   "outputs": [
    {
     "data": {
      "text/plain": [
       "'data = load_data(path)'"
      ]
     },
     "execution_count": 8,
     "metadata": {
      "tags": []
     },
     "output_type": "execute_result"
    }
   ],
   "source": [
    "'''data = load_data(path)'''"
   ]
  },
  {
   "cell_type": "markdown",
   "metadata": {
    "colab_type": "text",
    "id": "W03vwY0XkKmJ"
   },
   "source": [
    "'''여기도!'''"
   ]
  },
  {
   "cell_type": "markdown",
   "metadata": {
    "colab_type": "text",
    "id": "LEPT-ywpM1fg"
   },
   "source": [
    "### Tokenization"
   ]
  },
  {
   "cell_type": "markdown",
   "metadata": {
    "colab_type": "text",
    "id": "tu5bSO0cM1fg"
   },
   "source": [
    "The first step of processing we make the texts go through is to split the raw sentences into words, or more exactly tokens. The easiest way to do this would be to split the string on spaces, but we can be smarter:\n",
    "\n",
    "- we need to take care of punctuation\n",
    "- some words are contractions of two different words, like isn't or don't\n",
    "- we may need to clean some parts of our texts, if there's HTML code for instance\n",
    "\n",
    "To see what the tokenizer had done behind the scenes, let's have a look at a few texts in a batch."
   ]
  },
  {
   "cell_type": "code",
   "execution_count": 9,
   "metadata": {
    "colab": {
     "base_uri": "https://localhost:8080/",
     "height": 374
    },
    "colab_type": "code",
    "id": "qbzr-sqtM1fh",
    "outputId": "4ee913b3-53db-40ae-99fc-9a03acb886ce"
   },
   "outputs": [
    {
     "data": {
      "text/html": [],
      "text/plain": [
       "<IPython.core.display.HTML object>"
      ]
     },
     "metadata": {
      "tags": []
     },
     "output_type": "display_data"
    },
    {
     "data": {
      "text/html": [],
      "text/plain": [
       "<IPython.core.display.HTML object>"
      ]
     },
     "metadata": {
      "tags": []
     },
     "output_type": "display_data"
    },
    {
     "data": {
      "text/html": [
       "<table border=\"1\" class=\"dataframe\">\n",
       "  <thead>\n",
       "    <tr style=\"text-align: right;\">\n",
       "      <th>text</th>\n",
       "      <th>target</th>\n",
       "    </tr>\n",
       "  </thead>\n",
       "  <tbody>\n",
       "    <tr>\n",
       "      <td>xxbos xxup the xxup shop xxup around xxup the xxup corner is one of the xxunk and most feel - good romantic comedies ever made . xxmaj there 's just no getting around that , and it 's hard to actually put one 's feeling for this film into words . xxmaj it 's not one of those films that tries too hard , nor does it come up with</td>\n",
       "      <td>positive</td>\n",
       "    </tr>\n",
       "    <tr>\n",
       "      <td>xxbos xxmaj now that xxmaj che(2008 ) has finished its relatively short xxmaj australian cinema run ( extremely limited xxunk screen in xxmaj sydney , after xxunk ) , i can xxunk join both xxunk of \" xxmaj at xxmaj the xxmaj movies \" in taking xxmaj steven xxmaj soderbergh to task . \\n \\n  xxmaj it 's usually satisfying to watch a film director change his style /</td>\n",
       "      <td>negative</td>\n",
       "    </tr>\n",
       "    <tr>\n",
       "      <td>xxbos xxmaj this film sat on my xxmaj tivo for weeks before i watched it . i dreaded a self - indulgent xxunk flick about relationships gone bad . i was wrong ; this was an xxunk xxunk into the screwed - up xxunk of xxmaj new xxmaj yorkers . \\n \\n  xxmaj the format is the same as xxmaj max xxmaj xxunk ' \" xxmaj la xxmaj ronde</td>\n",
       "      <td>positive</td>\n",
       "    </tr>\n",
       "    <tr>\n",
       "      <td>xxbos xxmaj many neglect that this is n't just a classic due to the fact that it 's the first xxup 3d game , or even the first xxunk - up . xxmaj it 's also one of the first stealth games , one of the xxunk definitely the first ) truly claustrophobic games , and just a pretty well - rounded gaming experience in general . xxmaj with graphics</td>\n",
       "      <td>positive</td>\n",
       "    </tr>\n",
       "    <tr>\n",
       "      <td>xxbos i really wanted to love this show . i truly , honestly did . \\n \\n  xxmaj for the first time , gay viewers get their own version of the \" xxmaj the xxmaj bachelor \" . xxmaj with the help of his obligatory \" hag \" xxmaj xxunk , xxmaj james , a good looking , well - to - do thirty - something has the chance</td>\n",
       "      <td>negative</td>\n",
       "    </tr>\n",
       "  </tbody>\n",
       "</table>"
      ],
      "text/plain": [
       "<IPython.core.display.HTML object>"
      ]
     },
     "metadata": {
      "tags": []
     },
     "output_type": "display_data"
    }
   ],
   "source": [
    "data = TextClasDataBunch.from_csv(path, 'texts.csv')\n",
    "data.show_batch()"
   ]
  },
  {
   "cell_type": "markdown",
   "metadata": {
    "colab_type": "text",
    "id": "l_5VyZQzmZ74"
   },
   "source": [
    "이제 우리는 문장을 단어 단위로 다 쪼갰다. 이 단위를 토큰이라고 한다. 하지만, 약간 특이한 점이 있는데 위에 읽어보면 isn't가 is n't로 나뉘었다든지, It's가 it 's로 나뉘었다든지 등 이상하게 분리된 애들이 있다. 그리고 xx라고 붙은 애들이 있다.\n",
    "\n",
    "설명을 하자면, 저렇게 분리 된 이유는 (한글로 정확히 어떤 단어로 말해야 할지 모르겠지만) 뉘앙스 단위로 분리한 것이다. 그리고 xx이런 것들은 굉장히 드문 단어여서 fastai에서 쓰는 스페셜 토큰으로 써준 것이다. "
   ]
  },
  {
   "cell_type": "markdown",
   "metadata": {
    "colab_type": "text",
    "id": "HrQz0sWBM1fj"
   },
   "source": [
    "The texts are truncated at 100 tokens for more readability. We can see that it did more than just split on space and punctuation symbols: \n",
    "- the \"'s\" are grouped together in one token\n",
    "- the contractions are separated like this: \"did\", \"n't\"\n",
    "- content has been cleaned for any HTML symbol and lower cased\n",
    "- there are several special tokens (all those that begin by xx), to replace unknown tokens (see below) or to introduce different text fields (here we only have one)."
   ]
  },
  {
   "cell_type": "markdown",
   "metadata": {
    "colab_type": "text",
    "id": "s-VM7TazM1fj"
   },
   "source": [
    "### Numericalization"
   ]
  },
  {
   "cell_type": "markdown",
   "metadata": {
    "colab_type": "text",
    "id": "54jAiAj5M1fj"
   },
   "source": [
    "Once we have extracted tokens from our texts, we convert to integers by creating a list of all the words used. We only keep the ones that appear at least twice with a maximum vocabulary size of 60,000 (by default) and replace the ones that don't make the cut by the unknown token `UNK`.\n",
    "\n",
    "The correspondance from ids to tokens is stored in the `vocab` attribute of our datasets, in a dictionary called `itos` (for int to string)."
   ]
  },
  {
   "cell_type": "code",
   "execution_count": 10,
   "metadata": {
    "colab": {
     "base_uri": "https://localhost:8080/",
     "height": 187
    },
    "colab_type": "code",
    "id": "LXXCkBvnM1fk",
    "outputId": "ebd17e45-a9f1-4fc4-de32-073eddeefdee"
   },
   "outputs": [
    {
     "data": {
      "text/plain": [
       "['xxunk',\n",
       " 'xxpad',\n",
       " 'xxbos',\n",
       " 'xxeos',\n",
       " 'xxfld',\n",
       " 'xxmaj',\n",
       " 'xxup',\n",
       " 'xxrep',\n",
       " 'xxwrep',\n",
       " 'the']"
      ]
     },
     "execution_count": 10,
     "metadata": {
      "tags": []
     },
     "output_type": "execute_result"
    }
   ],
   "source": [
    "data.vocab.itos[:10]"
   ]
  },
  {
   "cell_type": "markdown",
   "metadata": {
    "colab_type": "text",
    "id": "JnzahZM6n2sW"
   },
   "source": [
    "이제 가능한 모든 토큰을 담은 vocab 리스트를 받는다."
   ]
  },
  {
   "cell_type": "markdown",
   "metadata": {
    "colab_type": "text",
    "id": "9kwkvueHM1fm"
   },
   "source": [
    "And if we look at what a what's in our datasets, we'll see the tokenized text as a representation:"
   ]
  },
  {
   "cell_type": "code",
   "execution_count": 11,
   "metadata": {
    "colab": {
     "base_uri": "https://localhost:8080/",
     "height": 224
    },
    "colab_type": "code",
    "id": "ExIZIdGmM1fm",
    "outputId": "b9fe1011-ee96-47a0-cb03-a4dac878192e"
   },
   "outputs": [
    {
     "data": {
      "text/plain": [
       "Text xxbos i do n't know the stars , or modern xxmaj chinese teenage music - but i do know a thoroughly entertaining movie when i see one . \n",
       " \n",
       "  xxmaj kung xxmaj fu xxmaj dunk is pure xxmaj hollywood in its values - it 's played for laughs , for love , and is a great blend of xxmaj kung xxmaj fu and basketball . \n",
       " \n",
       "  xxmaj everybody looks like they had a lot of fun making this - the production values are excellent - and modern xxmaj china looks xxunk than xxmaj los xxmaj angeles here . \n",
       " \n",
       "  xxmaj the plot of the abandoned xxunk who grows up in a kung fu school only to be kicked out and then discover xxunk as a basketball play ( and love and more etc ; ) is great - this is fresh , fun , and immensely entertaining . \n",
       " \n",
       "  xxmaj with great action and good dialogue this is one simply to enjoy - for all ages - and for our money was one of the best family movies we 're seen in a long time . \n",
       " \n",
       "  xxmaj please ignore the negative reviews and give xxmaj dunk a chance - we were really glad we did - a xxup good sports comedy movie ."
      ]
     },
     "execution_count": 11,
     "metadata": {
      "tags": []
     },
     "output_type": "execute_result"
    }
   ],
   "source": [
    "data.train_ds[0][0]"
   ]
  },
  {
   "cell_type": "markdown",
   "metadata": {
    "colab_type": "text",
    "id": "OaZXJzGToU6m"
   },
   "source": [
    "그러니까 우리 데이터셋은 저렇게 토큰들로 표현이 되었고,"
   ]
  },
  {
   "cell_type": "markdown",
   "metadata": {
    "colab_type": "text",
    "id": "ARNGMsgYM1fo"
   },
   "source": [
    "But the underlying data is all numbers"
   ]
  },
  {
   "cell_type": "code",
   "execution_count": 12,
   "metadata": {
    "colab": {
     "base_uri": "https://localhost:8080/",
     "height": 34
    },
    "colab_type": "code",
    "id": "8Yl_W1_MM1fo",
    "outputId": "a6c9c172-7fbb-4034-b445-18bc0ce9ee82"
   },
   "outputs": [
    {
     "data": {
      "text/plain": [
       "array([  2,  19,  61,  36, 148,   9, 406,  11,  57, 556])"
      ]
     },
     "execution_count": 12,
     "metadata": {
      "tags": []
     },
     "output_type": "execute_result"
    }
   ],
   "source": [
    "data.train_ds[0][0].data[:10]"
   ]
  },
  {
   "cell_type": "markdown",
   "metadata": {
    "colab_type": "text",
    "id": "c_A66Jw9owLD"
   },
   "source": [
    "이부분을 위와 비교해서 보면, 첫단어 xxbos와 6번째 단어 the가 윗윗 셀의 2, 9 인덱스에 있는 단어들임을 알 수 있다.\n",
    "\n",
    "이렇게 우리는 텍스트들을 숫자의 리스트로 변환하였다."
   ]
  },
  {
   "cell_type": "markdown",
   "metadata": {
    "colab_type": "text",
    "id": "6BuvzE-TM1ft"
   },
   "source": [
    "### With the data block API"
   ]
  },
  {
   "cell_type": "markdown",
   "metadata": {
    "colab_type": "text",
    "id": "iNjdSu_VM1ft"
   },
   "source": [
    "We can use the data block API with NLP and have a lot more flexibility than what the default factory methods offer. In the previous example for instance, the data was randomly split between train and validation instead of reading the third column of the csv.\n",
    "\n",
    "With the data block API though, we have to manually call the tokenize and numericalize steps. This allows more flexibility, and if you're not using the defaults from fastai, the various arguments to pass will appear in the step they're revelant, so it'll be more readable."
   ]
  },
  {
   "cell_type": "code",
   "execution_count": 13,
   "metadata": {
    "colab": {
     "base_uri": "https://localhost:8080/",
     "height": 17
    },
    "colab_type": "code",
    "id": "L06Io8TrM1fu",
    "outputId": "a49555aa-307e-49df-9f8a-ea92c6786154"
   },
   "outputs": [
    {
     "data": {
      "text/html": [],
      "text/plain": [
       "<IPython.core.display.HTML object>"
      ]
     },
     "metadata": {
      "tags": []
     },
     "output_type": "display_data"
    },
    {
     "data": {
      "text/html": [],
      "text/plain": [
       "<IPython.core.display.HTML object>"
      ]
     },
     "metadata": {
      "tags": []
     },
     "output_type": "display_data"
    }
   ],
   "source": [
    "data = (TextList.from_csv(path, 'texts.csv', cols='text')\n",
    "                .split_from_df(col=2)\n",
    "                .label_from_df(cols=0)\n",
    "                .databunch())"
   ]
  },
  {
   "cell_type": "markdown",
   "metadata": {
    "colab_type": "text",
    "id": "ozd8cCVepiCQ"
   },
   "source": [
    "요렇게 csv로 이미지가 아닌 텍스트 리스트를 활용해 DataBunch를 만든다. 이제 우리는 model을 만들 수 있다.\n",
    "\n",
    "이제 샘플이 아니라 진짜로 IMBD의 리뷰들로 해보겠다."
   ]
  },
  {
   "cell_type": "markdown",
   "metadata": {
    "colab_type": "text",
    "id": "bRYtQiw1M1fv"
   },
   "source": [
    "## Language model"
   ]
  },
  {
   "cell_type": "markdown",
   "metadata": {
    "colab_type": "text",
    "id": "aYjUrJYJM1fw"
   },
   "source": [
    "Note that language models can use a lot of GPU, so you may need to decrease batchsize here."
   ]
  },
  {
   "cell_type": "code",
   "execution_count": 0,
   "metadata": {
    "colab": {},
    "colab_type": "code",
    "id": "HAcqXIG6M1fw"
   },
   "outputs": [],
   "source": [
    "bs=48"
   ]
  },
  {
   "cell_type": "markdown",
   "metadata": {
    "colab_type": "text",
    "id": "7Tm-KDHbM1fy"
   },
   "source": [
    "Now let's grab the full dataset for what follows."
   ]
  },
  {
   "cell_type": "code",
   "execution_count": 15,
   "metadata": {
    "colab": {
     "base_uri": "https://localhost:8080/",
     "height": 170
    },
    "colab_type": "code",
    "id": "vQKXrGV_M1fy",
    "outputId": "d687da97-0d13-4fdf-a527-44dc6d673f6a"
   },
   "outputs": [
    {
     "data": {
      "text/plain": [
       "[PosixPath('/root/.fastai/data/imdb/tmp_lm'),\n",
       " PosixPath('/root/.fastai/data/imdb/imdb.vocab'),\n",
       " PosixPath('/root/.fastai/data/imdb/README'),\n",
       " PosixPath('/root/.fastai/data/imdb/unsup'),\n",
       " PosixPath('/root/.fastai/data/imdb/models'),\n",
       " PosixPath('/root/.fastai/data/imdb/tmp_clas'),\n",
       " PosixPath('/root/.fastai/data/imdb/train'),\n",
       " PosixPath('/root/.fastai/data/imdb/test'),\n",
       " PosixPath('/root/.fastai/data/imdb/data_lm.pkl')]"
      ]
     },
     "execution_count": 15,
     "metadata": {
      "tags": []
     },
     "output_type": "execute_result"
    }
   ],
   "source": [
    "path = untar_data(URLs.IMDB)\n",
    "path.ls()"
   ]
  },
  {
   "cell_type": "markdown",
   "metadata": {
    "colab_type": "text",
    "id": "Vj8ConV0quSb"
   },
   "source": [
    "이제 진짜로 데이터를 받는다."
   ]
  },
  {
   "cell_type": "code",
   "execution_count": 16,
   "metadata": {
    "colab": {
     "base_uri": "https://localhost:8080/",
     "height": 85
    },
    "colab_type": "code",
    "id": "16XfNBUqM1f0",
    "outputId": "ef36186c-b5f8-4f3d-a089-eccf42fb97d5"
   },
   "outputs": [
    {
     "data": {
      "text/plain": [
       "[PosixPath('/root/.fastai/data/imdb/train/pos'),\n",
       " PosixPath('/root/.fastai/data/imdb/train/neg'),\n",
       " PosixPath('/root/.fastai/data/imdb/train/unsupBow.feat'),\n",
       " PosixPath('/root/.fastai/data/imdb/train/labeledBow.feat')]"
      ]
     },
     "execution_count": 16,
     "metadata": {
      "tags": []
     },
     "output_type": "execute_result"
    }
   ],
   "source": [
    "(path/'train').ls()"
   ]
  },
  {
   "cell_type": "markdown",
   "metadata": {
    "colab_type": "text",
    "id": "NIAGpJQwqwsm"
   },
   "source": [
    "이러한 종류의 디렉토리나 파일이 현재 path에 있다."
   ]
  },
  {
   "cell_type": "markdown",
   "metadata": {
    "colab_type": "text",
    "id": "0JV5ONPRM1f2"
   },
   "source": [
    "The reviews are in a training and test set following an imagenet structure. The only difference is that there is an `unsup` folder on top of `train` and `test` that contains the unlabelled data.\n",
    "\n",
    "We're not going to train a model that classifies the reviews from scratch. Like in computer vision, we'll use a model pretrained on a bigger dataset (a cleaned subset of wikipedia called [wikitext-103](https://einstein.ai/research/blog/the-wikitext-long-term-dependency-language-modeling-dataset)). That model has been trained to guess what the next word is, its input being all the previous words. It has a recurrent structure and a hidden state that is updated each time it sees a new word. This hidden state thus contains information about the sentence up to that point.\n",
    "\n",
    "We are going to use that 'knowledge' of the English language to build our classifier, but first, like for computer vision, we need to fine-tune the pretrained model to our particular dataset. Because the English of the reviews left by people on IMDB isn't the same as the English of wikipedia, we'll need to adjust the parameters of our model by a little bit. Plus there might be some words that would be extremely common in the reviews dataset but would be barely present in wikipedia, and therefore might not be part of the vocabulary the model was trained on."
   ]
  },
  {
   "cell_type": "markdown",
   "metadata": {
    "colab_type": "text",
    "id": "jSH9BvxQM1f2"
   },
   "source": [
    "This is where the unlabelled data is going to be useful to us, as we can use it to fine-tune our model. Let's create our data object with the data block API (next line takes a few minutes)."
   ]
  },
  {
   "cell_type": "code",
   "execution_count": 17,
   "metadata": {
    "colab": {
     "base_uri": "https://localhost:8080/",
     "height": 17
    },
    "colab_type": "code",
    "id": "TYzjpkwSM1f3",
    "outputId": "f9f0c66b-871a-45aa-aa0d-ad02b8f0e662"
   },
   "outputs": [
    {
     "data": {
      "text/html": [],
      "text/plain": [
       "<IPython.core.display.HTML object>"
      ]
     },
     "metadata": {
      "tags": []
     },
     "output_type": "display_data"
    },
    {
     "data": {
      "text/html": [],
      "text/plain": [
       "<IPython.core.display.HTML object>"
      ]
     },
     "metadata": {
      "tags": []
     },
     "output_type": "display_data"
    }
   ],
   "source": [
    "data_lm = (TextList.from_folder(path)\n",
    "           #Inputs: all the text files in path\n",
    "            .filter_by_folder(include=['train', 'test', 'unsup']) \n",
    "           #We may have other temp folders that contain text files so we only keep what's in train and test\n",
    "            .split_by_rand_pct(0.1)\n",
    "           #We randomly split and keep 10% (10,000 reviews) for validation\n",
    "            .label_for_lm()           \n",
    "           #We want to do a language model so we label accordingly\n",
    "            .databunch(bs=bs))\n",
    "data_lm.save('data_lm.pkl')"
   ]
  },
  {
   "cell_type": "markdown",
   "metadata": {
    "colab_type": "text",
    "id": "r8pPomKHq3I4"
   },
   "source": [
    "**이게 무슨 말일까? Label이 붙지 않은 애들을 fine-tune하는데 쓴다고 하는데, 밑에서 fine-tune할때도 코드를 보면 계속 같은 DataBunch를 쓰는 것 같다... ImageDataBunch로 train 할 때랑 과정에 큰 차이가 없는거 같은데. unlabelled data는 정확히 무엇에 어떻게 쓰이는 걸까?**\n",
    "\n",
    "datablock API로 일단 폴더를 활용해서 데이터셋을 만들고,"
   ]
  },
  {
   "cell_type": "markdown",
   "metadata": {},
   "source": [
    "> ## 이 부분은 testset에 대해서 알아야해요! 다음에 배워요~"
   ]
  },
  {
   "cell_type": "markdown",
   "metadata": {
    "colab_type": "text",
    "id": "vrQSPPHyM1f4"
   },
   "source": [
    "We have to use a special kind of `TextDataBunch` for the language model, that ignores the labels (that's why we put 0 everywhere), will shuffle the texts at each epoch before concatenating them all together (only for training, we don't shuffle for the validation set) and will send batches that read that text in order with targets that are the next word in the sentence.\n",
    "\n",
    "The line before being a bit long, we want to load quickly the final ids by using the following cell."
   ]
  },
  {
   "cell_type": "code",
   "execution_count": 0,
   "metadata": {
    "colab": {},
    "colab_type": "code",
    "id": "ijJ99ud7M1f4"
   },
   "outputs": [],
   "source": [
    "data_lm = load_data(path, 'data_lm.pkl', bs=bs)"
   ]
  },
  {
   "cell_type": "code",
   "execution_count": 19,
   "metadata": {
    "colab": {
     "base_uri": "https://localhost:8080/",
     "height": 374
    },
    "colab_type": "code",
    "id": "n4QLTwDZM1f6",
    "outputId": "89f2b212-354a-4c4a-9591-b45939f71d19"
   },
   "outputs": [
    {
     "data": {
      "text/html": [
       "<table border=\"1\" class=\"dataframe\">\n",
       "  <thead>\n",
       "    <tr style=\"text-align: right;\">\n",
       "      <th>idx</th>\n",
       "      <th>text</th>\n",
       "    </tr>\n",
       "  </thead>\n",
       "  <tbody>\n",
       "    <tr>\n",
       "      <td>0</td>\n",
       "      <td>the delightful \" xxmaj when xxmaj harry xxmaj met xxmaj sally ... \" offered a decade ago . xxmaj bad script , bad direction , bad acting equals bad movie . xxmaj every acting \" effort \" in this movie pretty much sucks , but special mention must go to xxmaj rita xxmaj wilson ( xxup aka xxmaj mrs. xxmaj hanks ) . i had no idea she was this</td>\n",
       "    </tr>\n",
       "    <tr>\n",
       "      <td>1</td>\n",
       "      <td>let him down . \\n \\n  xxmaj please stay away from this one : p ! ! xxbos i just finished watching this movie about 2 hours ago and i want to cry that i actual spent money on this film ! i loved the first one . xxmaj it was fun , upbeat and the characters were really enjoyable . xxmaj this movie , i just could n't</td>\n",
       "    </tr>\n",
       "    <tr>\n",
       "      <td>2</td>\n",
       "      <td>interesting than watching this plot less , plodding film . \\n \\n  i gave it 3 stars out of a possible 10 . xxmaj the xxup only thing this film had going for it was seeing people in a simulated historical setting in the 1700 's of xxmaj holland . xxmaj you do get a bit of a glimpse into what life was like for the serving classes and</td>\n",
       "    </tr>\n",
       "    <tr>\n",
       "      <td>3</td>\n",
       "      <td>to such pioneers . \\n \\n  xxmaj in fact , what the xxup xxunk team have created is something deliciously sophisticated and different . xxmaj unlike xxmaj morris , whose news parody tended toward an exaggerated , cartoonish style , xxup xxunk 's chief strength is in subtlety of detail : it looks and sounds so utterly ( and hilariously ) like the real thing ! \\n \\n</td>\n",
       "    </tr>\n",
       "    <tr>\n",
       "      <td>4</td>\n",
       "      <td>to spruce up an old abandoned theater . xxmaj he gives them the keys and says - go at it . xxmaj that would be really fun and i wish someone would give me that chance ! xxmaj imagine going into an old abandoned theater with two other people and you get to decide how to decorate it , and fix it up . xxmaj you have total control over</td>\n",
       "    </tr>\n",
       "  </tbody>\n",
       "</table>"
      ],
      "text/plain": [
       "<IPython.core.display.HTML object>"
      ]
     },
     "metadata": {
      "tags": []
     },
     "output_type": "display_data"
    }
   ],
   "source": [
    "data_lm.show_batch()"
   ]
  },
  {
   "cell_type": "markdown",
   "metadata": {
    "colab_type": "text",
    "id": "Clbxks2ursLW"
   },
   "source": [
    "이런식으로 데이터가 이루어져 있다."
   ]
  },
  {
   "cell_type": "markdown",
   "metadata": {
    "colab_type": "text",
    "id": "vv6_9zJNM1f8"
   },
   "source": [
    "We can then put this in a learner object very easily with a model loaded with the pretrained weights. They'll be downloaded the first time you'll execute the following line and stored in `~/.fastai/models/` (or elsewhere if you specified different paths in your config file)."
   ]
  },
  {
   "cell_type": "code",
   "execution_count": 0,
   "metadata": {
    "colab": {},
    "colab_type": "code",
    "id": "2sEZtjQ8M1f9"
   },
   "outputs": [],
   "source": [
    "learn = language_model_learner(data_lm, AWD_LSTM, drop_mult=0.3)"
   ]
  },
  {
   "cell_type": "markdown",
   "metadata": {
    "colab_type": "text",
    "id": "C65D64PSr8ID"
   },
   "source": [
    "learner를 만들 때, 만약 이미지를 다루면 여기서 RESNET의 데이터셋을 썼었다. 이번에는 하지만 텍스트이기 때문에, 이쪽에서 잘 쓰이는 AWD-LSTM을 쓸 것이다. \n",
    "\n",
    "아래서부턴 익히 해오던 것이라 빠르게 넘어가겠다."
   ]
  },
  {
   "cell_type": "code",
   "execution_count": 21,
   "metadata": {
    "colab": {
     "base_uri": "https://localhost:8080/",
     "height": 112
    },
    "colab_type": "code",
    "id": "VJPbHrlcM1gA",
    "outputId": "950f8388-0de0-4eba-b78e-591b8ff02d62"
   },
   "outputs": [
    {
     "data": {
      "text/html": [
       "\n",
       "    <div>\n",
       "        <style>\n",
       "            /* Turns off some styling */\n",
       "            progress {\n",
       "                /* gets rid of default border in Firefox and Opera. */\n",
       "                border: none;\n",
       "                /* Needs to be in here for Safari polyfill so background images work as expected. */\n",
       "                background-size: auto;\n",
       "            }\n",
       "            .progress-bar-interrupted, .progress-bar-interrupted::-webkit-progress-bar {\n",
       "                background: #F44336;\n",
       "            }\n",
       "        </style>\n",
       "      <progress value='0' class='' max='1', style='width:300px; height:20px; vertical-align: middle;'></progress>\n",
       "      0.00% [0/1 00:00<00:00]\n",
       "    </div>\n",
       "    \n",
       "<table border=\"1\" class=\"dataframe\">\n",
       "  <thead>\n",
       "    <tr style=\"text-align: left;\">\n",
       "      <th>epoch</th>\n",
       "      <th>train_loss</th>\n",
       "      <th>valid_loss</th>\n",
       "      <th>accuracy</th>\n",
       "      <th>time</th>\n",
       "    </tr>\n",
       "  </thead>\n",
       "  <tbody>\n",
       "  </tbody>\n",
       "</table><p>\n",
       "\n",
       "    <div>\n",
       "        <style>\n",
       "            /* Turns off some styling */\n",
       "            progress {\n",
       "                /* gets rid of default border in Firefox and Opera. */\n",
       "                border: none;\n",
       "                /* Needs to be in here for Safari polyfill so background images work as expected. */\n",
       "                background-size: auto;\n",
       "            }\n",
       "            .progress-bar-interrupted, .progress-bar-interrupted::-webkit-progress-bar {\n",
       "                background: #F44336;\n",
       "            }\n",
       "        </style>\n",
       "      <progress value='99' class='' max='8060', style='width:300px; height:20px; vertical-align: middle;'></progress>\n",
       "      1.23% [99/8060 00:40<53:37 11.6196]\n",
       "    </div>\n",
       "    "
      ],
      "text/plain": [
       "<IPython.core.display.HTML object>"
      ]
     },
     "metadata": {
      "tags": []
     },
     "output_type": "display_data"
    },
    {
     "name": "stdout",
     "output_type": "stream",
     "text": [
      "LR Finder is complete, type {learner_name}.recorder.plot() to see the graph.\n"
     ]
    }
   ],
   "source": [
    "learn.lr_find()"
   ]
  },
  {
   "cell_type": "markdown",
   "metadata": {
    "colab_type": "text",
    "id": "n4gi7muJsL3z"
   },
   "source": [
    "좋은 learning rate를 찾고"
   ]
  },
  {
   "cell_type": "code",
   "execution_count": 22,
   "metadata": {
    "colab": {
     "base_uri": "https://localhost:8080/",
     "height": 279
    },
    "colab_type": "code",
    "id": "FTv58fpdM1gC",
    "outputId": "477e7c29-0c6b-4fd3-843b-2661bccc863c"
   },
   "outputs": [
    {
     "data": {
      "image/png": "[encoded data removed]",
      "text/plain": [
       "<Figure size 432x288 with 1 Axes>"
      ]
     },
     "metadata": {
      "tags": []
     },
     "output_type": "display_data"
    }
   ],
   "source": [
    "learn.recorder.plot(skip_end=15)"
   ]
  },
  {
   "cell_type": "markdown",
   "metadata": {
    "colab_type": "text",
    "id": "wMvnwEFZsN3V"
   },
   "source": [
    "learning rate에 따른 loss는 다음과 같다."
   ]
  },
  {
   "cell_type": "code",
   "execution_count": 0,
   "metadata": {
    "colab": {
     "base_uri": "https://localhost:8080/",
     "height": 95
    },
    "colab_type": "code",
    "id": "vGDxDjRuM1gE",
    "outputId": "53ee799c-e17d-4ab9-f35c-0695fe399d57"
   },
   "outputs": [
    {
     "data": {
      "text/html": [
       "\n",
       "    <div>\n",
       "        <style>\n",
       "            /* Turns off some styling */\n",
       "            progress {\n",
       "                /* gets rid of default border in Firefox and Opera. */\n",
       "                border: none;\n",
       "                /* Needs to be in here for Safari polyfill so background images work as expected. */\n",
       "                background-size: auto;\n",
       "            }\n",
       "            .progress-bar-interrupted, .progress-bar-interrupted::-webkit-progress-bar {\n",
       "                background: #F44336;\n",
       "            }\n",
       "        </style>\n",
       "      <progress value='0' class='' max='1', style='width:300px; height:20px; vertical-align: middle;'></progress>\n",
       "      0.00% [0/1 00:00<00:00]\n",
       "    </div>\n",
       "    \n",
       "<table border=\"1\" class=\"dataframe\">\n",
       "  <thead>\n",
       "    <tr style=\"text-align: left;\">\n",
       "      <th>epoch</th>\n",
       "      <th>train_loss</th>\n",
       "      <th>valid_loss</th>\n",
       "      <th>accuracy</th>\n",
       "      <th>time</th>\n",
       "    </tr>\n",
       "  </thead>\n",
       "  <tbody>\n",
       "  </tbody>\n",
       "</table><p>\n",
       "\n",
       "    <div>\n",
       "        <style>\n",
       "            /* Turns off some styling */\n",
       "            progress {\n",
       "                /* gets rid of default border in Firefox and Opera. */\n",
       "                border: none;\n",
       "                /* Needs to be in here for Safari polyfill so background images work as expected. */\n",
       "                background-size: auto;\n",
       "            }\n",
       "            .progress-bar-interrupted, .progress-bar-interrupted::-webkit-progress-bar {\n",
       "                background: #F44336;\n",
       "            }\n",
       "        </style>\n",
       "      <progress value='4240' class='' max='8060', style='width:300px; height:20px; vertical-align: middle;'></progress>\n",
       "      52.61% [4240/8060 29:59<27:01 4.2607]\n",
       "    </div>\n",
       "    "
      ],
      "text/plain": [
       "<IPython.core.display.HTML object>"
      ]
     },
     "metadata": {
      "tags": []
     },
     "output_type": "display_data"
    }
   ],
   "source": [
    "learn.fit_one_cycle(1, 1e-2, moms=(0.8,0.7))"
   ]
  },
  {
   "cell_type": "markdown",
   "metadata": {
    "colab_type": "text",
    "id": "X6CIf0pnsSNQ"
   },
   "source": [
    "한번 fitting해준다. 한번 돌리는데 약 한시간이니, 굉장히 오래걸린다...\n",
    "\n",
    "밑에서 런타임 끊어져서 한번 더 돌려봤는데, 여기서 또 끊어졌다... 끝까지 돌리기가 불가능하다.\n",
    "![image.png](data:image/png;base64,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)"
   ]
  },
  {
   "cell_type": "code",
   "execution_count": 0,
   "metadata": {
    "colab": {},
    "colab_type": "code",
    "id": "WFGvCH8yM1gG"
   },
   "outputs": [],
   "source": [
    "learn.save('fit_head')"
   ]
  },
  {
   "cell_type": "markdown",
   "metadata": {
    "colab_type": "text",
    "id": "qGusy5k2sUe6"
   },
   "source": [
    "지금 찾은 값들을 저장해놓겠다."
   ]
  },
  {
   "cell_type": "code",
   "execution_count": 0,
   "metadata": {
    "colab": {},
    "colab_type": "code",
    "id": "HFP6NFR3M1gH"
   },
   "outputs": [],
   "source": [
    "learn.load('fit_head');"
   ]
  },
  {
   "cell_type": "markdown",
   "metadata": {
    "colab_type": "text",
    "id": "QeG1HobCschU"
   },
   "source": [
    "이건 필요할 때 눌러서 불러오면 된다."
   ]
  },
  {
   "cell_type": "markdown",
   "metadata": {
    "colab_type": "text",
    "id": "_3YSZ___M1gJ"
   },
   "source": [
    "To complete the fine-tuning, we can then unfeeze and launch a new training."
   ]
  },
  {
   "cell_type": "code",
   "execution_count": 0,
   "metadata": {
    "colab": {},
    "colab_type": "code",
    "id": "dmOXeCmJM1gK"
   },
   "outputs": [],
   "source": [
    "learn.unfreeze()"
   ]
  },
  {
   "cell_type": "markdown",
   "metadata": {
    "colab_type": "text",
    "id": "342ZFEZlsgUO"
   },
   "source": [
    "이제 unfreeze하고,\n",
    "\n",
    "**여기서 오래걸려서 밥을 먹고 오니 중간에 런타임이 끊어져있었다. 휴우 한 epoch에 한시간 걸리는데...**\n",
    "\n",
    "뒤 코드들은 도무지 실행 못하겠고, 무엇을 하는지 comment만 달겠다. 다음에는 노트북이 아니라 피시방에서 해봐야 하나?"
   ]
  },
  {
   "cell_type": "code",
   "execution_count": 0,
   "metadata": {
    "colab": {},
    "colab_type": "code",
    "id": "YXXjq0Z_M1gM"
   },
   "outputs": [],
   "source": [
    "learn.fit_one_cycle(1, 1e-3, moms=(0.8,0.7))"
   ]
  },
  {
   "cell_type": "markdown",
   "metadata": {
    "colab_type": "text",
    "id": "ahqAKk60siFh"
   },
   "source": [
    "다시 fitting한다."
   ]
  },
  {
   "cell_type": "code",
   "execution_count": 0,
   "metadata": {
    "colab": {},
    "colab_type": "code",
    "id": "LJpwZtHsM1gO"
   },
   "outputs": [],
   "source": [
    "learn.save('fine_tuned')"
   ]
  },
  {
   "cell_type": "markdown",
   "metadata": {
    "colab_type": "text",
    "id": "o4h0Ba1gsvUP"
   },
   "source": [
    "이 값들을 저장한다."
   ]
  },
  {
   "cell_type": "markdown",
   "metadata": {
    "colab_type": "text",
    "id": "6sucapIdM1gP"
   },
   "source": [
    "How good is our model? Well let's try to see what it predicts after a few given words."
   ]
  },
  {
   "cell_type": "code",
   "execution_count": 0,
   "metadata": {
    "colab": {},
    "colab_type": "code",
    "id": "1KatE0f7M1gQ"
   },
   "outputs": [],
   "source": [
    "learn.load('fine_tuned');"
   ]
  },
  {
   "cell_type": "markdown",
   "metadata": {
    "colab_type": "text",
    "id": "bMUkZsTvsyva"
   },
   "source": [
    "방금 수정한 model의 값들을 불러와서 평가해보겠다."
   ]
  },
  {
   "cell_type": "code",
   "execution_count": 0,
   "metadata": {
    "colab": {},
    "colab_type": "code",
    "id": "5pIKCHSiM1gR"
   },
   "outputs": [],
   "source": [
    "TEXT = \"I liked this movie because\"\n",
    "N_WORDS = 40\n",
    "N_SENTENCES = 2"
   ]
  },
  {
   "cell_type": "markdown",
   "metadata": {
    "colab_type": "text",
    "id": "GmOAKyHTtI9-"
   },
   "source": [
    "이렇게 임의의 문장을 만들었다. 딱봐도 positive review이다. 실제로 돌렸을 때 model은 어떻게 예측했을까?"
   ]
  },
  {
   "cell_type": "code",
   "execution_count": 0,
   "metadata": {
    "colab": {},
    "colab_type": "code",
    "id": "pBT84PYpM1gT"
   },
   "outputs": [],
   "source": [
    "print(\"\\n\".join(learn.predict(TEXT, N_WORDS, temperature=0.75) for _ in range(N_SENTENCES)))"
   ]
  },
  {
   "cell_type": "markdown",
   "metadata": {
    "colab_type": "text",
    "id": "REvBtaR0tR54"
   },
   "source": [
    "잘 예측했길 바란다!"
   ]
  },
  {
   "cell_type": "markdown",
   "metadata": {
    "colab_type": "text",
    "id": "Tig9t7gHM1gW"
   },
   "source": [
    "We have to save not only the model, but also its encoder, the part that's responsible for creating and updating the hidden state. For the next part, we don't care about the part that tries to guess the next word."
   ]
  },
  {
   "cell_type": "code",
   "execution_count": 0,
   "metadata": {
    "colab": {},
    "colab_type": "code",
    "id": "XYVYRN4WM1gW"
   },
   "outputs": [],
   "source": [
    "learn.save_encoder('fine_tuned_enc')"
   ]
  },
  {
   "cell_type": "markdown",
   "metadata": {
    "colab_type": "text",
    "id": "tOfpkaI1ue8L"
   },
   "source": [
    "너무 오래걸려서 도무지 밑은 더이상 실행할 염두가 나지 않는다. 그래서 그냥 코드만 보기로 했다."
   ]
  },
  {
   "cell_type": "markdown",
   "metadata": {
    "colab_type": "text",
    "id": "fkcszIv2M1gZ"
   },
   "source": [
    "## Classifier"
   ]
  },
  {
   "cell_type": "markdown",
   "metadata": {
    "colab_type": "text",
    "id": "udlUiWxwM1gZ"
   },
   "source": [
    "Now, we'll create a new data object that only grabs the labelled data and keeps those labels. Again, this line takes a bit of time."
   ]
  },
  {
   "cell_type": "code",
   "execution_count": 0,
   "metadata": {
    "colab": {},
    "colab_type": "code",
    "id": "ugRoDh31M1gZ"
   },
   "outputs": [],
   "source": [
    "path = untar_data(URLs.IMDB)"
   ]
  },
  {
   "cell_type": "code",
   "execution_count": 0,
   "metadata": {
    "colab": {},
    "colab_type": "code",
    "id": "vD-LivanM1gb"
   },
   "outputs": [],
   "source": [
    "data_clas = (TextList.from_folder(path, vocab=data_lm.vocab)\n",
    "             #grab all the text files in path\n",
    "             .split_by_folder(valid='test')\n",
    "             #split by train and valid folder (that only keeps 'train' and 'test' so no need to filter)\n",
    "             .label_from_folder(classes=['neg', 'pos'])\n",
    "             #label them all with their folders\n",
    "             .databunch(bs=bs))\n",
    "\n",
    "data_clas.save('data_clas.pkl')"
   ]
  },
  {
   "cell_type": "markdown",
   "metadata": {
    "colab_type": "text",
    "id": "oB6YDW4zvaE3"
   },
   "source": [
    "흠... 여기가 살짝 이해가 안간다. **Q. 위에서 처음 만들었을 때와의 차이점은 filter이 필요 없다는 점이라고 하는데...그게 무슨 말인지 잘 모르겠다.**\n",
    "\n",
    "밑에서부터는 모두 지금까지 해온것과 같은 과정으로 train하고 수정해서 결과를 더 좋게 만드는 것이다."
   ]
  },
  {
   "cell_type": "code",
   "execution_count": 0,
   "metadata": {
    "colab": {},
    "colab_type": "code",
    "id": "FWE4Cu8mM1gd"
   },
   "outputs": [],
   "source": [
    "data_clas = load_data(path, 'data_clas.pkl', bs=bs)"
   ]
  },
  {
   "cell_type": "code",
   "execution_count": 0,
   "metadata": {
    "colab": {},
    "colab_type": "code",
    "id": "vOCkWCK0M1gf"
   },
   "outputs": [],
   "source": [
    "data_clas.show_batch()"
   ]
  },
  {
   "cell_type": "markdown",
   "metadata": {
    "colab_type": "text",
    "id": "H_elISk2M1gg"
   },
   "source": [
    "We can then create a model to classify those reviews and load the encoder we saved before."
   ]
  },
  {
   "cell_type": "code",
   "execution_count": 0,
   "metadata": {
    "colab": {},
    "colab_type": "code",
    "id": "lx9hi_d7M1gh"
   },
   "outputs": [],
   "source": [
    "learn = text_classifier_learner(data_clas, AWD_LSTM, drop_mult=0.5)\n",
    "learn.load_encoder('fine_tuned_enc')"
   ]
  },
  {
   "cell_type": "code",
   "execution_count": 0,
   "metadata": {
    "colab": {},
    "colab_type": "code",
    "id": "SmVPtxYaM1gj"
   },
   "outputs": [],
   "source": [
    "learn.lr_find()"
   ]
  },
  {
   "cell_type": "code",
   "execution_count": 0,
   "metadata": {
    "colab": {},
    "colab_type": "code",
    "id": "GnVPhcuSM1gl"
   },
   "outputs": [],
   "source": [
    "learn.recorder.plot()"
   ]
  },
  {
   "cell_type": "code",
   "execution_count": 0,
   "metadata": {
    "colab": {},
    "colab_type": "code",
    "id": "ajpwGqXTM1gn"
   },
   "outputs": [],
   "source": [
    "learn.fit_one_cycle(1, 2e-2, moms=(0.8,0.7))"
   ]
  },
  {
   "cell_type": "code",
   "execution_count": 0,
   "metadata": {
    "colab": {},
    "colab_type": "code",
    "id": "8TrkrnQPM1go"
   },
   "outputs": [],
   "source": [
    "learn.save('first')"
   ]
  },
  {
   "cell_type": "code",
   "execution_count": 0,
   "metadata": {
    "colab": {},
    "colab_type": "code",
    "id": "LLcukhj2M1gq"
   },
   "outputs": [],
   "source": [
    "learn.load('first');"
   ]
  },
  {
   "cell_type": "code",
   "execution_count": 0,
   "metadata": {
    "colab": {},
    "colab_type": "code",
    "id": "YsZIq19RM1gs"
   },
   "outputs": [],
   "source": [
    "learn.freeze_to(-2)\n",
    "learn.fit_one_cycle(1, slice(1e-2/(2.6**4),1e-2), moms=(0.8,0.7))"
   ]
  },
  {
   "cell_type": "code",
   "execution_count": 0,
   "metadata": {
    "colab": {},
    "colab_type": "code",
    "id": "wDuurrV7M1gu"
   },
   "outputs": [],
   "source": [
    "learn.save('second')"
   ]
  },
  {
   "cell_type": "code",
   "execution_count": 0,
   "metadata": {
    "colab": {},
    "colab_type": "code",
    "id": "WQ5p5ScBM1gv"
   },
   "outputs": [],
   "source": [
    "learn.load('second');"
   ]
  },
  {
   "cell_type": "code",
   "execution_count": 0,
   "metadata": {
    "colab": {},
    "colab_type": "code",
    "id": "jI8MZXCmM1gw"
   },
   "outputs": [],
   "source": [
    "learn.freeze_to(-3)\n",
    "learn.fit_one_cycle(1, slice(5e-3/(2.6**4),5e-3), moms=(0.8,0.7))"
   ]
  },
  {
   "cell_type": "code",
   "execution_count": 0,
   "metadata": {
    "colab": {},
    "colab_type": "code",
    "id": "7kg8UlN_M1gy"
   },
   "outputs": [],
   "source": [
    "learn.save('third')"
   ]
  },
  {
   "cell_type": "code",
   "execution_count": 0,
   "metadata": {
    "colab": {},
    "colab_type": "code",
    "id": "nQb54PPSM1g0"
   },
   "outputs": [],
   "source": [
    "learn.load('third');"
   ]
  },
  {
   "cell_type": "code",
   "execution_count": 0,
   "metadata": {
    "colab": {},
    "colab_type": "code",
    "id": "rkw9ulzJM1g2"
   },
   "outputs": [],
   "source": [
    "learn.unfreeze()\n",
    "learn.fit_one_cycle(1, slice(1e-3/(2.6**4),1e-3), moms=(0.8,0.7))"
   ]
  },
  {
   "cell_type": "code",
   "execution_count": 0,
   "metadata": {
    "colab": {},
    "colab_type": "code",
    "id": "cUYXmDnOM1g5"
   },
   "outputs": [],
   "source": [
    "learn.predict(\"I really loved that movie, it was awesome!\")"
   ]
  },
  {
   "cell_type": "markdown",
   "metadata": {
    "colab_type": "text",
    "id": "9Q3s5IJd181E"
   },
   "source": [
    "얘도 아마 잘 예측했겠지...?\n",
    "\n",
    "\n",
    "최종 소감은,\n",
    "이번 거는 전체적으로 분명히 GPU 설정한건데 시간이 너무 오래걸려서 힘들었다. 강의자 분은 매우 빨리 작동하던데, 나도 좀더 좋은 컴퓨터로 돌려보고 싶다. 그러면 더 빨리 결과도 얻고 이것저것 해볼 수도 있을 텐데 말이다."
   ]
  },
  {
   "cell_type": "code",
   "execution_count": 0,
   "metadata": {
    "colab": {},
    "colab_type": "code",
    "id": "PP_CA9DcM1g8"
   },
   "outputs": [],
   "source": []
  }
 ],
 "metadata": {
  "accelerator": "GPU",
  "colab": {
   "collapsed_sections": [],
   "name": "exercise_4_4.ipynb",
   "provenance": []
  },
  "kernelspec": {
   "display_name": "Python 3",
   "language": "python",
   "name": "python3"
  },
  "language_info": {
   "codemirror_mode": {
    "name": "ipython",
    "version": 3
   },
   "file_extension": ".py",
   "mimetype": "text/x-python",
   "name": "python",
   "nbconvert_exporter": "python",
   "pygments_lexer": "ipython3",
   "version": "3.7.6"
  }
 },
 "nbformat": 4,
 "nbformat_minor": 1
}
