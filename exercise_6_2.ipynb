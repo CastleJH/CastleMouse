{
 "cells": [
  {
   "cell_type": "code",
   "execution_count": null,
   "metadata": {
    "colab": {},
    "colab_type": "code",
    "id": "lGpntfpeVfu_"
   },
   "outputs": [],
   "source": [
    "%matplotlib inline\n",
    "from fastai.basics import *"
   ]
  },
  {
   "cell_type": "code",
   "execution_count": 2,
   "metadata": {
    "colab": {
     "base_uri": "https://localhost:8080/",
     "height": 34
    },
    "colab_type": "code",
    "id": "7_zb_fsnfSmL",
    "outputId": "b247b629-b65a-470f-db20-f854e43e9fe8"
   },
   "outputs": [
    {
     "name": "stdout",
     "output_type": "stream",
     "text": [
      "Mounted at /content/gdrive\n"
     ]
    }
   ],
   "source": [
    "from google.colab import drive\n",
    "drive.mount('/content/gdrive', force_remount=True)\n",
    "root_dir = \"/content/gdrive/My Drive/\"\n",
    "base_dir = root_dir + 'fastai-v3/'"
   ]
  },
  {
   "cell_type": "markdown",
   "metadata": {
    "colab_type": "text",
    "id": "z2W08crdVfvF"
   },
   "source": [
    "## MNIST SGD"
   ]
  },
  {
   "cell_type": "markdown",
   "metadata": {
    "colab_type": "text",
    "id": "XrWI6jV5VfvG"
   },
   "source": [
    "Get the 'pickled' MNIST dataset from http://deeplearning.net/data/mnist/mnist.pkl.gz. We're going to treat it as a standard flat dataset with fully connected layers, rather than using a CNN."
   ]
  },
  {
   "cell_type": "code",
   "execution_count": 3,
   "metadata": {
    "colab": {
     "base_uri": "https://localhost:8080/",
     "height": 34
    },
    "colab_type": "code",
    "id": "33uoREgcVfvG",
    "outputId": "d4eab2a4-9808-46a3-dd55-7f26873b0a28"
   },
   "outputs": [
    {
     "data": {
      "text/plain": [
       "PosixPath('/root/.fastai/data/mnist')"
      ]
     },
     "execution_count": 3,
     "metadata": {
      "tags": []
     },
     "output_type": "execute_result"
    }
   ],
   "source": [
    "path = Config().data_path()/'mnist'\n",
    "path.mkdir(parents=True, exist_ok=True)\n",
    "path"
   ]
  },
  {
   "cell_type": "code",
   "execution_count": null,
   "metadata": {
    "colab": {},
    "colab_type": "code",
    "id": "SCC0EZMUbdf1"
   },
   "outputs": [],
   "source": [
    "!mv '/content/gdrive/My Drive/fastai-v3/mnist.pkl.gz' '/root/.fastai/data/mnist'"
   ]
  },
  {
   "cell_type": "markdown",
   "metadata": {
    "colab_type": "text",
    "id": "9-vFMq_i3KZb"
   },
   "source": [
    "바로 업로드하려니 너무 오래 걸려서 다운받은 파일을 구글 드라이브에 업로드한 다음 path로 옮겼다."
   ]
  },
  {
   "cell_type": "code",
   "execution_count": 5,
   "metadata": {
    "colab": {
     "base_uri": "https://localhost:8080/",
     "height": 34
    },
    "colab_type": "code",
    "id": "wKAUpIU1VfvI",
    "outputId": "d3d36ad6-3cef-41c8-ab0a-defa14423cfa"
   },
   "outputs": [
    {
     "data": {
      "text/plain": [
       "[PosixPath('/root/.fastai/data/mnist/mnist.pkl.gz')]"
      ]
     },
     "execution_count": 5,
     "metadata": {
      "tags": []
     },
     "output_type": "execute_result"
    }
   ],
   "source": [
    "path.ls()"
   ]
  },
  {
   "cell_type": "code",
   "execution_count": null,
   "metadata": {
    "colab": {},
    "colab_type": "code",
    "id": "sQrUHlF7VfvL"
   },
   "outputs": [],
   "source": [
    "with gzip.open(path/'mnist.pkl.gz', 'rb') as f:\n",
    "    ((x_train, y_train), (x_valid, y_valid), _) = pickle.load(f, encoding='latin-1')"
   ]
  },
  {
   "cell_type": "markdown",
   "metadata": {
    "colab_type": "text",
    "id": "7hv7X3gu3Vbz"
   },
   "source": [
    "다운받은 pickle을 통해 train, validation, test set이 만들어졌다. 위 코드를 보면 test set 자리에는 언더바가 있는데, 이것은 그냥 내가 해당 set은 신경 안쓰겠다는 의미이다. 즉, 우리가 쓸건 앞의 두 set이다."
   ]
  },
  {
   "cell_type": "code",
   "execution_count": 7,
   "metadata": {
    "colab": {
     "base_uri": "https://localhost:8080/",
     "height": 34
    },
    "colab_type": "code",
    "id": "wRkg6bTHEGZY",
    "outputId": "fe61d57c-2536-43c1-e009-9562ca67886c"
   },
   "outputs": [
    {
     "data": {
      "text/plain": [
       "array([0., 0., 0., 0., ..., 0., 0., 0., 0.], dtype=float32)"
      ]
     },
     "execution_count": 7,
     "metadata": {
      "tags": []
     },
     "output_type": "execute_result"
    }
   ],
   "source": [
    "x_train[0]"
   ]
  },
  {
   "cell_type": "code",
   "execution_count": 8,
   "metadata": {
    "colab": {
     "base_uri": "https://localhost:8080/",
     "height": 34
    },
    "colab_type": "code",
    "id": "lZOQ1L0yGsaz",
    "outputId": "a9b69068-3665-4a5e-b2ef-35ed64630c2a"
   },
   "outputs": [
    {
     "data": {
      "text/plain": [
       "50000"
      ]
     },
     "execution_count": 8,
     "metadata": {
      "tags": []
     },
     "output_type": "execute_result"
    }
   ],
   "source": [
    "len(x_train)"
   ]
  },
  {
   "cell_type": "code",
   "execution_count": 9,
   "metadata": {
    "colab": {
     "base_uri": "https://localhost:8080/",
     "height": 34
    },
    "colab_type": "code",
    "id": "dGFMu6wDGrcH",
    "outputId": "6f091f66-35e4-4c48-9d3d-1b17ed5b89aa"
   },
   "outputs": [
    {
     "data": {
      "text/plain": [
       "784"
      ]
     },
     "execution_count": 9,
     "metadata": {
      "tags": []
     },
     "output_type": "execute_result"
    }
   ],
   "source": [
    "len(x_train[0])"
   ]
  },
  {
   "cell_type": "markdown",
   "metadata": {
    "colab_type": "text",
    "id": "XNwB_QWOEkDj"
   },
   "source": [
    "총 50000개 데이터가 있는 x_train에서 x_train의 첫번째가 어떻게 생겼는지 봤는데, 당연히 직관적으로는 의미를 모르고 그냥 784개의 float들만 나열되어있다. 과연 이것이 무엇을 의미하는지는 아래처럼 reshape하면서 알아낼 수 있다."
   ]
  },
  {
   "cell_type": "code",
   "execution_count": 10,
   "metadata": {
    "colab": {
     "base_uri": "https://localhost:8080/",
     "height": 34
    },
    "colab_type": "code",
    "id": "W5nHCfjWFKlX",
    "outputId": "000aae5e-ab90-4ca2-9639-94fd9bdb8968"
   },
   "outputs": [
    {
     "data": {
      "text/plain": [
       "5"
      ]
     },
     "execution_count": 10,
     "metadata": {
      "tags": []
     },
     "output_type": "execute_result"
    }
   ],
   "source": [
    "y_train[0]"
   ]
  },
  {
   "cell_type": "markdown",
   "metadata": {
    "colab_type": "text",
    "id": "uyB_XIoMFPvp"
   },
   "source": [
    "reshape하기 전에 그에 대응하는 y_train[0]이 무엇인지 살펴봤더니 아무래도 5를 뜻하는 듯 하다. 그러므로 아래에서 시험삼아 reshape한 것은 5처럼 보여야 한다."
   ]
  },
  {
   "cell_type": "code",
   "execution_count": 11,
   "metadata": {
    "colab": {
     "base_uri": "https://localhost:8080/",
     "height": 282
    },
    "colab_type": "code",
    "id": "AMZ8dV00VfvN",
    "outputId": "6d0d6b69-da98-447c-ac9c-2179d9bf3164"
   },
   "outputs": [
    {
     "data": {
      "text/plain": [
       "(50000, 784)"
      ]
     },
     "execution_count": 11,
     "metadata": {
      "tags": []
     },
     "output_type": "execute_result"
    },
    {
     "data": {
      "image/png": "[encoded data removed]",
      "text/plain": [
       "<Figure size 432x288 with 1 Axes>"
      ]
     },
     "metadata": {
      "needs_background": "light",
      "tags": []
     },
     "output_type": "display_data"
    }
   ],
   "source": [
    "plt.imshow(x_train[0].reshape((28,28)), cmap=\"gray\")\n",
    "x_train.shape"
   ]
  },
  {
   "cell_type": "markdown",
   "metadata": {
    "colab_type": "text",
    "id": "gfFJDNDi4YUe"
   },
   "source": [
    "실제로도 5가 나왔다.\n",
    "\n",
    "여기를 좀더 설명하자면, 우리의 set은 원래 50000행 784열 형태를 가지고 있다. 그리고 여기서 784란 사실 28x28 픽셀을 의미한다(그러니까 윗 셀의 결과로 나온 784개 수는 아마도 rgb의 평균을 의미하겠지? 그것을 흑백조로 지금 프린트 한 것이다). 그래서 x_train의 첫번째 것을 28x28의 이미지로 바꿔놓으면 위처럼 5의 형태를 띄는 모양이 만들어지는 것을 볼 수 있다. "
   ]
  },
  {
   "cell_type": "code",
   "execution_count": 12,
   "metadata": {
    "colab": {
     "base_uri": "https://localhost:8080/",
     "height": 34
    },
    "colab_type": "code",
    "id": "AkpBW3yVVfvP",
    "outputId": "2fb36c3b-f519-4089-8cbc-925704bddd23"
   },
   "outputs": [
    {
     "data": {
      "text/plain": [
       "(50000, 784, torch.Size([50000, 784]), tensor(0), tensor(9))"
      ]
     },
     "execution_count": 12,
     "metadata": {
      "tags": []
     },
     "output_type": "execute_result"
    }
   ],
   "source": [
    "x_train,y_train,x_valid,y_valid = map(torch.tensor, (x_train,y_train,x_valid,y_valid))\n",
    "n,c = x_train.shape\n",
    "n, c, x_train.shape, y_train.min(), y_train.max()"
   ]
  },
  {
   "cell_type": "markdown",
   "metadata": {
    "colab_type": "text",
    "id": "SH1T3NJ-9sp6"
   },
   "source": [
    "지금 데이터들은 numpy array이다. 이것들을 tensor로 변형해준다.\n",
    "\n",
    "x_train.shape의 값을 보았듯이, n은 총 개수고, c는 열이다. 그리고 마지막줄에서 당연히 숫자는 0~9이니 최소는 0, 최대는 9이다.\n",
    "\n",
    "아래에서 보여지듯 tensor로 변형되었다."
   ]
  },
  {
   "cell_type": "code",
   "execution_count": 13,
   "metadata": {
    "colab": {
     "base_uri": "https://localhost:8080/",
     "height": 1000
    },
    "colab_type": "code",
    "id": "UdLpEHZEHO9y",
    "outputId": "9088ca35-4358-45e7-9827-88b1e5fcf080"
   },
   "outputs": [
    {
     "data": {
      "text/plain": [
       "tensor([0.0000, 0.0000, 0.0000, 0.0000, 0.0000, 0.0000, 0.0000, 0.0000, 0.0000,\n",
       "        0.0000, 0.0000, 0.0000, 0.0000, 0.0000, 0.0000, 0.0000, 0.0000, 0.0000,\n",
       "        0.0000, 0.0000, 0.0000, 0.0000, 0.0000, 0.0000, 0.0000, 0.0000, 0.0000,\n",
       "        0.0000, 0.0000, 0.0000, 0.0000, 0.0000, 0.0000, 0.0000, 0.0000, 0.0000,\n",
       "        0.0000, 0.0000, 0.0000, 0.0000, 0.0000, 0.0000, 0.0000, 0.0000, 0.0000,\n",
       "        0.0000, 0.0000, 0.0000, 0.0000, 0.0000, 0.0000, 0.0000, 0.0000, 0.0000,\n",
       "        0.0000, 0.0000, 0.0000, 0.0000, 0.0000, 0.0000, 0.0000, 0.0000, 0.0000,\n",
       "        0.0000, 0.0000, 0.0000, 0.0000, 0.0000, 0.0000, 0.0000, 0.0000, 0.0000,\n",
       "        0.0000, 0.0000, 0.0000, 0.0000, 0.0000, 0.0000, 0.0000, 0.0000, 0.0000,\n",
       "        0.0000, 0.0000, 0.0000, 0.0000, 0.0000, 0.0000, 0.0000, 0.0000, 0.0000,\n",
       "        0.0000, 0.0000, 0.0000, 0.0000, 0.0000, 0.0000, 0.0000, 0.0000, 0.0000,\n",
       "        0.0000, 0.0000, 0.0000, 0.0000, 0.0000, 0.0000, 0.0000, 0.0000, 0.0000,\n",
       "        0.0000, 0.0000, 0.0000, 0.0000, 0.0000, 0.0000, 0.0000, 0.0000, 0.0000,\n",
       "        0.0000, 0.0000, 0.0000, 0.0000, 0.0000, 0.0000, 0.0000, 0.0000, 0.0000,\n",
       "        0.0000, 0.0000, 0.0000, 0.0000, 0.0000, 0.0000, 0.0000, 0.0000, 0.0000,\n",
       "        0.0000, 0.0000, 0.0000, 0.0000, 0.0000, 0.0000, 0.0000, 0.0000, 0.0000,\n",
       "        0.0000, 0.0000, 0.0000, 0.0000, 0.0000, 0.0000, 0.0000, 0.0000, 0.0117,\n",
       "        0.0703, 0.0703, 0.0703, 0.4922, 0.5312, 0.6836, 0.1016, 0.6484, 0.9961,\n",
       "        0.9648, 0.4961, 0.0000, 0.0000, 0.0000, 0.0000, 0.0000, 0.0000, 0.0000,\n",
       "        0.0000, 0.0000, 0.0000, 0.0000, 0.0000, 0.1172, 0.1406, 0.3672, 0.6016,\n",
       "        0.6641, 0.9883, 0.9883, 0.9883, 0.9883, 0.9883, 0.8789, 0.6719, 0.9883,\n",
       "        0.9453, 0.7617, 0.2500, 0.0000, 0.0000, 0.0000, 0.0000, 0.0000, 0.0000,\n",
       "        0.0000, 0.0000, 0.0000, 0.0000, 0.0000, 0.1914, 0.9297, 0.9883, 0.9883,\n",
       "        0.9883, 0.9883, 0.9883, 0.9883, 0.9883, 0.9883, 0.9805, 0.3633, 0.3203,\n",
       "        0.3203, 0.2188, 0.1523, 0.0000, 0.0000, 0.0000, 0.0000, 0.0000, 0.0000,\n",
       "        0.0000, 0.0000, 0.0000, 0.0000, 0.0000, 0.0000, 0.0703, 0.8555, 0.9883,\n",
       "        0.9883, 0.9883, 0.9883, 0.9883, 0.7734, 0.7109, 0.9648, 0.9414, 0.0000,\n",
       "        0.0000, 0.0000, 0.0000, 0.0000, 0.0000, 0.0000, 0.0000, 0.0000, 0.0000,\n",
       "        0.0000, 0.0000, 0.0000, 0.0000, 0.0000, 0.0000, 0.0000, 0.0000, 0.3125,\n",
       "        0.6094, 0.4180, 0.9883, 0.9883, 0.8008, 0.0430, 0.0000, 0.1680, 0.6016,\n",
       "        0.0000, 0.0000, 0.0000, 0.0000, 0.0000, 0.0000, 0.0000, 0.0000, 0.0000,\n",
       "        0.0000, 0.0000, 0.0000, 0.0000, 0.0000, 0.0000, 0.0000, 0.0000, 0.0000,\n",
       "        0.0000, 0.0547, 0.0039, 0.6016, 0.9883, 0.3516, 0.0000, 0.0000, 0.0000,\n",
       "        0.0000, 0.0000, 0.0000, 0.0000, 0.0000, 0.0000, 0.0000, 0.0000, 0.0000,\n",
       "        0.0000, 0.0000, 0.0000, 0.0000, 0.0000, 0.0000, 0.0000, 0.0000, 0.0000,\n",
       "        0.0000, 0.0000, 0.0000, 0.0000, 0.5430, 0.9883, 0.7422, 0.0078, 0.0000,\n",
       "        0.0000, 0.0000, 0.0000, 0.0000, 0.0000, 0.0000, 0.0000, 0.0000, 0.0000,\n",
       "        0.0000, 0.0000, 0.0000, 0.0000, 0.0000, 0.0000, 0.0000, 0.0000, 0.0000,\n",
       "        0.0000, 0.0000, 0.0000, 0.0000, 0.0000, 0.0430, 0.7422, 0.9883, 0.2734,\n",
       "        0.0000, 0.0000, 0.0000, 0.0000, 0.0000, 0.0000, 0.0000, 0.0000, 0.0000,\n",
       "        0.0000, 0.0000, 0.0000, 0.0000, 0.0000, 0.0000, 0.0000, 0.0000, 0.0000,\n",
       "        0.0000, 0.0000, 0.0000, 0.0000, 0.0000, 0.0000, 0.0000, 0.1367, 0.9414,\n",
       "        0.8789, 0.6250, 0.4219, 0.0039, 0.0000, 0.0000, 0.0000, 0.0000, 0.0000,\n",
       "        0.0000, 0.0000, 0.0000, 0.0000, 0.0000, 0.0000, 0.0000, 0.0000, 0.0000,\n",
       "        0.0000, 0.0000, 0.0000, 0.0000, 0.0000, 0.0000, 0.0000, 0.0000, 0.0000,\n",
       "        0.3164, 0.9375, 0.9883, 0.9883, 0.4648, 0.0977, 0.0000, 0.0000, 0.0000,\n",
       "        0.0000, 0.0000, 0.0000, 0.0000, 0.0000, 0.0000, 0.0000, 0.0000, 0.0000,\n",
       "        0.0000, 0.0000, 0.0000, 0.0000, 0.0000, 0.0000, 0.0000, 0.0000, 0.0000,\n",
       "        0.0000, 0.0000, 0.1758, 0.7266, 0.9883, 0.9883, 0.5859, 0.1055, 0.0000,\n",
       "        0.0000, 0.0000, 0.0000, 0.0000, 0.0000, 0.0000, 0.0000, 0.0000, 0.0000,\n",
       "        0.0000, 0.0000, 0.0000, 0.0000, 0.0000, 0.0000, 0.0000, 0.0000, 0.0000,\n",
       "        0.0000, 0.0000, 0.0000, 0.0000, 0.0625, 0.3633, 0.9844, 0.9883, 0.7305,\n",
       "        0.0000, 0.0000, 0.0000, 0.0000, 0.0000, 0.0000, 0.0000, 0.0000, 0.0000,\n",
       "        0.0000, 0.0000, 0.0000, 0.0000, 0.0000, 0.0000, 0.0000, 0.0000, 0.0000,\n",
       "        0.0000, 0.0000, 0.0000, 0.0000, 0.0000, 0.0000, 0.0000, 0.9727, 0.9883,\n",
       "        0.9727, 0.2500, 0.0000, 0.0000, 0.0000, 0.0000, 0.0000, 0.0000, 0.0000,\n",
       "        0.0000, 0.0000, 0.0000, 0.0000, 0.0000, 0.0000, 0.0000, 0.0000, 0.0000,\n",
       "        0.0000, 0.0000, 0.0000, 0.0000, 0.0000, 0.1797, 0.5078, 0.7148, 0.9883,\n",
       "        0.9883, 0.8086, 0.0078, 0.0000, 0.0000, 0.0000, 0.0000, 0.0000, 0.0000,\n",
       "        0.0000, 0.0000, 0.0000, 0.0000, 0.0000, 0.0000, 0.0000, 0.0000, 0.0000,\n",
       "        0.0000, 0.0000, 0.0000, 0.0000, 0.1523, 0.5781, 0.8945, 0.9883, 0.9883,\n",
       "        0.9883, 0.9766, 0.7109, 0.0000, 0.0000, 0.0000, 0.0000, 0.0000, 0.0000,\n",
       "        0.0000, 0.0000, 0.0000, 0.0000, 0.0000, 0.0000, 0.0000, 0.0000, 0.0000,\n",
       "        0.0000, 0.0000, 0.0000, 0.0938, 0.4453, 0.8633, 0.9883, 0.9883, 0.9883,\n",
       "        0.9883, 0.7852, 0.3047, 0.0000, 0.0000, 0.0000, 0.0000, 0.0000, 0.0000,\n",
       "        0.0000, 0.0000, 0.0000, 0.0000, 0.0000, 0.0000, 0.0000, 0.0000, 0.0000,\n",
       "        0.0000, 0.0000, 0.0898, 0.2578, 0.8320, 0.9883, 0.9883, 0.9883, 0.9883,\n",
       "        0.7734, 0.3164, 0.0078, 0.0000, 0.0000, 0.0000, 0.0000, 0.0000, 0.0000,\n",
       "        0.0000, 0.0000, 0.0000, 0.0000, 0.0000, 0.0000, 0.0000, 0.0000, 0.0000,\n",
       "        0.0000, 0.0703, 0.6680, 0.8555, 0.9883, 0.9883, 0.9883, 0.9883, 0.7617,\n",
       "        0.3125, 0.0352, 0.0000, 0.0000, 0.0000, 0.0000, 0.0000, 0.0000, 0.0000,\n",
       "        0.0000, 0.0000, 0.0000, 0.0000, 0.0000, 0.0000, 0.0000, 0.0000, 0.0000,\n",
       "        0.2148, 0.6719, 0.8828, 0.9883, 0.9883, 0.9883, 0.9883, 0.9531, 0.5195,\n",
       "        0.0430, 0.0000, 0.0000, 0.0000, 0.0000, 0.0000, 0.0000, 0.0000, 0.0000,\n",
       "        0.0000, 0.0000, 0.0000, 0.0000, 0.0000, 0.0000, 0.0000, 0.0000, 0.0000,\n",
       "        0.0000, 0.5312, 0.9883, 0.9883, 0.9883, 0.8281, 0.5273, 0.5156, 0.0625,\n",
       "        0.0000, 0.0000, 0.0000, 0.0000, 0.0000, 0.0000, 0.0000, 0.0000, 0.0000,\n",
       "        0.0000, 0.0000, 0.0000, 0.0000, 0.0000, 0.0000, 0.0000, 0.0000, 0.0000,\n",
       "        0.0000, 0.0000, 0.0000, 0.0000, 0.0000, 0.0000, 0.0000, 0.0000, 0.0000,\n",
       "        0.0000, 0.0000, 0.0000, 0.0000, 0.0000, 0.0000, 0.0000, 0.0000, 0.0000,\n",
       "        0.0000, 0.0000, 0.0000, 0.0000, 0.0000, 0.0000, 0.0000, 0.0000, 0.0000,\n",
       "        0.0000, 0.0000, 0.0000, 0.0000, 0.0000, 0.0000, 0.0000, 0.0000, 0.0000,\n",
       "        0.0000, 0.0000, 0.0000, 0.0000, 0.0000, 0.0000, 0.0000, 0.0000, 0.0000,\n",
       "        0.0000, 0.0000, 0.0000, 0.0000, 0.0000, 0.0000, 0.0000, 0.0000, 0.0000,\n",
       "        0.0000, 0.0000, 0.0000, 0.0000, 0.0000, 0.0000, 0.0000, 0.0000, 0.0000,\n",
       "        0.0000, 0.0000, 0.0000, 0.0000, 0.0000, 0.0000, 0.0000, 0.0000, 0.0000,\n",
       "        0.0000, 0.0000, 0.0000, 0.0000, 0.0000, 0.0000, 0.0000, 0.0000, 0.0000,\n",
       "        0.0000])"
      ]
     },
     "execution_count": 13,
     "metadata": {
      "tags": []
     },
     "output_type": "execute_result"
    }
   ],
   "source": [
    "x_train[0]"
   ]
  },
  {
   "cell_type": "code",
   "execution_count": 14,
   "metadata": {
    "colab": {
     "base_uri": "https://localhost:8080/",
     "height": 34
    },
    "colab_type": "code",
    "id": "FPtAMJBvHbw9",
    "outputId": "8858eccf-a146-49df-d3d7-154339634621"
   },
   "outputs": [
    {
     "data": {
      "text/plain": [
       "tensor(5)"
      ]
     },
     "execution_count": 14,
     "metadata": {
      "tags": []
     },
     "output_type": "execute_result"
    }
   ],
   "source": [
    "y_train[0]"
   ]
  },
  {
   "cell_type": "markdown",
   "metadata": {
    "colab_type": "text",
    "id": "PEwS3_J9VfvS"
   },
   "source": [
    "In lesson2-sgd we did these things ourselves:\n",
    "\n",
    "```python\n",
    "x = torch.ones(n,2) \n",
    "def mse(y_hat, y): return ((y_hat-y)**2).mean()\n",
    "y_hat = x@a\n",
    "```\n",
    "\n",
    "Now instead we'll use PyTorch's functions to do it for us, and also to handle mini-batches (which we didn't do last time, since our dataset was so small)."
   ]
  },
  {
   "cell_type": "code",
   "execution_count": null,
   "metadata": {
    "colab": {},
    "colab_type": "code",
    "id": "f6r-0QfBVfvT"
   },
   "outputs": [],
   "source": [
    "bs=64\n",
    "train_ds = TensorDataset(x_train, y_train)\n",
    "valid_ds = TensorDataset(x_valid, y_valid)\n",
    "data = DataBunch.create(train_ds, valid_ds, bs=bs)"
   ]
  },
  {
   "cell_type": "markdown",
   "metadata": {
    "colab_type": "text",
    "id": "NLTnNXjaA54B"
   },
   "source": [
    "bias로 인한 극단성을 막기 위해 1의 colulmn을 넣어주는 과정이 필요한데 과거에 우리는 이걸 위의 코멘트에 보이는 것처럼 직접 넣어줬다. 그런데 이걸 PyTorch의 TensorDataset이 알아서 하게 해줄 수 있다. DataBunch.create를 통해 Batchsize 64로 다음 데이터들을 불러오게 하는 일종의 data loader를 만들었다."
   ]
  },
  {
   "cell_type": "code",
   "execution_count": 16,
   "metadata": {
    "colab": {
     "base_uri": "https://localhost:8080/",
     "height": 34
    },
    "colab_type": "code",
    "id": "hJv_BZFTVfvW",
    "outputId": "fa7c538d-7d18-4b3a-f0d3-5884131f60ee"
   },
   "outputs": [
    {
     "data": {
      "text/plain": [
       "(torch.Size([64, 784]), torch.Size([64]))"
      ]
     },
     "execution_count": 16,
     "metadata": {
      "tags": []
     },
     "output_type": "execute_result"
    }
   ],
   "source": [
    "x,y = next(iter(data.train_dl))\n",
    "x.shape,y.shape"
   ]
  },
  {
   "cell_type": "markdown",
   "metadata": {
    "colab_type": "text",
    "id": "ePSDFJ4-IFzS"
   },
   "source": [
    "data를 확인해보니 64(bs)x784(pixel)로 잘 load되는 것을 알 수 있다."
   ]
  },
  {
   "cell_type": "code",
   "execution_count": null,
   "metadata": {
    "colab": {},
    "colab_type": "code",
    "id": "3lgSgG9vVfvZ"
   },
   "outputs": [],
   "source": [
    "class Mnist_Logistic(nn.Module):\n",
    "    def __init__(self):\n",
    "        super().__init__()\n",
    "        self.lin = nn.Linear(784, 10, bias=True)\n",
    "\n",
    "    def forward(self, xb): return self.lin(xb)"
   ]
  },
  {
   "cell_type": "markdown",
   "metadata": {
    "colab_type": "text",
    "id": "UZXJVDyWJeCI"
   },
   "source": [
    "이제 nn.Module의 상속 클래스 Mnist_Logistic을 만든다. 반드시 생성자를 재정의해줘야 한다. 일단 이 클래스로 현재 batch에 대한 ax+b를 반환한다고 이해하면 된다."
   ]
  },
  {
   "cell_type": "code",
   "execution_count": null,
   "metadata": {
    "colab": {},
    "colab_type": "code",
    "id": "KTFtbWz0Vfvc"
   },
   "outputs": [],
   "source": [
    "model = Mnist_Logistic().cuda()"
   ]
  },
  {
   "cell_type": "markdown",
   "metadata": {
    "colab_type": "text",
    "id": "cIIzB97ELzf3"
   },
   "source": [
    "GPU에 weight matric을 수동으로 주기 위해 .cuda()를 추가한다."
   ]
  },
  {
   "cell_type": "code",
   "execution_count": 19,
   "metadata": {
    "colab": {
     "base_uri": "https://localhost:8080/",
     "height": 68
    },
    "colab_type": "code",
    "id": "7wsLidVTVfvf",
    "outputId": "babe6498-ada8-44a5-b933-c1746c2f1929"
   },
   "outputs": [
    {
     "data": {
      "text/plain": [
       "Mnist_Logistic(\n",
       "  (lin): Linear(in_features=784, out_features=10, bias=True)\n",
       ")"
      ]
     },
     "execution_count": 19,
     "metadata": {
      "tags": []
     },
     "output_type": "execute_result"
    }
   ],
   "source": [
    "model"
   ]
  },
  {
   "cell_type": "code",
   "execution_count": 20,
   "metadata": {
    "colab": {
     "base_uri": "https://localhost:8080/",
     "height": 34
    },
    "colab_type": "code",
    "id": "GJkw65w3Vfvi",
    "outputId": "efb5e8b1-fc3f-48ce-f711-bb92a1f7d591"
   },
   "outputs": [
    {
     "data": {
      "text/plain": [
       "Linear(in_features=784, out_features=10, bias=True)"
      ]
     },
     "execution_count": 20,
     "metadata": {
      "tags": []
     },
     "output_type": "execute_result"
    }
   ],
   "source": [
    "model.lin"
   ]
  },
  {
   "cell_type": "code",
   "execution_count": 21,
   "metadata": {
    "colab": {
     "base_uri": "https://localhost:8080/",
     "height": 34
    },
    "colab_type": "code",
    "id": "ffRR9RCDVfvm",
    "outputId": "fa8912f6-53d5-423f-9b37-60ef6f40b8aa"
   },
   "outputs": [
    {
     "data": {
      "text/plain": [
       "torch.Size([64, 10])"
      ]
     },
     "execution_count": 21,
     "metadata": {
      "tags": []
     },
     "output_type": "execute_result"
    }
   ],
   "source": [
    "model(x).shape"
   ]
  },
  {
   "cell_type": "code",
   "execution_count": 22,
   "metadata": {
    "colab": {
     "base_uri": "https://localhost:8080/",
     "height": 34
    },
    "colab_type": "code",
    "id": "v5KBV-VXVfvo",
    "outputId": "a9ef5563-a8f6-42b3-ea57-d6710d8fa24c"
   },
   "outputs": [
    {
     "data": {
      "text/plain": [
       "[torch.Size([10, 784]), torch.Size([10])]"
      ]
     },
     "execution_count": 22,
     "metadata": {
      "tags": []
     },
     "output_type": "execute_result"
    }
   ],
   "source": [
    "[p.shape for p in model.parameters()]"
   ]
  },
  {
   "cell_type": "markdown",
   "metadata": {
    "colab_type": "text",
    "id": "0u2jCgSkNSQ3"
   },
   "source": [
    "여기까지 model이 잘 만들어졌는지 확인했고, 정상적으로 model.lin이 만들어진 것을 알 수 있다."
   ]
  },
  {
   "cell_type": "code",
   "execution_count": null,
   "metadata": {
    "colab": {},
    "colab_type": "code",
    "id": "7L_fy6kwVfvq"
   },
   "outputs": [],
   "source": [
    "lr=2e-2"
   ]
  },
  {
   "cell_type": "code",
   "execution_count": null,
   "metadata": {
    "colab": {},
    "colab_type": "code",
    "id": "kTHiC5qyVfvr"
   },
   "outputs": [],
   "source": [
    "loss_func = nn.CrossEntropyLoss()"
   ]
  },
  {
   "cell_type": "markdown",
   "metadata": {
    "colab_type": "text",
    "id": "IFEQ0iufOGe9"
   },
   "source": [
    "loss_func은 CrossEntropyLoss로 해준다. MSE를 안쓰는 이유는 4를 3으로 예측했다고 \"거의 가깝게 예측했다!\" 이런게 아니기 때문이다."
   ]
  },
  {
   "cell_type": "code",
   "execution_count": null,
   "metadata": {
    "colab": {},
    "colab_type": "code",
    "id": "YvcxcFZKVfvt"
   },
   "outputs": [],
   "source": [
    "def update(x,y,lr):\n",
    "    wd = 1e-5\n",
    "    y_hat = model(x)\n",
    "    # weight decay\n",
    "    w2 = 0.\n",
    "    for p in model.parameters(): w2 += (p**2).sum()\n",
    "    # add to regular loss\n",
    "    loss = loss_func(y_hat, y) + w2*wd\n",
    "    loss.backward()\n",
    "    with torch.no_grad():\n",
    "        for p in model.parameters():\n",
    "            p.sub_(lr * p.grad)\n",
    "            p.grad.zero_()\n",
    "    return loss.item()"
   ]
  },
  {
   "cell_type": "markdown",
   "metadata": {
    "colab_type": "text",
    "id": "Pqp-wprkPdxp"
   },
   "source": [
    "이부분은 lessong 2 SGD랑 비슷한데, 차이점은 더이상 a@x가 아니라 model을 부른다는 것이다. "
   ]
  },
  {
   "cell_type": "code",
   "execution_count": null,
   "metadata": {
    "colab": {},
    "colab_type": "code",
    "id": "cennvR7XVfvv"
   },
   "outputs": [],
   "source": [
    "losses = [update(x,y,lr) for x,y in data.train_dl]"
   ]
  },
  {
   "cell_type": "markdown",
   "metadata": {
    "colab_type": "text",
    "id": "HQkh2vZhPwIu"
   },
   "source": [
    "정의한 update 함수를 learning rate 2e-2로 적용시켜서 그 결과들을 losses에 저장했고, 아래에 losses를 그래프로 보여주면서 loss가 갈 수록 어떻게 변했는지 보여줬다."
   ]
  },
  {
   "cell_type": "code",
   "execution_count": 27,
   "metadata": {
    "colab": {
     "base_uri": "https://localhost:8080/",
     "height": 265
    },
    "colab_type": "code",
    "id": "6QqY6TwFVfvx",
    "outputId": "78eb375d-05a2-41ee-a3c3-d6618e9d152e"
   },
   "outputs": [
    {
     "data": {
      "image/png": "[encoded data removed]",
      "text/plain": [
       "<Figure size 432x288 with 1 Axes>"
      ]
     },
     "metadata": {
      "needs_background": "light",
      "tags": []
     },
     "output_type": "display_data"
    }
   ],
   "source": [
    "plt.plot(losses);"
   ]
  },
  {
   "cell_type": "markdown",
   "metadata": {
    "colab_type": "text",
    "id": "KZZ9nIBVOiBm"
   },
   "source": [
    "loss가 점점 내려가는 것을 볼 수 있다. "
   ]
  },
  {
   "cell_type": "code",
   "execution_count": null,
   "metadata": {
    "colab": {},
    "colab_type": "code",
    "id": "ToVedNSiVfvy"
   },
   "outputs": [],
   "source": [
    "class Mnist_NN(nn.Module):\n",
    "    def __init__(self):\n",
    "        super().__init__()\n",
    "        self.lin1 = nn.Linear(784, 50, bias=True)\n",
    "        self.lin2 = nn.Linear(50, 10, bias=True)\n",
    "\n",
    "    def forward(self, xb):\n",
    "        x = self.lin1(xb)\n",
    "        x = F.relu(x)\n",
    "        return self.lin2(x)"
   ]
  },
  {
   "cell_type": "markdown",
   "metadata": {
    "colab_type": "text",
    "id": "VqKqXcxWQmZy"
   },
   "source": [
    "Mnist_NN 클래스를 만들어줬다. 이번에는 linear layer가 두 개이다. 첫번째것의 크기 50의 weight matrix에다가 ReLU를 계산해주고, 그것을 두번째 레이어의 input으로 넣어주는 일을 한다."
   ]
  },
  {
   "cell_type": "markdown",
   "metadata": {
    "colab_type": "text",
    "id": "mfHKeipxU2nZ"
   },
   "source": [
    "ReLU에 대한 설명\n",
    "\n",
    "딥러닝에서는 노드에 들어오는 값들에 대해 곧바로 다음 레이어로 전달하지 않고 주로 비선형 함수를 통과시킨 후 전달하는데, 이때 사용하는 함수를 Activation Function이라 부른다. ReLU는 그 중에 하나로 이런 개형을 보인다.\n",
    "![image.png](data:image/png;base64,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)\n",
    "\n",
    "\n",
    "\n",
    "즉, x>0 이면 기울기가 1인 직선이고, x<0이면 함수값이 0이된다.\n",
    "\n",
    "그래서 ReLU에는 다음과 같은 특징이 있다.\n",
    "1. sigmoid, tanh 함수와 비교시 학습이 훨씬 빨라진다.\n",
    "\n",
    "2. 연산 비용이 크지않고, 구현이 매우 간단하다.\n",
    "3. x<0인 값들에 대해서는 기울기가 0이기 때문에 뉴런이 죽을 수 있는 단점이 존재한다."
   ]
  },
  {
   "cell_type": "markdown",
   "metadata": {
    "colab_type": "text",
    "id": "dXAqc6_zVMJa"
   },
   "source": [
    "ps)깉헙에서 코멘트에 넣는 이미지가 깨지던데, 그래프 개형은 _/ 이렇게 생겼다. 꺾이는 부분이 x=0인 지점이다."
   ]
  },
  {
   "cell_type": "code",
   "execution_count": null,
   "metadata": {
    "colab": {},
    "colab_type": "code",
    "id": "H9bTgoWYVfv0"
   },
   "outputs": [],
   "source": [
    "model = Mnist_NN().cuda()"
   ]
  },
  {
   "cell_type": "code",
   "execution_count": null,
   "metadata": {
    "colab": {},
    "colab_type": "code",
    "id": "ldEicyynVfv4"
   },
   "outputs": [],
   "source": [
    "losses = [update(x,y,lr) for x,y in data.train_dl]"
   ]
  },
  {
   "cell_type": "code",
   "execution_count": 31,
   "metadata": {
    "colab": {
     "base_uri": "https://localhost:8080/",
     "height": 265
    },
    "colab_type": "code",
    "id": "A6OB6v3hVfv5",
    "outputId": "fb6a4c42-58a2-455f-c4b8-ef2b271db371"
   },
   "outputs": [
    {
     "data": {
      "image/png": "[encoded data removed]",
      "text/plain": [
       "<Figure size 432x288 with 1 Axes>"
      ]
     },
     "metadata": {
      "needs_background": "light",
      "tags": []
     },
     "output_type": "display_data"
    }
   ],
   "source": [
    "plt.plot(losses);"
   ]
  },
  {
   "cell_type": "markdown",
   "metadata": {
    "colab_type": "text",
    "id": "YACGwgV4VsXU"
   },
   "source": [
    "여기까지 위와 똑같은 일을 반복해주면, 이번에도 마찬가지로 점점 줄어드는 loss를 볼 수 있다."
   ]
  },
  {
   "cell_type": "code",
   "execution_count": null,
   "metadata": {
    "colab": {},
    "colab_type": "code",
    "id": "DkzWkra-Vfv7"
   },
   "outputs": [],
   "source": [
    "model = Mnist_NN().cuda()"
   ]
  },
  {
   "cell_type": "code",
   "execution_count": null,
   "metadata": {
    "colab": {},
    "colab_type": "code",
    "id": "JikJKy_dVfv9"
   },
   "outputs": [],
   "source": [
    "def update(x,y,lr):\n",
    "    opt = optim.Adam(model.parameters(), lr)\n",
    "    y_hat = model(x)\n",
    "    loss = loss_func(y_hat, y)\n",
    "    loss.backward()\n",
    "    opt.step()\n",
    "    opt.zero_grad()\n",
    "    return loss.item()"
   ]
  },
  {
   "cell_type": "code",
   "execution_count": null,
   "metadata": {
    "colab": {},
    "colab_type": "code",
    "id": "7d2vb5qbVfwA"
   },
   "outputs": [],
   "source": [
    "losses = [update(x,y,1e-3) for x,y in data.train_dl]"
   ]
  },
  {
   "cell_type": "code",
   "execution_count": 35,
   "metadata": {
    "colab": {
     "base_uri": "https://localhost:8080/",
     "height": 265
    },
    "colab_type": "code",
    "id": "Rxk1ddE-VfwB",
    "outputId": "8940659c-8cd4-4437-e0cc-45d174a16b8e"
   },
   "outputs": [
    {
     "data": {
      "image/png": "[encoded data removed]",
      "text/plain": [
       "<Figure size 432x288 with 1 Axes>"
      ]
     },
     "metadata": {
      "needs_background": "light",
      "tags": []
     },
     "output_type": "display_data"
    }
   ],
   "source": [
    "plt.plot(losses);"
   ]
  },
  {
   "cell_type": "markdown",
   "metadata": {
    "colab_type": "text",
    "id": "J4-uOlOGYXV9"
   },
   "source": [
    "Adam은 learning rate를 가지고 있는데, 우리는 이것을 디폴트로 사용해왔다. 그런데, adam의 loss는 지금까지 우리가 봐온 그래프랑 조금 다르게 요동치는 모습을 보인다. 그 이유는 지금까지는 fastai가 평균값을 계산해줘왔기 때문에 깨끗한 그래프로 그려진 것이다."
   ]
  },
  {
   "cell_type": "code",
   "execution_count": null,
   "metadata": {
    "colab": {},
    "colab_type": "code",
    "id": "yIcZZYwrVfwD"
   },
   "outputs": [],
   "source": [
    "learn = Learner(data, Mnist_NN(), loss_func=loss_func, metrics=accuracy)"
   ]
  },
  {
   "cell_type": "code",
   "execution_count": 37,
   "metadata": {
    "colab": {
     "base_uri": "https://localhost:8080/",
     "height": 34
    },
    "colab_type": "code",
    "id": "HJ4lag-zVfwF",
    "outputId": "470b0ade-0321-466d-a040-ee7ac3e30256"
   },
   "outputs": [
    {
     "name": "stderr",
     "output_type": "stream",
     "text": [
      "ERROR:root:No traceback has been produced, nothing to debug.\n"
     ]
    }
   ],
   "source": [
    "%debug"
   ]
  },
  {
   "cell_type": "code",
   "execution_count": 38,
   "metadata": {
    "colab": {
     "base_uri": "https://localhost:8080/",
     "height": 374
    },
    "colab_type": "code",
    "id": "L5jLOKGEVfwJ",
    "outputId": "36173e64-2b5c-435b-e863-aafed40bd1ce"
   },
   "outputs": [
    {
     "data": {
      "text/html": [
       "\n",
       "    <div>\n",
       "        <style>\n",
       "            /* Turns off some styling */\n",
       "            progress {\n",
       "                /* gets rid of default border in Firefox and Opera. */\n",
       "                border: none;\n",
       "                /* Needs to be in here for Safari polyfill so background images work as expected. */\n",
       "                background-size: auto;\n",
       "            }\n",
       "            .progress-bar-interrupted, .progress-bar-interrupted::-webkit-progress-bar {\n",
       "                background: #F44336;\n",
       "            }\n",
       "        </style>\n",
       "      <progress value='0' class='' max='1' style='width:300px; height:20px; vertical-align: middle;'></progress>\n",
       "      0.00% [0/1 00:00<00:00]\n",
       "    </div>\n",
       "    \n",
       "<table border=\"1\" class=\"dataframe\">\n",
       "  <thead>\n",
       "    <tr style=\"text-align: left;\">\n",
       "      <th>epoch</th>\n",
       "      <th>train_loss</th>\n",
       "      <th>valid_loss</th>\n",
       "      <th>accuracy</th>\n",
       "      <th>time</th>\n",
       "    </tr>\n",
       "  </thead>\n",
       "  <tbody>\n",
       "  </tbody>\n",
       "</table><p>\n",
       "\n",
       "    <div>\n",
       "        <style>\n",
       "            /* Turns off some styling */\n",
       "            progress {\n",
       "                /* gets rid of default border in Firefox and Opera. */\n",
       "                border: none;\n",
       "                /* Needs to be in here for Safari polyfill so background images work as expected. */\n",
       "                background-size: auto;\n",
       "            }\n",
       "            .progress-bar-interrupted, .progress-bar-interrupted::-webkit-progress-bar {\n",
       "                background: #F44336;\n",
       "            }\n",
       "        </style>\n",
       "      <progress value='99' class='' max='781' style='width:300px; height:20px; vertical-align: middle;'></progress>\n",
       "      12.68% [99/781 00:00<00:03 3.7162]\n",
       "    </div>\n",
       "    "
      ],
      "text/plain": [
       "<IPython.core.display.HTML object>"
      ]
     },
     "metadata": {
      "tags": []
     },
     "output_type": "display_data"
    },
    {
     "name": "stdout",
     "output_type": "stream",
     "text": [
      "LR Finder is complete, type {learner_name}.recorder.plot() to see the graph.\n"
     ]
    },
    {
     "data": {
      "image/png": "[encoded data removed]",
      "text/plain": [
       "<Figure size 432x288 with 1 Axes>"
      ]
     },
     "metadata": {
      "needs_background": "light",
      "tags": []
     },
     "output_type": "display_data"
    }
   ],
   "source": [
    "learn.lr_find()\n",
    "learn.recorder.plot()"
   ]
  },
  {
   "cell_type": "markdown",
   "metadata": {
    "colab_type": "text",
    "id": "LQj8mnhnXJaL"
   },
   "source": [
    "learning rate에 따른 loss를 보여준다."
   ]
  },
  {
   "cell_type": "code",
   "execution_count": 39,
   "metadata": {
    "colab": {
     "base_uri": "https://localhost:8080/",
     "height": 80
    },
    "colab_type": "code",
    "id": "qirRSD3rVfwL",
    "outputId": "a11e4db4-8843-478c-81f1-15369234a680"
   },
   "outputs": [
    {
     "data": {
      "text/html": [
       "<table border=\"1\" class=\"dataframe\">\n",
       "  <thead>\n",
       "    <tr style=\"text-align: left;\">\n",
       "      <th>epoch</th>\n",
       "      <th>train_loss</th>\n",
       "      <th>valid_loss</th>\n",
       "      <th>accuracy</th>\n",
       "      <th>time</th>\n",
       "    </tr>\n",
       "  </thead>\n",
       "  <tbody>\n",
       "    <tr>\n",
       "      <td>0</td>\n",
       "      <td>0.141858</td>\n",
       "      <td>0.133283</td>\n",
       "      <td>0.961900</td>\n",
       "      <td>00:03</td>\n",
       "    </tr>\n",
       "  </tbody>\n",
       "</table>"
      ],
      "text/plain": [
       "<IPython.core.display.HTML object>"
      ]
     },
     "metadata": {
      "tags": []
     },
     "output_type": "display_data"
    }
   ],
   "source": [
    "learn.fit_one_cycle(1, 1e-2)"
   ]
  },
  {
   "cell_type": "code",
   "execution_count": 40,
   "metadata": {
    "colab": {
     "base_uri": "https://localhost:8080/",
     "height": 279
    },
    "colab_type": "code",
    "id": "lfNy7qP5VfwN",
    "outputId": "577527e7-b3ba-44af-9b1d-2ae1bdab4e00"
   },
   "outputs": [
    {
     "data": {
      "image/png": "[encoded data removed]",
      "text/plain": [
       "<Figure size 864x288 with 2 Axes>"
      ]
     },
     "metadata": {
      "needs_background": "light",
      "tags": []
     },
     "output_type": "display_data"
    }
   ],
   "source": [
    "learn.recorder.plot_lr(show_moms=True)"
   ]
  },
  {
   "cell_type": "markdown",
   "metadata": {
    "colab_type": "text",
    "id": "X29e59v8ZMsw"
   },
   "source": [
    "위 코드 실행 결과에서 알 수 있듯이 Learning Rate와 Momentum이 반비례하는 모습을 볼 수 있다. \n",
    "\n",
    "**Q. 강의자분이 왜 이런 일이 일어나는지 설명해주시긴 했는데 영어가 짧아서 이해가 안간다...\n",
    "(Every time our learning rate is small, our momentum is high. Why is that? Because I do have a learning small learning rate, but you keep going in the same direction, you may as well go faster. But if you're jumping really far, don't like jump really far because it's going to throw you off. Then as you get to the end again, you're fine tuning in but actually if you keep going the same direction again and again, go faster.) \n",
    "위 두 그래프가 말하는 바가 무엇일까?**\n",
    "\n",
    "어쨌든 저 두 결과의 결합이 바로 우리가 지금까지 써온 cycle의 의미이다."
   ]
  },
  {
   "cell_type": "markdown",
   "metadata": {},
   "source": [
    "*네 https://github.com/hiromis/notes/blob/master/Lesson5.md 수업 노트 다시 읽어 보시면 아마 도움이 될 듯. *\n",
    "\n",
    "*learning rate와 momentum 추가 설명 : https://machinelearningmastery.com/learning-rate-for-deep-learning-neural-networks/*\n",
    "\n",
    "*SGD with momentum 얘기 : https://towardsdatascience.com/stochastic-gradient-descent-with-momentum-a84097641a5d*\n",
    "\n",
    "*링크 보시고 질문이 더 있으면 말씀해 주세요*"
   ]
  },
  {
   "cell_type": "code",
   "execution_count": 41,
   "metadata": {
    "colab": {
     "base_uri": "https://localhost:8080/",
     "height": 279
    },
    "colab_type": "code",
    "id": "NmISjDkuVfwO",
    "outputId": "83b10b16-944f-4411-f4be-48cee742de51"
   },
   "outputs": [
    {
     "data": {
      "image/png": "[encoded data removed]",
      "text/plain": [
       "<Figure size 432x288 with 1 Axes>"
      ]
     },
     "metadata": {
      "needs_background": "light",
      "tags": []
     },
     "output_type": "display_data"
    }
   ],
   "source": [
    "learn.recorder.plot_losses()"
   ]
  },
  {
   "cell_type": "markdown",
   "metadata": {
    "colab_type": "text",
    "id": "5IMe2eZyVfwQ"
   },
   "source": [
    "## fin"
   ]
  },
  {
   "cell_type": "code",
   "execution_count": null,
   "metadata": {
    "colab": {},
    "colab_type": "code",
    "id": "sV55WM7GVfwR"
   },
   "outputs": [],
   "source": []
  }
 ],
 "metadata": {
  "accelerator": "GPU",
  "colab": {
   "collapsed_sections": [],
   "name": "exercise_6_2.ipynb",
   "provenance": []
  },
  "kernelspec": {
   "display_name": "Python 3",
   "language": "python",
   "name": "python3"
  },
  "language_info": {
   "codemirror_mode": {
    "name": "ipython",
    "version": 3
   },
   "file_extension": ".py",
   "mimetype": "text/x-python",
   "name": "python",
   "nbconvert_exporter": "python",
   "pygments_lexer": "ipython3",
   "version": "3.8.2"
  }
 },
 "nbformat": 4,
 "nbformat_minor": 4
}
